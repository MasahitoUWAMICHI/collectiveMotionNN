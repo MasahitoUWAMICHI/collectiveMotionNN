{
 "cells": [
  {
   "cell_type": "markdown",
   "metadata": {
    "id": "tGwmpc9Bbi7G"
   },
   "source": [
    "TorchSDE\n",
    "https://github.com/google-research/torchsde\n",
    "\n",
    "Hiraiwa Model\n",
    "https://link.aps.org/doi/10.1103/PhysRevLett.125.268104"
   ]
  },
  {
   "cell_type": "code",
   "execution_count": 21,
   "metadata": {
    "ExecuteTime": {
     "end_time": "2022-10-25T09:04:25.503414Z",
     "start_time": "2022-10-25T09:04:24.548020Z"
    }
   },
   "outputs": [
    {
     "name": "stdout",
     "output_type": "stream",
     "text": [
      "Package                           Version     Editable project location\r\n",
      "--------------------------------- ----------- -------------------------------------\r\n",
      "alabaster                         0.7.12\r\n",
      "alembic                           1.8.1\r\n",
      "anyio                             3.6.1\r\n",
      "argon2-cffi                       21.3.0\r\n",
      "argon2-cffi-bindings              21.2.0\r\n",
      "asttokens                         2.0.5\r\n",
      "attrs                             21.4.0\r\n",
      "autopage                          0.5.1\r\n",
      "autopep8                          1.7.0\r\n",
      "Babel                             2.10.3\r\n",
      "backcall                          0.2.0\r\n",
      "beautifulsoup4                    4.11.1\r\n",
      "bleach                            5.0.0\r\n",
      "boltons                           21.0.0\r\n",
      "certifi                           2022.6.15\r\n",
      "cffi                              1.15.0\r\n",
      "charset-normalizer                2.0.12\r\n",
      "click                             8.1.3\r\n",
      "cliff                             4.0.0\r\n",
      "cmaes                             0.8.2\r\n",
      "cmd2                              2.4.2\r\n",
      "colorlog                          6.7.0\r\n",
      "cupy-cuda111                      11.0.0\r\n",
      "cvxopt                            1.3.0\r\n",
      "cycler                            0.11.0\r\n",
      "dataclasses                       0.6\r\n",
      "debugpy                           1.6.0\r\n",
      "decorator                         5.1.1\r\n",
      "defusedxml                        0.7.1\r\n",
      "dgl-cu113                         0.9.1\r\n",
      "dglgo                             0.0.2\r\n",
      "docutils                          0.19\r\n",
      "entrypoints                       0.4\r\n",
      "executing                         0.8.3\r\n",
      "fastjsonschema                    2.15.3\r\n",
      "fastrlock                         0.8\r\n",
      "fonttools                         4.33.3\r\n",
      "future                            0.18.2\r\n",
      "greenlet                          1.1.3\r\n",
      "gurobipy                          9.1.1\r\n",
      "idna                              3.3\r\n",
      "imagecodecs                       2021.1.11\r\n",
      "imageio                           2.9.0\r\n",
      "imagesize                         1.4.1\r\n",
      "imgaug                            0.4.0\r\n",
      "importlib-metadata                4.11.4\r\n",
      "importlib-resources               5.8.0\r\n",
      "ipykernel                         6.15.0\r\n",
      "ipython                           8.4.0\r\n",
      "ipython-genutils                  0.2.0\r\n",
      "ipywidgets                        7.7.0\r\n",
      "isort                             5.10.1\r\n",
      "jedi                              0.18.1\r\n",
      "Jinja2                            3.1.2\r\n",
      "joblib                            1.1.0\r\n",
      "json5                             0.9.8\r\n",
      "jsonschema                        4.6.0\r\n",
      "jupyter                           1.0.0\r\n",
      "jupyter-client                    7.3.4\r\n",
      "jupyter-console                   6.4.3\r\n",
      "jupyter-contrib-core              0.3.3\r\n",
      "jupyter-contrib-nbextensions      0.5.1\r\n",
      "jupyter-core                      4.10.0\r\n",
      "jupyter-highlight-selected-word   0.2.0\r\n",
      "jupyter-latex-envs                1.4.6\r\n",
      "jupyter-nbextensions-configurator 0.4.1\r\n",
      "jupyter-server                    1.17.1\r\n",
      "jupyterlab                        3.4.3\r\n",
      "jupyterlab-pygments               0.2.2\r\n",
      "jupyterlab-server                 2.14.0\r\n",
      "jupyterlab-widgets                1.1.0\r\n",
      "kit-sch-ge-cell-tracking          1.0.0       /home/uwamichi/git/2021-cell-tracking\r\n",
      "kiwisolver                        1.4.3\r\n",
      "littleutils                       0.2.2\r\n",
      "lxml                              4.9.1\r\n",
      "Mako                              1.2.2\r\n",
      "MarkupSafe                        2.1.1\r\n",
      "matplotlib                        3.5.2\r\n",
      "matplotlib-inline                 0.1.3\r\n",
      "mistune                           0.8.4\r\n",
      "nbclassic                         0.3.7\r\n",
      "nbclient                          0.6.4\r\n",
      "nbconvert                         6.5.0\r\n",
      "nbformat                          5.4.0\r\n",
      "nest-asyncio                      1.5.5\r\n",
      "networkx                          2.8.4\r\n",
      "notebook                          6.4.12\r\n",
      "notebook-shim                     0.1.0\r\n",
      "numpy                             1.23.1\r\n",
      "numpydoc                          1.5.0\r\n",
      "ogb                               1.3.4\r\n",
      "opencv-python                     4.6.0.66\r\n",
      "optuna                            3.0.1\r\n",
      "outdated                          0.2.1\r\n",
      "packaging                         21.3\r\n",
      "pandas                            1.4.2\r\n",
      "pandocfilters                     1.5.0\r\n",
      "parso                             0.8.3\r\n",
      "pbr                               5.10.0\r\n",
      "pexpect                           4.8.0\r\n",
      "pickleshare                       0.7.5\r\n",
      "Pillow                            8.1.0\r\n",
      "pip                               22.2.2\r\n",
      "prettytable                       3.4.1\r\n",
      "prometheus-client                 0.14.1\r\n",
      "prompt-toolkit                    3.0.29\r\n",
      "psutil                            5.9.1\r\n",
      "ptyprocess                        0.7.0\r\n",
      "pure-eval                         0.2.2\r\n",
      "pycodestyle                       2.9.1\r\n",
      "pycparser                         2.21\r\n",
      "pydantic                          1.10.2\r\n",
      "Pygments                          2.12.0\r\n",
      "pyparsing                         3.0.9\r\n",
      "pyperclip                         1.8.2\r\n",
      "pyrsistent                        0.18.1\r\n",
      "python-dateutil                   2.8.2\r\n",
      "pytz                              2022.1\r\n",
      "PyWavelets                        1.3.0\r\n",
      "PyYAML                            6.0\r\n",
      "pyzmq                             23.1.0\r\n",
      "qtconsole                         5.3.1\r\n",
      "QtPy                              2.1.0\r\n",
      "rdkit-pypi                        2022.3.5\r\n",
      "requests                          2.28.0\r\n",
      "ruamel.yaml                       0.17.21\r\n",
      "ruamel.yaml.clib                  0.2.7\r\n",
      "scikit-image                      0.18.1\r\n",
      "scikit-learn                      1.1.1\r\n",
      "scipy                             1.8.1\r\n",
      "Send2Trash                        1.8.0\r\n",
      "setuptools                        65.3.0\r\n",
      "Shapely                           1.8.2\r\n",
      "six                               1.16.0\r\n",
      "sniffio                           1.2.0\r\n",
      "snowballstemmer                   2.2.0\r\n",
      "soupsieve                         2.3.2.post1\r\n",
      "Sphinx                            5.3.0\r\n",
      "sphinxcontrib-applehelp           1.0.2\r\n",
      "sphinxcontrib-devhelp             1.0.2\r\n",
      "sphinxcontrib-htmlhelp            2.0.0\r\n",
      "sphinxcontrib-jsmath              1.0.1\r\n",
      "sphinxcontrib-qthelp              1.0.3\r\n",
      "sphinxcontrib-serializinghtml     1.1.5\r\n",
      "SQLAlchemy                        1.4.41\r\n",
      "stack-data                        0.3.0\r\n",
      "stevedore                         4.0.0\r\n",
      "terminado                         0.15.0\r\n",
      "threadpoolctl                     3.1.0\r\n",
      "tifffile                          2021.1.14\r\n",
      "tinycss2                          1.1.1\r\n",
      "toml                              0.10.2\r\n",
      "torch                             1.12.1\r\n",
      "torch-cluster                     1.6.0\r\n",
      "torch-geometric                   2.1.0.post1\r\n",
      "torch-scatter                     2.0.9\r\n",
      "torch-sparse                      0.6.15\r\n",
      "torch-spline-conv                 1.2.1\r\n",
      "torchdiffeq                       0.2.3\r\n",
      "torchsde                          0.2.5\r\n",
      "torchvision                       0.13.1\r\n",
      "tornado                           6.1\r\n",
      "tqdm                              4.64.1\r\n",
      "traitlets                         5.3.0\r\n",
      "trampoline                        0.1.2\r\n",
      "typer                             0.6.1\r\n",
      "typing_extensions                 4.2.0\r\n",
      "urllib3                           1.26.9\r\n",
      "wcwidth                           0.2.5\r\n",
      "webencodings                      0.5.1\r\n",
      "websocket-client                  1.3.2\r\n",
      "widgetsnbextension                3.6.0\r\n",
      "zipp                              3.8.0\r\n",
      "\r\n",
      "\u001b[1m[\u001b[0m\u001b[34;49mnotice\u001b[0m\u001b[1;39;49m]\u001b[0m\u001b[39;49m A new release of pip available: \u001b[0m\u001b[31;49m22.2.2\u001b[0m\u001b[39;49m -> \u001b[0m\u001b[32;49m22.3\u001b[0m\r\n",
      "\u001b[1m[\u001b[0m\u001b[34;49mnotice\u001b[0m\u001b[1;39;49m]\u001b[0m\u001b[39;49m To update, run: \u001b[0m\u001b[32;49mpip install --upgrade pip\u001b[0m\r\n"
     ]
    }
   ],
   "source": [
    "!pip list"
   ]
  },
  {
   "cell_type": "markdown",
   "metadata": {
    "id": "UuGCcX1vhkdk"
   },
   "source": [
    "dy(t) = f(t, y(t)) dt + g(t, y(t)) dW(t) \n",
    "\n",
    "y(t0) = y0 "
   ]
  },
  {
   "cell_type": "code",
   "execution_count": 22,
   "metadata": {
    "ExecuteTime": {
     "end_time": "2022-10-25T09:04:25.516320Z",
     "start_time": "2022-10-25T09:04:25.509001Z"
    },
    "executionInfo": {
     "elapsed": 2864,
     "status": "ok",
     "timestamp": 1656902517638,
     "user": {
      "displayName": "上道 雅仁.",
      "userId": "02361249356017468398"
     },
     "user_tz": -540
    },
    "id": "a7lHlH_blP99"
   },
   "outputs": [],
   "source": [
    "import numpy as np\n",
    "import torch\n",
    "from torch import nn\n",
    "from torchsde import BrownianInterval, sdeint\n",
    "import matplotlib.pyplot as plt\n",
    "from ipywidgets import interact"
   ]
  },
  {
   "cell_type": "code",
   "execution_count": 23,
   "metadata": {
    "ExecuteTime": {
     "end_time": "2022-10-25T09:04:25.525895Z",
     "start_time": "2022-10-25T09:04:25.520932Z"
    }
   },
   "outputs": [],
   "source": [
    "from scipy import special\n",
    "from torch.autograd import Function"
   ]
  },
  {
   "cell_type": "code",
   "execution_count": 24,
   "metadata": {
    "ExecuteTime": {
     "end_time": "2022-10-25T09:04:25.539990Z",
     "start_time": "2022-10-25T09:04:25.532392Z"
    }
   },
   "outputs": [
    {
     "name": "stdout",
     "output_type": "stream",
     "text": [
      "2\n",
      "NVIDIA TITAN V\n",
      "NVIDIA GeForce GTX 1080\n"
     ]
    }
   ],
   "source": [
    "print(torch.cuda.device_count())\n",
    "print(torch.cuda.get_device_name(torch.device('cuda:0')))\n",
    "print(torch.cuda.get_device_name(torch.device('cuda:1')))"
   ]
  },
  {
   "cell_type": "code",
   "execution_count": 39,
   "metadata": {
    "ExecuteTime": {
     "end_time": "2022-10-26T08:54:57.600912Z",
     "start_time": "2022-10-26T08:54:57.590132Z"
    }
   },
   "outputs": [],
   "source": [
    "import datetime\n",
    "import os\n",
    "import codecs\n",
    "\n",
    "paramdir = './HiraiwaModel_chem20220922_180005/'\n",
    "\n",
    "params = np.load(paramdir+'/params.npz', allow_pickle=True)\n"
   ]
  },
  {
   "cell_type": "code",
   "execution_count": 40,
   "metadata": {
    "ExecuteTime": {
     "end_time": "2022-10-26T08:54:57.620238Z",
     "start_time": "2022-10-26T08:54:57.608146Z"
    }
   },
   "outputs": [
    {
     "name": "stdout",
     "output_type": "stream",
     "text": [
      "20\n"
     ]
    }
   ],
   "source": [
    "print(params['L'])"
   ]
  },
  {
   "cell_type": "code",
   "execution_count": 41,
   "metadata": {
    "ExecuteTime": {
     "end_time": "2022-10-26T08:54:57.650521Z",
     "start_time": "2022-10-26T08:54:57.624034Z"
    },
    "executionInfo": {
     "elapsed": 263,
     "status": "ok",
     "timestamp": 1656907375154,
     "user": {
      "displayName": "上道 雅仁.",
      "userId": "02361249356017468398"
     },
     "user_tz": -540
    },
    "id": "0sIBJJp_I8em"
   },
   "outputs": [],
   "source": [
    "device = 'cuda:1' if torch.cuda.is_available() else 'cpu'\n",
    "\n",
    "# boundary conditions (L=100 in article)\n",
    "L = params['L'].item()\n",
    "periodic = params['periodic']\n",
    "\n",
    "# particle density (1 in article)\n",
    "rho = params['rho'].item()\n",
    "\n",
    "# numbers of cells, freedom, and noise source\n",
    "batch_size = params['batch_size']\n",
    "state_size = params['state_size']\n",
    "brownian_size = params['brownian_size']\n",
    "\n",
    "# ratio of cells for each cell type\n",
    "cellType_ratio = params['cellType_ratio']\n",
    "quiv_colors = params['quiv_colors']\n",
    "\n",
    "# nondimensionalize by setting 1\n",
    "v0 = params['v0'].item()\n",
    "r = params['r'].item()\n",
    "\n",
    "# fixed noise strength (0.1 in article)\n",
    "D = params['D'].item()\n",
    "\n",
    "# external directional bias (0 or 0.1 in article)\n",
    "A = params['A'].item()\n",
    "\n",
    "# strength of excluded volume force (fixed at 1)\n",
    "beta = params['beta'].item()\n",
    "\n",
    "# strength of contact following, contact inhibition of locomotion\n",
    "A_CFs = params['A_CFs']\n",
    "A_CIL = params['A_CIL'].item()\n",
    "\n",
    "# inverse length scale of chemotaxis\n",
    "kappa = params['kappa'].item()\n",
    "\n",
    "# strength of chemotaxis\n",
    "A_Macdonalds = params['A_Macdonalds']\n",
    "\n",
    "# duration of simulation (6400 in the article)\n",
    "t_max =  params['t_max'].item()\n",
    "\n",
    "# method to solve SDE\n",
    "methodSDE = params['methodSDE'].item()\n",
    "isIto = params['isIto'].item()\n",
    "\n",
    "# time step to simulate\n",
    "stepSDE = params['stepSDE'].item()\n"
   ]
  },
  {
   "cell_type": "code",
   "execution_count": 42,
   "metadata": {
    "ExecuteTime": {
     "end_time": "2022-10-26T08:54:57.660369Z",
     "start_time": "2022-10-26T08:54:57.656918Z"
    }
   },
   "outputs": [
    {
     "name": "stdout",
     "output_type": "stream",
     "text": [
      "1000\n"
     ]
    }
   ],
   "source": [
    "print(t_max)"
   ]
  },
  {
   "cell_type": "code",
   "execution_count": 43,
   "metadata": {
    "ExecuteTime": {
     "end_time": "2022-10-26T08:54:57.678945Z",
     "start_time": "2022-10-26T08:54:57.662606Z"
    }
   },
   "outputs": [
    {
     "name": "stdout",
     "output_type": "stream",
     "text": [
      "400\n",
      "400\n"
     ]
    }
   ],
   "source": [
    "A_CF = torch.zeros([batch_size, 1], device=device)\n",
    "A_Macdonald = torch.zeros([batch_size, 1], device=device)\n",
    "quiv_label = np.full([batch_size], '')\n",
    "celltype_label = torch.zeros([batch_size], device=device)\n",
    "count = 0\n",
    "for ict, ctr in enumerate(cellType_ratio):\n",
    "    Nct = int(batch_size*ctr) + count\n",
    "    celltype_label[count:Nct] = ict\n",
    "    A_CF[count:Nct, 0] = A_CFs[ict]\n",
    "    A_Macdonald[count:Nct, 0] = A_Macdonalds[ict]\n",
    "    quiv_label[count:Nct] = quiv_colors[ict]\n",
    "    count = Nct\n",
    "#A_CF = torch.tensor(A_CF, device=device)\n",
    "#quiv_clims = [quiv_label.min, quiv_label.max]\n",
    "print(count)\n",
    "print(batch_size)"
   ]
  },
  {
   "cell_type": "code",
   "execution_count": 44,
   "metadata": {
    "ExecuteTime": {
     "end_time": "2022-10-26T08:54:57.726811Z",
     "start_time": "2022-10-26T08:54:57.689622Z"
    }
   },
   "outputs": [
    {
     "name": "stdout",
     "output_type": "stream",
     "text": [
      "tensor([[0.9000],\n",
      "        [0.9000],\n",
      "        [0.9000],\n",
      "        [0.9000],\n",
      "        [0.9000],\n",
      "        [0.9000],\n",
      "        [0.9000],\n",
      "        [0.9000],\n",
      "        [0.9000],\n",
      "        [0.9000],\n",
      "        [0.9000],\n",
      "        [0.9000],\n",
      "        [0.9000],\n",
      "        [0.9000],\n",
      "        [0.9000],\n",
      "        [0.9000],\n",
      "        [0.9000],\n",
      "        [0.9000],\n",
      "        [0.9000],\n",
      "        [0.9000],\n",
      "        [0.9000],\n",
      "        [0.9000],\n",
      "        [0.9000],\n",
      "        [0.9000],\n",
      "        [0.9000],\n",
      "        [0.9000],\n",
      "        [0.9000],\n",
      "        [0.9000],\n",
      "        [0.9000],\n",
      "        [0.9000],\n",
      "        [0.9000],\n",
      "        [0.9000],\n",
      "        [0.9000],\n",
      "        [0.9000],\n",
      "        [0.9000],\n",
      "        [0.9000],\n",
      "        [0.9000],\n",
      "        [0.9000],\n",
      "        [0.9000],\n",
      "        [0.9000],\n",
      "        [0.9000],\n",
      "        [0.9000],\n",
      "        [0.9000],\n",
      "        [0.9000],\n",
      "        [0.9000],\n",
      "        [0.9000],\n",
      "        [0.9000],\n",
      "        [0.9000],\n",
      "        [0.9000],\n",
      "        [0.9000],\n",
      "        [0.9000],\n",
      "        [0.9000],\n",
      "        [0.9000],\n",
      "        [0.9000],\n",
      "        [0.9000],\n",
      "        [0.9000],\n",
      "        [0.9000],\n",
      "        [0.9000],\n",
      "        [0.9000],\n",
      "        [0.9000],\n",
      "        [0.9000],\n",
      "        [0.9000],\n",
      "        [0.9000],\n",
      "        [0.9000],\n",
      "        [0.9000],\n",
      "        [0.9000],\n",
      "        [0.9000],\n",
      "        [0.9000],\n",
      "        [0.9000],\n",
      "        [0.9000],\n",
      "        [0.9000],\n",
      "        [0.9000],\n",
      "        [0.9000],\n",
      "        [0.9000],\n",
      "        [0.9000],\n",
      "        [0.9000],\n",
      "        [0.9000],\n",
      "        [0.9000],\n",
      "        [0.9000],\n",
      "        [0.9000],\n",
      "        [0.9000],\n",
      "        [0.9000],\n",
      "        [0.9000],\n",
      "        [0.9000],\n",
      "        [0.9000],\n",
      "        [0.9000],\n",
      "        [0.9000],\n",
      "        [0.9000],\n",
      "        [0.9000],\n",
      "        [0.9000],\n",
      "        [0.9000],\n",
      "        [0.9000],\n",
      "        [0.9000],\n",
      "        [0.9000],\n",
      "        [0.9000],\n",
      "        [0.9000],\n",
      "        [0.9000],\n",
      "        [0.9000],\n",
      "        [0.9000],\n",
      "        [0.9000],\n",
      "        [0.9000],\n",
      "        [0.9000],\n",
      "        [0.9000],\n",
      "        [0.9000],\n",
      "        [0.9000],\n",
      "        [0.9000],\n",
      "        [0.9000],\n",
      "        [0.9000],\n",
      "        [0.9000],\n",
      "        [0.9000],\n",
      "        [0.9000],\n",
      "        [0.9000],\n",
      "        [0.9000],\n",
      "        [0.9000],\n",
      "        [0.9000],\n",
      "        [0.9000],\n",
      "        [0.9000],\n",
      "        [0.9000],\n",
      "        [0.9000],\n",
      "        [0.9000],\n",
      "        [0.9000],\n",
      "        [0.9000],\n",
      "        [0.9000],\n",
      "        [0.9000],\n",
      "        [0.9000],\n",
      "        [0.9000],\n",
      "        [0.9000],\n",
      "        [0.9000],\n",
      "        [0.9000],\n",
      "        [0.9000],\n",
      "        [0.9000],\n",
      "        [0.9000],\n",
      "        [0.9000],\n",
      "        [0.9000],\n",
      "        [0.9000],\n",
      "        [0.9000],\n",
      "        [0.9000],\n",
      "        [0.9000],\n",
      "        [0.9000],\n",
      "        [0.9000],\n",
      "        [0.9000],\n",
      "        [0.9000],\n",
      "        [0.9000],\n",
      "        [0.9000],\n",
      "        [0.9000],\n",
      "        [0.9000],\n",
      "        [0.9000],\n",
      "        [0.9000],\n",
      "        [0.9000],\n",
      "        [0.9000],\n",
      "        [0.9000],\n",
      "        [0.9000],\n",
      "        [0.9000],\n",
      "        [0.9000],\n",
      "        [0.9000],\n",
      "        [0.9000],\n",
      "        [0.9000],\n",
      "        [0.9000],\n",
      "        [0.9000],\n",
      "        [0.9000],\n",
      "        [0.9000],\n",
      "        [0.9000],\n",
      "        [0.9000],\n",
      "        [0.9000],\n",
      "        [0.9000],\n",
      "        [0.9000],\n",
      "        [0.9000],\n",
      "        [0.9000],\n",
      "        [0.9000],\n",
      "        [0.9000],\n",
      "        [0.9000],\n",
      "        [0.9000],\n",
      "        [0.9000],\n",
      "        [0.9000],\n",
      "        [0.9000],\n",
      "        [0.9000],\n",
      "        [0.9000],\n",
      "        [0.9000],\n",
      "        [0.9000],\n",
      "        [0.9000],\n",
      "        [0.9000],\n",
      "        [0.9000],\n",
      "        [0.9000],\n",
      "        [0.9000],\n",
      "        [0.9000],\n",
      "        [0.9000],\n",
      "        [0.9000],\n",
      "        [0.9000],\n",
      "        [0.9000],\n",
      "        [0.9000],\n",
      "        [0.9000],\n",
      "        [0.9000],\n",
      "        [0.9000],\n",
      "        [0.9000],\n",
      "        [0.9000],\n",
      "        [0.9000],\n",
      "        [0.9000],\n",
      "        [0.9000],\n",
      "        [0.9000],\n",
      "        [0.9000],\n",
      "        [0.9000],\n",
      "        [0.9000],\n",
      "        [0.9000],\n",
      "        [0.9000],\n",
      "        [0.9000],\n",
      "        [0.9000],\n",
      "        [0.9000],\n",
      "        [0.9000],\n",
      "        [0.9000],\n",
      "        [0.9000],\n",
      "        [0.9000],\n",
      "        [0.9000],\n",
      "        [0.9000],\n",
      "        [0.9000],\n",
      "        [0.9000],\n",
      "        [0.9000],\n",
      "        [0.9000],\n",
      "        [0.9000],\n",
      "        [0.9000],\n",
      "        [0.9000],\n",
      "        [0.9000],\n",
      "        [0.9000],\n",
      "        [0.9000],\n",
      "        [0.9000],\n",
      "        [0.9000],\n",
      "        [0.9000],\n",
      "        [0.9000],\n",
      "        [0.9000],\n",
      "        [0.9000],\n",
      "        [0.9000],\n",
      "        [0.9000],\n",
      "        [0.9000],\n",
      "        [0.9000],\n",
      "        [0.9000],\n",
      "        [0.9000],\n",
      "        [0.9000],\n",
      "        [0.9000],\n",
      "        [0.9000],\n",
      "        [0.9000],\n",
      "        [0.9000],\n",
      "        [0.9000],\n",
      "        [0.9000],\n",
      "        [0.9000],\n",
      "        [0.9000],\n",
      "        [0.9000],\n",
      "        [0.9000],\n",
      "        [0.9000],\n",
      "        [0.9000],\n",
      "        [0.9000],\n",
      "        [0.9000],\n",
      "        [0.9000],\n",
      "        [0.9000],\n",
      "        [0.9000],\n",
      "        [0.9000],\n",
      "        [0.9000],\n",
      "        [0.9000],\n",
      "        [0.9000],\n",
      "        [0.9000],\n",
      "        [0.9000],\n",
      "        [0.9000],\n",
      "        [0.9000],\n",
      "        [0.9000],\n",
      "        [0.9000],\n",
      "        [0.9000],\n",
      "        [0.9000],\n",
      "        [0.9000],\n",
      "        [0.9000],\n",
      "        [0.9000],\n",
      "        [0.9000],\n",
      "        [0.9000],\n",
      "        [0.9000],\n",
      "        [0.9000],\n",
      "        [0.9000],\n",
      "        [0.9000],\n",
      "        [0.9000],\n",
      "        [0.9000],\n",
      "        [0.9000],\n",
      "        [0.9000],\n",
      "        [0.9000],\n",
      "        [0.9000],\n",
      "        [0.5000],\n",
      "        [0.5000],\n",
      "        [0.5000],\n",
      "        [0.5000],\n",
      "        [0.5000],\n",
      "        [0.5000],\n",
      "        [0.5000],\n",
      "        [0.5000],\n",
      "        [0.5000],\n",
      "        [0.5000],\n",
      "        [0.5000],\n",
      "        [0.5000],\n",
      "        [0.5000],\n",
      "        [0.5000],\n",
      "        [0.5000],\n",
      "        [0.5000],\n",
      "        [0.5000],\n",
      "        [0.5000],\n",
      "        [0.5000],\n",
      "        [0.5000],\n",
      "        [0.5000],\n",
      "        [0.5000],\n",
      "        [0.5000],\n",
      "        [0.5000],\n",
      "        [0.5000],\n",
      "        [0.5000],\n",
      "        [0.5000],\n",
      "        [0.5000],\n",
      "        [0.5000],\n",
      "        [0.5000],\n",
      "        [0.5000],\n",
      "        [0.5000],\n",
      "        [0.5000],\n",
      "        [0.5000],\n",
      "        [0.5000],\n",
      "        [0.5000],\n",
      "        [0.5000],\n",
      "        [0.5000],\n",
      "        [0.5000],\n",
      "        [0.5000],\n",
      "        [0.5000],\n",
      "        [0.5000],\n",
      "        [0.5000],\n",
      "        [0.5000],\n",
      "        [0.5000],\n",
      "        [0.5000],\n",
      "        [0.5000],\n",
      "        [0.5000],\n",
      "        [0.5000],\n",
      "        [0.5000],\n",
      "        [0.5000],\n",
      "        [0.5000],\n",
      "        [0.5000],\n",
      "        [0.5000],\n",
      "        [0.5000],\n",
      "        [0.5000],\n",
      "        [0.5000],\n",
      "        [0.5000],\n",
      "        [0.5000],\n",
      "        [0.5000],\n",
      "        [0.5000],\n",
      "        [0.5000],\n",
      "        [0.5000],\n",
      "        [0.5000],\n",
      "        [0.5000],\n",
      "        [0.5000],\n",
      "        [0.5000],\n",
      "        [0.5000],\n",
      "        [0.5000],\n",
      "        [0.5000],\n",
      "        [0.5000],\n",
      "        [0.5000],\n",
      "        [0.5000],\n",
      "        [0.5000],\n",
      "        [0.5000],\n",
      "        [0.5000],\n",
      "        [0.5000],\n",
      "        [0.5000],\n",
      "        [0.5000],\n",
      "        [0.5000],\n",
      "        [0.5000],\n",
      "        [0.5000],\n",
      "        [0.5000],\n",
      "        [0.5000],\n",
      "        [0.5000],\n",
      "        [0.5000],\n",
      "        [0.5000],\n",
      "        [0.5000],\n",
      "        [0.5000],\n",
      "        [0.5000],\n",
      "        [0.5000],\n",
      "        [0.5000],\n",
      "        [0.5000],\n",
      "        [0.5000],\n",
      "        [0.5000],\n",
      "        [0.5000],\n",
      "        [0.5000],\n",
      "        [0.5000],\n",
      "        [0.5000],\n",
      "        [0.5000],\n",
      "        [0.5000],\n",
      "        [0.5000],\n",
      "        [0.5000],\n",
      "        [0.5000],\n",
      "        [0.5000],\n",
      "        [0.5000],\n",
      "        [0.5000],\n",
      "        [0.5000],\n",
      "        [0.5000],\n",
      "        [0.5000],\n",
      "        [0.5000],\n",
      "        [0.5000],\n",
      "        [0.5000],\n",
      "        [0.5000],\n",
      "        [0.5000],\n",
      "        [0.5000],\n",
      "        [0.5000],\n",
      "        [0.5000],\n",
      "        [0.5000],\n",
      "        [0.5000]], device='cuda:1')\n"
     ]
    }
   ],
   "source": [
    "print(A_CF)"
   ]
  },
  {
   "cell_type": "code",
   "execution_count": 45,
   "metadata": {
    "ExecuteTime": {
     "end_time": "2022-10-26T08:54:57.741048Z",
     "start_time": "2022-10-26T08:54:57.729478Z"
    }
   },
   "outputs": [],
   "source": [
    "class torch_knFunction(Function):\n",
    "    @staticmethod\n",
    "    def forward(ctx, input, n):\n",
    "        numpy_input = input.cpu().detach().numpy()\n",
    "        result = special.kn(n, numpy_input)\n",
    "        return torch.as_tensor(result, dtype=input.dtype, device=device)\n",
    "    \n",
    "    @staticmethod\n",
    "    def backward(ctx, grad_output):\n",
    "        numpy_go = grad_output.cpu().detach().numpy()\n",
    "        input, n = ctx.saved_tensors\n",
    "        numpy_input = input.cpu().detach().numpy()\n",
    "        if n==0:\n",
    "            grad_kn = -special.kn(1, numpy_input)\n",
    "        else:\n",
    "            grad_kn = -(special.kn(n-1, numpy_input) + special.kn(n+1, numpy_input))/2\n",
    "        result = numpy_go * grad_kn\n",
    "        return torch.as_tensor(result, dtype=input.dtype, device=device)\n",
    "\n",
    "class torch_kn(nn.Module):\n",
    "    def __init__(self, n):\n",
    "        super(torch_kn, self).__init__()\n",
    "        self.n = n\n",
    "        \n",
    "    def forward(self, input):\n",
    "        return torch_knFunction.apply(input, self.n)\n",
    "    \n",
    "torch_scipy_k0 = torch_kn(0)\n",
    "torch_scipy_k1 = torch_kn(1)\n",
    "\n",
    "cutoff = torch.tensor([3.5], device = device)\n",
    "k1_cutoff = torch_scipy_k1(cutoff)\n",
    "\n",
    "func_cutoff = nn.ReLU()\n",
    "\n",
    "def torch_scipy_k1_cutoff(x):\n",
    "    return func_cutoff(torch_scipy_k1(x) - k1_cutoff)"
   ]
  },
  {
   "cell_type": "code",
   "execution_count": 46,
   "metadata": {
    "ExecuteTime": {
     "end_time": "2022-10-26T08:54:57.962332Z",
     "start_time": "2022-10-26T08:54:57.745169Z"
    }
   },
   "outputs": [
    {
     "data": {
      "text/plain": [
       "[<matplotlib.lines.Line2D at 0x7fa6fb9737c0>]"
      ]
     },
     "execution_count": 46,
     "metadata": {},
     "output_type": "execute_result"
    },
    {
     "data": {
      "image/png": "[encoded data removed]",
      "text/plain": [
       "<Figure size 432x288 with 1 Axes>"
      ]
     },
     "metadata": {
      "needs_background": "light"
     },
     "output_type": "display_data"
    }
   ],
   "source": [
    "test_kn = torch.tensor(np.arange(0, 5, 0.1), device=device)\n",
    "out_k0 = torch_scipy_k0(test_kn)\n",
    "out_k1 = torch_scipy_k1(test_kn)\n",
    "out_k1_cutoff = torch_scipy_k1_cutoff(test_kn)\n",
    "fig, ax = plt.subplots()\n",
    "ax.plot(test_kn.cpu(), out_k0.cpu(), 'c-')\n",
    "ax.plot(test_kn.cpu(), out_k1.cpu(), 'm-')\n",
    "ax.plot(test_kn.cpu(), out_k1_cutoff.cpu(), 'r-')"
   ]
  },
  {
   "cell_type": "code",
   "execution_count": 47,
   "metadata": {
    "ExecuteTime": {
     "end_time": "2022-10-26T08:54:57.979626Z",
     "start_time": "2022-10-26T08:54:57.964831Z"
    }
   },
   "outputs": [
    {
     "name": "stdout",
     "output_type": "stream",
     "text": [
      "tensor([0.0000, 0.1000, 0.2000, 0.3000, 0.4000, 0.5000, 0.6000, 0.7000, 0.8000,\n",
      "        0.9000, 1.0000, 1.1000, 1.2000, 1.3000, 1.4000, 1.5000, 1.6000, 1.7000,\n",
      "        1.8000, 1.9000, 2.0000, 2.1000, 2.2000, 2.3000, 2.4000, 2.5000, 2.6000,\n",
      "        2.7000, 2.8000, 2.9000, 3.0000, 3.1000, 3.2000, 3.3000, 3.4000, 3.5000,\n",
      "        3.6000, 3.7000, 3.8000, 3.9000, 4.0000, 4.1000, 4.2000, 4.3000, 4.4000,\n",
      "        4.5000, 4.6000, 4.7000, 4.8000, 4.9000], device='cuda:1',\n",
      "       dtype=torch.float64)\n",
      "tensor([   inf, 2.4271, 1.7527, 1.3725, 1.1145, 0.9244, 0.7775, 0.6605, 0.5653,\n",
      "        0.4867, 0.4210, 0.3656, 0.3185, 0.2782, 0.2437, 0.2138, 0.1880, 0.1655,\n",
      "        0.1459, 0.1288, 0.1139, 0.1008, 0.0893, 0.0791, 0.0702, 0.0623, 0.0554,\n",
      "        0.0493, 0.0438, 0.0390, 0.0347, 0.0310, 0.0276, 0.0246, 0.0220, 0.0196,\n",
      "        0.0175, 0.0156, 0.0140, 0.0125, 0.0112, 0.0100, 0.0089, 0.0080, 0.0071,\n",
      "        0.0064, 0.0057, 0.0051, 0.0046, 0.0041], device='cuda:1',\n",
      "       dtype=torch.float64)\n",
      "tensor([       inf, 9.8538e+00, 4.7760e+00, 3.0560e+00, 2.1844e+00, 1.6564e+00,\n",
      "        1.3028e+00, 1.0503e+00, 8.6178e-01, 7.1653e-01, 6.0191e-01, 5.0976e-01,\n",
      "        4.3459e-01, 3.7255e-01, 3.2084e-01, 2.7739e-01, 2.4063e-01, 2.0936e-01,\n",
      "        1.8262e-01, 1.5966e-01, 1.3987e-01, 1.2275e-01, 1.0790e-01, 9.4982e-02,\n",
      "        8.3725e-02, 7.3891e-02, 6.5284e-02, 5.7738e-02, 5.1113e-02, 4.5286e-02,\n",
      "        4.0156e-02, 3.5634e-02, 3.1643e-02, 2.8117e-02, 2.4999e-02, 2.2239e-02,\n",
      "        1.9795e-02, 1.7628e-02, 1.5706e-02, 1.3999e-02, 1.2483e-02, 1.1136e-02,\n",
      "        9.9382e-03, 8.8722e-03, 7.9233e-03, 7.0781e-03, 6.3250e-03, 5.6538e-03,\n",
      "        5.0552e-03, 4.5212e-03], device='cuda:1', dtype=torch.float64)\n",
      "tensor([0.0222], device='cuda:1')\n",
      "tensor([       inf, 9.8316e+00, 4.7537e+00, 3.0338e+00, 2.1621e+00, 1.6342e+00,\n",
      "        1.2806e+00, 1.0280e+00, 8.3954e-01, 6.9429e-01, 5.7967e-01, 4.8752e-01,\n",
      "        4.1235e-01, 3.5031e-01, 2.9860e-01, 2.5515e-01, 2.1839e-01, 1.8712e-01,\n",
      "        1.6038e-01, 1.3742e-01, 1.1763e-01, 1.0051e-01, 8.5657e-02, 7.2743e-02,\n",
      "        6.1485e-02, 5.1651e-02, 4.3045e-02, 3.5499e-02, 2.8873e-02, 2.3047e-02,\n",
      "        1.7917e-02, 1.3395e-02, 9.4035e-03, 5.8775e-03, 2.7596e-03, 3.0262e-10,\n",
      "        0.0000e+00, 0.0000e+00, 0.0000e+00, 0.0000e+00, 0.0000e+00, 0.0000e+00,\n",
      "        0.0000e+00, 0.0000e+00, 0.0000e+00, 0.0000e+00, 0.0000e+00, 0.0000e+00,\n",
      "        0.0000e+00, 0.0000e+00], device='cuda:1', dtype=torch.float64)\n"
     ]
    }
   ],
   "source": [
    "print(test_kn)\n",
    "print(out_k0)\n",
    "print(out_k1)\n",
    "print(k1_cutoff)\n",
    "print(out_k1_cutoff)"
   ]
  },
  {
   "cell_type": "code",
   "execution_count": 48,
   "metadata": {
    "ExecuteTime": {
     "end_time": "2022-10-26T08:54:57.986340Z",
     "start_time": "2022-10-26T08:54:57.982006Z"
    }
   },
   "outputs": [],
   "source": [
    "def J_chemMacdonald(xy, d): # cutoff! --> shift the values\n",
    "    chemMag = torch_scipy_k1_cutoff(kappa * d) *(kappa/(2*np.pi))\n",
    "    xy = chemMag * xy\n",
    "    return torch.nansum(xy, dim=0, keepdim=False)    "
   ]
  },
  {
   "cell_type": "code",
   "execution_count": 49,
   "metadata": {
    "ExecuteTime": {
     "end_time": "2022-10-26T08:54:58.017495Z",
     "start_time": "2022-10-26T08:54:57.989412Z"
    },
    "executionInfo": {
     "elapsed": 5,
     "status": "ok",
     "timestamp": 1656907375432,
     "user": {
      "displayName": "上道 雅仁.",
      "userId": "02361249356017468398"
     },
     "user_tz": -540
    },
    "id": "VkZ8yC_plSH_"
   },
   "outputs": [],
   "source": [
    "if periodic:\n",
    "    def xy2distance(xy, L):\n",
    "        dx = xy[:, :1] - xy[:, :1].T   # neighbor - target\n",
    "        dy = xy[:, 1:] - xy[:, 1:].T\n",
    "        dx = dx % L\n",
    "        dy = dy % L\n",
    "        dx[dx > L/2] = dx[dx > L/2] - L\n",
    "        dy[dy > L/2] = dy[dy > L/2] - L\n",
    "        return [dx, dy]\n",
    "else:\n",
    "    def xy2distance(xy, L):\n",
    "        dx = xy[:, :1] - xy[:, :1].T\n",
    "        dy = xy[:, 1:] - xy[:, 1:].T\n",
    "        return [dx, dy]    \n",
    "\n",
    "def J_CF(xy, dr, q):\n",
    "    c = torch.unsqueeze(q[0], 1)   # cos, sin of neighbor\n",
    "    s = torch.unsqueeze(q[1], 1)\n",
    "    xy = (1 + xy[:,:,:1] * c + xy[:,:,1:] * s) * xy / 2\n",
    "    return torch.nansum(xy, dim=0, keepdim=False)\n",
    "\n",
    "def J_CIL(xy, d, r):\n",
    "    xy = ((r/d) - 1) * xy\n",
    "    return torch.nansum(xy, dim=0, keepdim=False)"
   ]
  },
  {
   "cell_type": "code",
   "execution_count": 50,
   "metadata": {
    "ExecuteTime": {
     "end_time": "2022-10-26T08:54:58.048661Z",
     "start_time": "2022-10-26T08:54:58.024445Z"
    },
    "executionInfo": {
     "elapsed": 5,
     "status": "ok",
     "timestamp": 1656907375433,
     "user": {
      "displayName": "上道 雅仁.",
      "userId": "02361249356017468398"
     },
     "user_tz": -540
    },
    "id": "-Mr9j5HWbly3"
   },
   "outputs": [],
   "source": [
    "class SDE(torch.nn.Module):\n",
    "    noise_type = 'scalar'\n",
    "    sde_type = 'ito' if isIto else 'stratonovich'\n",
    "\n",
    "    def __init__(self, L, periodic, v0, beta, A_CF, A_CIL, r, A, D):\n",
    "        super().__init__()\n",
    "        self.L = L\n",
    "        self.periodic = periodic\n",
    "        self.v0 = v0\n",
    "        self.beta = beta\n",
    "        self.A_CF = A_CF\n",
    "        self.A_CIL = A_CIL\n",
    "        self.r = r\n",
    "        self.A = A\n",
    "\n",
    "        self.sigma = torch.zeros((batch_size, state_size, 1), device=device)\n",
    "        self.sigma[:, 2, 0] = np.sqrt(2*D)\n",
    "        \n",
    "    # Drift\n",
    "    def f(self, t, y):\n",
    "#        print(y.shape)\n",
    "        xy = y[:, :2]\n",
    "#        if self.periodic:\n",
    "#            xy = xy % L\n",
    "        xy = xy2distance(xy, self.L)\n",
    "#        print(np.shape(xy))\n",
    "#        print(xy[0].shape)\n",
    "        xy = torch.cat((torch.unsqueeze(xy[0], 2), torch.unsqueeze(xy[1], 2)), 2)\n",
    "        d = torch.norm(xy, p='fro', dim=2, keepdim=True)   # distance\n",
    "        dr = torch.heaviside(self.r - d, torch.tensor([0.0], device=device))   # 1 if distance < r, else 0\n",
    "        xy = dr * torch.nn.functional.normalize(xy, p=2.0, dim=2)   # normalized distance vector\n",
    "        c = torch.cos(y[:, 2:])\n",
    "        s = torch.sin(y[:, 2:])\n",
    "\n",
    "        jcil = J_CIL(xy, d, self.r)\n",
    "        \n",
    "        jchem = J_chemMacdonald(xy, d)\n",
    "        \n",
    "        dx0 = self.v0 * torch.cat((c, s), 1)\n",
    "        dx1 = -self.beta * jcil\n",
    "        dtheta0 = self.A_CF * J_CF(xy, dr, [c,s]) - self.A_CIL * jcil\n",
    "        dtheta0 = c * dtheta0[:, 1:] - s * dtheta0[:, :1]\n",
    "        dtheta1 = self.A * c\n",
    "        dtheta2 = A_Macdonald * (c * jchem[:, 1:] - s * jchem[:, :1])\n",
    "        return torch.cat((dx0+dx1, dtheta0+dtheta1+dtheta2), 1)  # shape (batch_size, state_size)\n",
    "\n",
    "    # Diffusion\n",
    "    def g(self, t, y):\n",
    "        return self.sigma\n"
   ]
  },
  {
   "cell_type": "code",
   "execution_count": 51,
   "metadata": {
    "ExecuteTime": {
     "end_time": "2022-10-27T10:06:50.496285Z",
     "start_time": "2022-10-26T08:54:58.059021Z"
    },
    "executionInfo": {
     "elapsed": 1434,
     "status": "ok",
     "timestamp": 1656907376863,
     "user": {
      "displayName": "上道 雅仁.",
      "userId": "02361249356017468398"
     },
     "user_tz": -540
    },
    "id": "4cpbEOYbjGfI"
   },
   "outputs": [],
   "source": [
    "# Initial state y0, the SDE is solved over the interval [ts[0], ts[-1]].\n",
    "# ys will have shape (t_size, batch_size, state_size)\n",
    "\n",
    "ts = torch.linspace(0, t_max, t_max+1, device=device)\n",
    "\n",
    "for i_repeat in range(6):\n",
    "    y0 = torch.rand((batch_size, state_size))\n",
    "    y0 = torch.cat((y0[:,:2] * L, y0[:,2:] * (2*np.pi)), 1).to(device)\n",
    "\n",
    "\n",
    "    bm = BrownianInterval(t0=ts[0], \n",
    "                          t1=ts[-1], \n",
    "                          size=(batch_size, brownian_size),\n",
    "                          dt=stepSDE,\n",
    "                          device=device)\n",
    "\n",
    "    sde = SDE(L, periodic, v0, beta, A_CF, A_CIL, r, A, D)\n",
    "\n",
    "    ys = sdeint(sde, y0, ts, bm=bm, dt=stepSDE, method=methodSDE)\n",
    "\n",
    "    now = datetime.datetime.now()\n",
    "\n",
    "    savedir = paramdir + now.strftime('%Y%m%d_%H%M%S')\n",
    "    os.makedirs(savedir, exist_ok=True)\n",
    "\n",
    "    np.savez(os.path.join(savedir, 'result.npz'),\n",
    "             xy = ys[:,:,:2].cpu().detach().numpy() % L,\n",
    "             theta = ys[:,:,2].cpu().detach().numpy() % (2*np.pi),\n",
    "             celltype_label = celltype_label.cpu().detach().numpy())"
   ]
  },
  {
   "cell_type": "code",
   "execution_count": 52,
   "metadata": {
    "ExecuteTime": {
     "end_time": "2022-10-27T10:06:50.687794Z",
     "start_time": "2022-10-27T10:06:50.500440Z"
    },
    "id": "CboejMUecJie"
   },
   "outputs": [
    {
     "data": {
      "application/vnd.jupyter.widget-view+json": {
       "model_id": "66b73a97a7c64592b7685db772f93df7",
       "version_major": 2,
       "version_minor": 0
      },
      "text/plain": [
       "interactive(children=(IntSlider(value=500, description='t_plot', max=1000), Output()), _dom_classes=('widget-i…"
      ]
     },
     "metadata": {},
     "output_type": "display_data"
    }
   ],
   "source": [
    "cm = plt.cm.hsv\n",
    "\n",
    "@interact(t_plot=(0, ts.size()[0]-1))\n",
    "def f(t_plot):\n",
    "\n",
    "  x = ys[t_plot,:,0].cpu().detach().numpy() % L\n",
    "  y = ys[t_plot,:,1].cpu().detach().numpy() % L\n",
    "  theta = ys[t_plot,:,2].cpu().detach().numpy() % (2*np.pi)\n",
    "\n",
    "  fig, ax = plt.subplots()\n",
    "  plt.title(\"polarity t = \" + str(ts[t_plot].cpu().detach().numpy()))\n",
    "  ax.set_aspect('equal')\n",
    "  im = ax.quiver(x, y, np.cos(theta), np.sin(theta), color=quiv_label, scale = 1,scale_units='xy', pivot='mid')\n",
    "  plt.xlim(0, L)\n",
    "  plt.ylim(0, L)\n",
    "  #fig.colorbar(im)\n",
    "  #im.set_clim(0, 2*np.pi)\n"
   ]
  }
 ],
 "metadata": {
  "accelerator": "GPU",
  "colab": {
   "authorship_tag": "ABX9TyMX00cV3qdaHMTh1/ms14Y/",
   "collapsed_sections": [],
   "name": "HiraiwaModel_torchsde.ipynb",
   "provenance": []
  },
  "gpuClass": "standard",
  "kernelspec": {
   "display_name": "Python 3 (ipykernel)",
   "language": "python",
   "name": "python3"
  },
  "language_info": {
   "codemirror_mode": {
    "name": "ipython",
    "version": 3
   },
   "file_extension": ".py",
   "mimetype": "text/x-python",
   "name": "python",
   "nbconvert_exporter": "python",
   "pygments_lexer": "ipython3",
   "version": "3.8.13"
  },
  "toc": {
   "base_numbering": 1,
   "nav_menu": {},
   "number_sections": true,
   "sideBar": true,
   "skip_h1_title": false,
   "title_cell": "Table of Contents",
   "title_sidebar": "Contents",
   "toc_cell": false,
   "toc_position": {},
   "toc_section_display": true,
   "toc_window_display": false
  },
  "varInspector": {
   "cols": {
    "lenName": 16,
    "lenType": 16,
    "lenVar": 40
   },
   "kernels_config": {
    "python": {
     "delete_cmd_postfix": "",
     "delete_cmd_prefix": "del ",
     "library": "var_list.py",
     "varRefreshCmd": "print(var_dic_list())"
    },
    "r": {
     "delete_cmd_postfix": ") ",
     "delete_cmd_prefix": "rm(",
     "library": "var_list.r",
     "varRefreshCmd": "cat(var_dic_list()) "
    }
   },
   "oldHeight": 408.58333400000004,
   "position": {
    "height": "263.733px",
    "left": "901.267px",
    "right": "20px",
    "top": "120px",
    "width": "476.467px"
   },
   "types_to_exclude": [
    "module",
    "function",
    "builtin_function_or_method",
    "instance",
    "_Feature"
   ],
   "varInspector_section_display": "none",
   "window_display": false
  }
 },
 "nbformat": 4,
 "nbformat_minor": 1
}

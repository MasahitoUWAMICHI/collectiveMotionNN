{
 "cells": [
  {
   "cell_type": "markdown",
   "metadata": {
    "id": "tGwmpc9Bbi7G"
   },
   "source": [
    "TorchSDE\n",
    "https://github.com/google-research/torchsde\n",
    "\n",
    "Hiraiwa Model\n",
    "https://link.aps.org/doi/10.1103/PhysRevLett.125.268104"
   ]
  },
  {
   "cell_type": "code",
   "execution_count": 28,
   "metadata": {
    "ExecuteTime": {
     "end_time": "2022-11-10T07:06:44.220076Z",
     "start_time": "2022-11-10T07:06:42.913731Z"
    }
   },
   "outputs": [
    {
     "name": "stdout",
     "output_type": "stream",
     "text": [
      "Package                           Version     Editable project location\n",
      "--------------------------------- ----------- -------------------------------------\n",
      "alabaster                         0.7.12\n",
      "alembic                           1.8.1\n",
      "anyio                             3.6.1\n",
      "argon2-cffi                       21.3.0\n",
      "argon2-cffi-bindings              21.2.0\n",
      "asttokens                         2.0.5\n",
      "attrs                             21.4.0\n",
      "autopage                          0.5.1\n",
      "autopep8                          1.7.0\n",
      "Babel                             2.10.3\n",
      "backcall                          0.2.0\n",
      "beautifulsoup4                    4.11.1\n",
      "bleach                            5.0.0\n",
      "boltons                           21.0.0\n",
      "certifi                           2022.6.15\n",
      "cffi                              1.15.0\n",
      "charset-normalizer                2.0.12\n",
      "click                             8.1.3\n",
      "cliff                             4.0.0\n",
      "cmaes                             0.8.2\n",
      "cmd2                              2.4.2\n",
      "colorlog                          6.7.0\n",
      "cupy-cuda111                      11.0.0\n",
      "cvxopt                            1.3.0\n",
      "cycler                            0.11.0\n",
      "dataclasses                       0.6\n",
      "debugpy                           1.6.0\n",
      "decorator                         5.1.1\n",
      "defusedxml                        0.7.1\n",
      "dgl-cu113                         0.9.1\n",
      "dglgo                             0.0.2\n",
      "docutils                          0.19\n",
      "entrypoints                       0.4\n",
      "executing                         0.8.3\n",
      "fastjsonschema                    2.15.3\n",
      "fastrlock                         0.8\n",
      "fonttools                         4.33.3\n",
      "future                            0.18.2\n",
      "greenlet                          1.1.3\n",
      "gurobipy                          9.1.1\n",
      "idna                              3.3\n",
      "imagecodecs                       2021.1.11\n",
      "imageio                           2.9.0\n",
      "imagesize                         1.4.1\n",
      "imgaug                            0.4.0\n",
      "importlib-metadata                4.11.4\n",
      "importlib-resources               5.8.0\n",
      "ipykernel                         6.15.0\n",
      "ipython                           8.4.0\n",
      "ipython-genutils                  0.2.0\n",
      "ipywidgets                        7.7.0\n",
      "isort                             5.10.1\n",
      "jedi                              0.18.1\n",
      "Jinja2                            3.1.2\n",
      "joblib                            1.1.0\n",
      "json5                             0.9.8\n",
      "jsonschema                        4.6.0\n",
      "jupyter                           1.0.0\n",
      "jupyter-client                    7.3.4\n",
      "jupyter-console                   6.4.3\n",
      "jupyter-contrib-core              0.3.3\n",
      "jupyter-contrib-nbextensions      0.5.1\n",
      "jupyter-core                      4.10.0\n",
      "jupyter-highlight-selected-word   0.2.0\n",
      "jupyter-latex-envs                1.4.6\n",
      "jupyter-nbextensions-configurator 0.4.1\n",
      "jupyter-server                    1.17.1\n",
      "jupyterlab                        3.4.3\n",
      "jupyterlab-pygments               0.2.2\n",
      "jupyterlab-server                 2.14.0\n",
      "jupyterlab-widgets                1.1.0\n",
      "kit-sch-ge-cell-tracking          1.0.0       /home/uwamichi/git/2021-cell-tracking\n",
      "kiwisolver                        1.4.3\n",
      "littleutils                       0.2.2\n",
      "lxml                              4.9.1\n",
      "Mako                              1.2.2\n",
      "MarkupSafe                        2.1.1\n",
      "matplotlib                        3.5.2\n",
      "matplotlib-inline                 0.1.3\n",
      "mistune                           0.8.4\n",
      "nbclassic                         0.3.7\n",
      "nbclient                          0.6.4\n",
      "nbconvert                         6.5.0\n",
      "nbformat                          5.4.0\n",
      "nest-asyncio                      1.5.5\n",
      "networkx                          2.8.4\n",
      "notebook                          6.4.12\n",
      "notebook-shim                     0.1.0\n",
      "numpy                             1.23.1\n",
      "numpydoc                          1.5.0\n",
      "ogb                               1.3.4\n",
      "opencv-python                     4.6.0.66\n",
      "optuna                            3.0.1\n",
      "outdated                          0.2.1\n",
      "packaging                         21.3\n",
      "pandas                            1.4.2\n",
      "pandocfilters                     1.5.0\n",
      "parso                             0.8.3\n",
      "pbr                               5.10.0\n",
      "pexpect                           4.8.0\n",
      "pickleshare                       0.7.5\n",
      "Pillow                            8.1.0\n",
      "pip                               22.2.2\n",
      "prettytable                       3.4.1\n",
      "prometheus-client                 0.14.1\n",
      "prompt-toolkit                    3.0.29\n",
      "psutil                            5.9.1\n",
      "ptyprocess                        0.7.0\n",
      "pure-eval                         0.2.2\n",
      "pycodestyle                       2.9.1\n",
      "pycparser                         2.21\n",
      "pydantic                          1.10.2\n",
      "Pygments                          2.12.0\n",
      "pyparsing                         3.0.9\n",
      "pyperclip                         1.8.2\n",
      "pyrsistent                        0.18.1\n",
      "python-dateutil                   2.8.2\n",
      "pytz                              2022.1\n",
      "PyWavelets                        1.3.0\n",
      "PyYAML                            6.0\n",
      "pyzmq                             23.1.0\n",
      "qtconsole                         5.3.1\n",
      "QtPy                              2.1.0\n",
      "rdkit-pypi                        2022.3.5\n",
      "requests                          2.28.0\n",
      "ruamel.yaml                       0.17.21\n",
      "ruamel.yaml.clib                  0.2.7\n",
      "scikit-image                      0.18.1\n",
      "scikit-learn                      1.1.1\n",
      "scipy                             1.8.1\n",
      "Send2Trash                        1.8.0\n",
      "setuptools                        65.3.0\n",
      "Shapely                           1.8.2\n",
      "six                               1.16.0\n",
      "sniffio                           1.2.0\n",
      "snowballstemmer                   2.2.0\n",
      "soupsieve                         2.3.2.post1\n",
      "Sphinx                            5.3.0\n",
      "sphinxcontrib-applehelp           1.0.2\n",
      "sphinxcontrib-devhelp             1.0.2\n",
      "sphinxcontrib-htmlhelp            2.0.0\n",
      "sphinxcontrib-jsmath              1.0.1\n",
      "sphinxcontrib-qthelp              1.0.3\n",
      "sphinxcontrib-serializinghtml     1.1.5\n",
      "SQLAlchemy                        1.4.41\n",
      "stack-data                        0.3.0\n",
      "stevedore                         4.0.0\n",
      "terminado                         0.15.0\n",
      "threadpoolctl                     3.1.0\n",
      "tifffile                          2021.1.14\n",
      "tinycss2                          1.1.1\n",
      "toml                              0.10.2\n",
      "torch                             1.12.1\n",
      "torch-cluster                     1.6.0\n",
      "torch-geometric                   2.1.0.post1\n",
      "torch-scatter                     2.0.9\n",
      "torch-sparse                      0.6.15\n",
      "torch-spline-conv                 1.2.1\n",
      "torchdiffeq                       0.2.3\n",
      "torchsde                          0.2.5\n",
      "torchvision                       0.13.1\n",
      "tornado                           6.1\n",
      "tqdm                              4.64.1\n",
      "traitlets                         5.3.0\n",
      "trampoline                        0.1.2\n",
      "typer                             0.6.1\n",
      "typing_extensions                 4.2.0\n",
      "urllib3                           1.26.9\n",
      "wcwidth                           0.2.5\n",
      "webencodings                      0.5.1\n",
      "websocket-client                  1.3.2\n",
      "widgetsnbextension                3.6.0\n",
      "zipp                              3.8.0\n",
      "\n",
      "\u001b[1m[\u001b[0m\u001b[34;49mnotice\u001b[0m\u001b[1;39;49m]\u001b[0m\u001b[39;49m A new release of pip available: \u001b[0m\u001b[31;49m22.2.2\u001b[0m\u001b[39;49m -> \u001b[0m\u001b[32;49m22.3.1\u001b[0m\n",
      "\u001b[1m[\u001b[0m\u001b[34;49mnotice\u001b[0m\u001b[1;39;49m]\u001b[0m\u001b[39;49m To update, run: \u001b[0m\u001b[32;49mpip install --upgrade pip\u001b[0m\n"
     ]
    }
   ],
   "source": [
    "!pip list"
   ]
  },
  {
   "cell_type": "markdown",
   "metadata": {
    "id": "UuGCcX1vhkdk"
   },
   "source": [
    "dy(t) = f(t, y(t)) dt + g(t, y(t)) dW(t) \n",
    "\n",
    "y(t0) = y0 "
   ]
  },
  {
   "cell_type": "code",
   "execution_count": 29,
   "metadata": {
    "ExecuteTime": {
     "end_time": "2022-11-10T07:06:44.231789Z",
     "start_time": "2022-11-10T07:06:44.224707Z"
    },
    "executionInfo": {
     "elapsed": 2864,
     "status": "ok",
     "timestamp": 1656902517638,
     "user": {
      "displayName": "上道 雅仁.",
      "userId": "02361249356017468398"
     },
     "user_tz": -540
    },
    "id": "a7lHlH_blP99"
   },
   "outputs": [],
   "source": [
    "import numpy as np\n",
    "import torch\n",
    "from torch import nn\n",
    "from torchsde import BrownianInterval, sdeint\n",
    "import matplotlib.pyplot as plt\n",
    "from ipywidgets import interact"
   ]
  },
  {
   "cell_type": "code",
   "execution_count": 30,
   "metadata": {
    "ExecuteTime": {
     "end_time": "2022-11-10T07:06:44.241560Z",
     "start_time": "2022-11-10T07:06:44.235562Z"
    }
   },
   "outputs": [],
   "source": [
    "from scipy import special\n",
    "from torch.autograd import Function"
   ]
  },
  {
   "cell_type": "code",
   "execution_count": 31,
   "metadata": {
    "ExecuteTime": {
     "end_time": "2022-11-10T07:06:44.263483Z",
     "start_time": "2022-11-10T07:06:44.249625Z"
    }
   },
   "outputs": [
    {
     "name": "stdout",
     "output_type": "stream",
     "text": [
      "2\n",
      "NVIDIA TITAN V\n",
      "NVIDIA GeForce GTX 1080\n"
     ]
    }
   ],
   "source": [
    "print(torch.cuda.device_count())\n",
    "print(torch.cuda.get_device_name(torch.device('cuda:0')))\n",
    "print(torch.cuda.get_device_name(torch.device('cuda:1')))"
   ]
  },
  {
   "cell_type": "code",
   "execution_count": 32,
   "metadata": {
    "ExecuteTime": {
     "end_time": "2022-11-10T07:06:44.270613Z",
     "start_time": "2022-11-10T07:06:44.264845Z"
    },
    "executionInfo": {
     "elapsed": 263,
     "status": "ok",
     "timestamp": 1656907375154,
     "user": {
      "displayName": "上道 雅仁.",
      "userId": "02361249356017468398"
     },
     "user_tz": -540
    },
    "id": "0sIBJJp_I8em"
   },
   "outputs": [],
   "source": [
    "device = 'cuda:1' if torch.cuda.is_available() else 'cpu'\n",
    "\n",
    "# boundary conditions (L=100 in article)\n",
    "L = 20\n",
    "periodic = True\n",
    "\n",
    "# particle density (1 in article)\n",
    "rho = 0.005\n",
    "\n",
    "# numbers of cells, freedom, and noise source\n",
    "batch_size, state_size, brownian_size = int(rho*(L**2)), 3, 1\n",
    "\n",
    "# ratio of cells for each cell type\n",
    "cellType_ratio = np.array([0.5, 0.5])\n",
    "quiv_colors = ['k', 'r']\n",
    "\n",
    "# nondimensionalize by setting 1\n",
    "v0 = 1.0\n",
    "r = 1.0\n",
    "\n",
    "# fixed noise strength (0.1 in article)\n",
    "D = 0.1\n",
    "\n",
    "# external directional bias (0 or 0.1 in article)\n",
    "A = 0.0\n",
    "\n",
    "# strength of excluded volume force (fixed at 1)\n",
    "beta = 1.0\n",
    "\n",
    "# strength of contact following, contact inhibition of locomotion\n",
    "A_CFs = [0.9, 0.5]\n",
    "A_CIL = 0.0\n",
    "\n",
    "# inverse length scale of chemotaxis\n",
    "kappa = 0.5\n",
    "\n",
    "# strength of chemotaxis\n",
    "A_Macdonalds = [0.5, 0.5]\n",
    "\n",
    "# duration of simulation (6400 in the article)\n",
    "t_max =  200\n",
    "\n",
    "# method to solve SDE\n",
    "methodSDE = 'heun'\n",
    "isIto = False\n",
    "\n",
    "# time step to simulate\n",
    "stepSDE = 1e-2\n"
   ]
  },
  {
   "cell_type": "code",
   "execution_count": 33,
   "metadata": {
    "ExecuteTime": {
     "end_time": "2022-11-10T07:06:44.301197Z",
     "start_time": "2022-11-10T07:06:44.272513Z"
    }
   },
   "outputs": [
    {
     "name": "stdout",
     "output_type": "stream",
     "text": [
      "2\n",
      "2\n"
     ]
    }
   ],
   "source": [
    "A_CF = torch.zeros([batch_size, 1], device=device)\n",
    "A_Macdonald = torch.zeros([batch_size, 1], device=device)\n",
    "quiv_label = np.full([batch_size], '')\n",
    "celltype_label = torch.zeros([batch_size], device=device)\n",
    "count = 0\n",
    "for ict, ctr in enumerate(cellType_ratio):\n",
    "    Nct = int(batch_size*ctr) + count\n",
    "    celltype_label[count:Nct] = ict\n",
    "    A_CF[count:Nct, 0] = A_CFs[ict]\n",
    "    A_Macdonald[count:Nct, 0] = A_Macdonalds[ict]\n",
    "    quiv_label[count:Nct] = quiv_colors[ict]\n",
    "    count = Nct\n",
    "#A_CF = torch.tensor(A_CF, device=device)\n",
    "#quiv_clims = [quiv_label.min, quiv_label.max]\n",
    "print(count)\n",
    "print(batch_size)"
   ]
  },
  {
   "cell_type": "code",
   "execution_count": 34,
   "metadata": {
    "ExecuteTime": {
     "end_time": "2022-11-10T07:06:44.312866Z",
     "start_time": "2022-11-10T07:06:44.303267Z"
    }
   },
   "outputs": [
    {
     "name": "stdout",
     "output_type": "stream",
     "text": [
      "tensor([[0.9000],\n",
      "        [0.5000]], device='cuda:1')\n"
     ]
    }
   ],
   "source": [
    "print(A_CF)"
   ]
  },
  {
   "cell_type": "code",
   "execution_count": 35,
   "metadata": {
    "ExecuteTime": {
     "end_time": "2022-11-10T07:06:44.342416Z",
     "start_time": "2022-11-10T07:06:44.317267Z"
    }
   },
   "outputs": [],
   "source": [
    "class torch_knFunction(Function):\n",
    "    @staticmethod\n",
    "    def forward(ctx, input, n):\n",
    "        numpy_input = input.cpu().detach().numpy()\n",
    "        result = special.kn(n, numpy_input)\n",
    "        return torch.as_tensor(result, dtype=input.dtype, device=device)\n",
    "    \n",
    "    @staticmethod\n",
    "    def backward(ctx, grad_output):\n",
    "        numpy_go = grad_output.cpu().detach().numpy()\n",
    "        input, n = ctx.saved_tensors\n",
    "        numpy_input = input.cpu().detach().numpy()\n",
    "        if n==0:\n",
    "            grad_kn = -special.kn(1, numpy_input)\n",
    "        else:\n",
    "            grad_kn = -(special.kn(n-1, numpy_input) + special.kn(n+1, numpy_input))/2\n",
    "        result = numpy_go * grad_kn\n",
    "        return torch.as_tensor(result, dtype=input.dtype, device=device)\n",
    "\n",
    "class torch_kn(nn.Module):\n",
    "    def __init__(self, n):\n",
    "        super(torch_kn, self).__init__()\n",
    "        self.n = n\n",
    "        \n",
    "    def forward(self, input):\n",
    "        return torch_knFunction.apply(input, self.n)\n",
    "    \n",
    "torch_scipy_k0 = torch_kn(0)\n",
    "torch_scipy_k1 = torch_kn(1)\n",
    "\n",
    "cutoff = torch.tensor([3.5], device = device)\n",
    "k1_cutoff = torch_scipy_k1(cutoff)\n",
    "\n",
    "func_cutoff = nn.ReLU()\n",
    "\n",
    "def torch_scipy_k1_cutoff(x):\n",
    "    return func_cutoff(torch_scipy_k1(x) - k1_cutoff)"
   ]
  },
  {
   "cell_type": "code",
   "execution_count": 36,
   "metadata": {
    "ExecuteTime": {
     "end_time": "2022-11-10T07:06:44.898062Z",
     "start_time": "2022-11-10T07:06:44.343795Z"
    }
   },
   "outputs": [
    {
     "data": {
      "text/plain": [
       "[<matplotlib.lines.Line2D at 0x7f2730203eb0>]"
      ]
     },
     "execution_count": 36,
     "metadata": {},
     "output_type": "execute_result"
    },
    {
     "data": {
      "image/png": "[encoded data removed]",
      "text/plain": [
       "<Figure size 864x648 with 1 Axes>"
      ]
     },
     "metadata": {
      "needs_background": "light"
     },
     "output_type": "display_data"
    }
   ],
   "source": [
    "test_kn = torch.tensor(np.arange(0, 5, 0.1), device=device)\n",
    "out_k0 = torch_scipy_k0(test_kn)\n",
    "out_k1 = torch_scipy_k1(test_kn)\n",
    "out_k1_cutoff = torch_scipy_k1_cutoff(test_kn)\n",
    "fig, ax = plt.subplots()\n",
    "ax.plot(test_kn.cpu(), out_k0.cpu(), 'c-')\n",
    "ax.plot(test_kn.cpu(), out_k1.cpu(), 'm-')\n",
    "ax.plot(test_kn.cpu(), out_k1_cutoff.cpu(), 'r-')"
   ]
  },
  {
   "cell_type": "code",
   "execution_count": 37,
   "metadata": {
    "ExecuteTime": {
     "end_time": "2022-11-10T07:06:44.920096Z",
     "start_time": "2022-11-10T07:06:44.906392Z"
    }
   },
   "outputs": [
    {
     "name": "stdout",
     "output_type": "stream",
     "text": [
      "tensor([0.0000, 0.1000, 0.2000, 0.3000, 0.4000, 0.5000, 0.6000, 0.7000, 0.8000,\n",
      "        0.9000, 1.0000, 1.1000, 1.2000, 1.3000, 1.4000, 1.5000, 1.6000, 1.7000,\n",
      "        1.8000, 1.9000, 2.0000, 2.1000, 2.2000, 2.3000, 2.4000, 2.5000, 2.6000,\n",
      "        2.7000, 2.8000, 2.9000, 3.0000, 3.1000, 3.2000, 3.3000, 3.4000, 3.5000,\n",
      "        3.6000, 3.7000, 3.8000, 3.9000, 4.0000, 4.1000, 4.2000, 4.3000, 4.4000,\n",
      "        4.5000, 4.6000, 4.7000, 4.8000, 4.9000], device='cuda:1',\n",
      "       dtype=torch.float64)\n",
      "tensor([   inf, 2.4271, 1.7527, 1.3725, 1.1145, 0.9244, 0.7775, 0.6605, 0.5653,\n",
      "        0.4867, 0.4210, 0.3656, 0.3185, 0.2782, 0.2437, 0.2138, 0.1880, 0.1655,\n",
      "        0.1459, 0.1288, 0.1139, 0.1008, 0.0893, 0.0791, 0.0702, 0.0623, 0.0554,\n",
      "        0.0493, 0.0438, 0.0390, 0.0347, 0.0310, 0.0276, 0.0246, 0.0220, 0.0196,\n",
      "        0.0175, 0.0156, 0.0140, 0.0125, 0.0112, 0.0100, 0.0089, 0.0080, 0.0071,\n",
      "        0.0064, 0.0057, 0.0051, 0.0046, 0.0041], device='cuda:1',\n",
      "       dtype=torch.float64)\n",
      "tensor([       inf, 9.8538e+00, 4.7760e+00, 3.0560e+00, 2.1844e+00, 1.6564e+00,\n",
      "        1.3028e+00, 1.0503e+00, 8.6178e-01, 7.1653e-01, 6.0191e-01, 5.0976e-01,\n",
      "        4.3459e-01, 3.7255e-01, 3.2084e-01, 2.7739e-01, 2.4063e-01, 2.0936e-01,\n",
      "        1.8262e-01, 1.5966e-01, 1.3987e-01, 1.2275e-01, 1.0790e-01, 9.4982e-02,\n",
      "        8.3725e-02, 7.3891e-02, 6.5284e-02, 5.7738e-02, 5.1113e-02, 4.5286e-02,\n",
      "        4.0156e-02, 3.5634e-02, 3.1643e-02, 2.8117e-02, 2.4999e-02, 2.2239e-02,\n",
      "        1.9795e-02, 1.7628e-02, 1.5706e-02, 1.3999e-02, 1.2483e-02, 1.1136e-02,\n",
      "        9.9382e-03, 8.8722e-03, 7.9233e-03, 7.0781e-03, 6.3250e-03, 5.6538e-03,\n",
      "        5.0552e-03, 4.5212e-03], device='cuda:1', dtype=torch.float64)\n",
      "tensor([0.0222], device='cuda:1')\n",
      "tensor([       inf, 9.8316e+00, 4.7537e+00, 3.0338e+00, 2.1621e+00, 1.6342e+00,\n",
      "        1.2806e+00, 1.0280e+00, 8.3954e-01, 6.9429e-01, 5.7967e-01, 4.8752e-01,\n",
      "        4.1235e-01, 3.5031e-01, 2.9860e-01, 2.5515e-01, 2.1839e-01, 1.8712e-01,\n",
      "        1.6038e-01, 1.3742e-01, 1.1763e-01, 1.0051e-01, 8.5657e-02, 7.2743e-02,\n",
      "        6.1485e-02, 5.1651e-02, 4.3045e-02, 3.5499e-02, 2.8873e-02, 2.3047e-02,\n",
      "        1.7917e-02, 1.3395e-02, 9.4035e-03, 5.8775e-03, 2.7596e-03, 3.0262e-10,\n",
      "        0.0000e+00, 0.0000e+00, 0.0000e+00, 0.0000e+00, 0.0000e+00, 0.0000e+00,\n",
      "        0.0000e+00, 0.0000e+00, 0.0000e+00, 0.0000e+00, 0.0000e+00, 0.0000e+00,\n",
      "        0.0000e+00, 0.0000e+00], device='cuda:1', dtype=torch.float64)\n"
     ]
    }
   ],
   "source": [
    "print(test_kn)\n",
    "print(out_k0)\n",
    "print(out_k1)\n",
    "print(k1_cutoff)\n",
    "print(out_k1_cutoff)"
   ]
  },
  {
   "cell_type": "code",
   "execution_count": 38,
   "metadata": {
    "ExecuteTime": {
     "end_time": "2022-11-10T07:06:44.926648Z",
     "start_time": "2022-11-10T07:06:44.922435Z"
    }
   },
   "outputs": [],
   "source": [
    "def J_chemMacdonald(xy, d): # cutoff! --> shift the values\n",
    "    chemMag = torch_scipy_k1_cutoff(kappa * d) *(kappa/(2*np.pi))\n",
    "    xy = chemMag * xy\n",
    "    return torch.nansum(xy, dim=0, keepdim=False)    "
   ]
  },
  {
   "cell_type": "code",
   "execution_count": 39,
   "metadata": {
    "ExecuteTime": {
     "end_time": "2022-11-10T07:06:44.936986Z",
     "start_time": "2022-11-10T07:06:44.928324Z"
    },
    "executionInfo": {
     "elapsed": 5,
     "status": "ok",
     "timestamp": 1656907375432,
     "user": {
      "displayName": "上道 雅仁.",
      "userId": "02361249356017468398"
     },
     "user_tz": -540
    },
    "id": "VkZ8yC_plSH_"
   },
   "outputs": [],
   "source": [
    "if periodic:\n",
    "    def xy2distance(xy, L):\n",
    "        dx = xy[:, :1] - xy[:, :1].T   # neighbor - target\n",
    "        dy = xy[:, 1:] - xy[:, 1:].T\n",
    "        dx = dx % L\n",
    "        dy = dy % L\n",
    "        dx[dx > L/2] = dx[dx > L/2] - L\n",
    "        dy[dy > L/2] = dy[dy > L/2] - L\n",
    "        return [dx, dy]\n",
    "else:\n",
    "    def xy2distance(xy, L):\n",
    "        dx = xy[:, :1] - xy[:, :1].T\n",
    "        dy = xy[:, 1:] - xy[:, 1:].T\n",
    "        return [dx, dy]    \n",
    "\n",
    "def J_CF(xy, dr, q):\n",
    "    c = torch.unsqueeze(q[0], 1)   # cos, sin of neighbor\n",
    "    s = torch.unsqueeze(q[1], 1)\n",
    "    xy = (1 + xy[:,:,:1] * c + xy[:,:,1:] * s) * xy / 2\n",
    "    return torch.nansum(xy, dim=0, keepdim=False)\n",
    "\n",
    "def J_CIL(xy, d, r):\n",
    "    xy = ((r/d) - 1) * xy\n",
    "    return torch.nansum(xy, dim=0, keepdim=False)"
   ]
  },
  {
   "cell_type": "code",
   "execution_count": 40,
   "metadata": {
    "ExecuteTime": {
     "end_time": "2022-11-10T07:06:44.949084Z",
     "start_time": "2022-11-10T07:06:44.939030Z"
    },
    "executionInfo": {
     "elapsed": 5,
     "status": "ok",
     "timestamp": 1656907375433,
     "user": {
      "displayName": "上道 雅仁.",
      "userId": "02361249356017468398"
     },
     "user_tz": -540
    },
    "id": "-Mr9j5HWbly3"
   },
   "outputs": [],
   "source": [
    "class SDE(torch.nn.Module):\n",
    "    noise_type = 'scalar'\n",
    "    sde_type = 'ito' if isIto else 'stratonovich'\n",
    "\n",
    "    def __init__(self, L, periodic, v0, beta, A_CF, A_CIL, r, A, D):\n",
    "        super().__init__()\n",
    "        self.L = L\n",
    "        self.periodic = periodic\n",
    "        self.v0 = v0\n",
    "        self.beta = beta\n",
    "        self.A_CF = A_CF\n",
    "        self.A_CIL = A_CIL\n",
    "        self.r = r\n",
    "        self.A = A\n",
    "\n",
    "        self.sigma = torch.zeros((batch_size, state_size, 1), device=device)\n",
    "        self.sigma[:, 2, 0] = np.sqrt(2*D)\n",
    "        \n",
    "    # Drift\n",
    "    def f(self, t, y):\n",
    "#        print(y.shape)\n",
    "        xy = y[:, :2]\n",
    "#        if self.periodic:\n",
    "#            xy = xy % L\n",
    "        xy = xy2distance(xy, self.L)\n",
    "#        print(np.shape(xy))\n",
    "#        print(xy[0].shape)\n",
    "        xy = torch.cat((torch.unsqueeze(xy[0], 2), torch.unsqueeze(xy[1], 2)), 2)\n",
    "        d = torch.norm(xy, p='fro', dim=2, keepdim=True)   # distance\n",
    "        dr = torch.heaviside(self.r - d, torch.tensor([0.0], device=device))   # 1 if distance < r, else 0\n",
    "        xy = dr * torch.nn.functional.normalize(xy, p=2.0, dim=2)   # normalized distance vector\n",
    "        c = torch.cos(y[:, 2:])\n",
    "        s = torch.sin(y[:, 2:])\n",
    "\n",
    "        jcil = J_CIL(xy, d, self.r)\n",
    "        \n",
    "        jchem = J_chemMacdonald(xy, d)\n",
    "        \n",
    "        dx0 = self.v0 * torch.cat((c, s), 1)\n",
    "        dx1 = -self.beta * jcil\n",
    "        dtheta0 = self.A_CF * J_CF(xy, dr, [c,s]) - self.A_CIL * jcil\n",
    "        dtheta0 = c * dtheta0[:, 1:] - s * dtheta0[:, :1]\n",
    "        dtheta1 = self.A * c\n",
    "        dtheta2 = A_Macdonald * (c * jchem[:, 1:] - s * jchem[:, :1])\n",
    "        return torch.cat((dx0+dx1, dtheta0+dtheta1+dtheta2), 1)  # shape (batch_size, state_size)\n",
    "\n",
    "    # Diffusion\n",
    "    def g(self, t, y):\n",
    "        return self.sigma\n"
   ]
  },
  {
   "cell_type": "code",
   "execution_count": 41,
   "metadata": {
    "ExecuteTime": {
     "end_time": "2022-11-10T07:06:45.111687Z",
     "start_time": "2022-11-10T07:06:44.951306Z"
    },
    "executionInfo": {
     "elapsed": 1434,
     "status": "ok",
     "timestamp": 1656907376863,
     "user": {
      "displayName": "上道 雅仁.",
      "userId": "02361249356017468398"
     },
     "user_tz": -540
    },
    "id": "4cpbEOYbjGfI"
   },
   "outputs": [],
   "source": [
    "# Initial state y0, the SDE is solved over the interval [ts[0], ts[-1]].\n",
    "# ys will have shape (t_size, batch_size, state_size)\n",
    "\n",
    "\n",
    "y0 = torch.rand((batch_size, state_size), device=device)\n",
    "y0 = torch.cat((y0[:,:2] * L, y0[:,2:] * (2*np.pi)), 1)\n",
    "\n",
    "ts = torch.linspace(0, t_max, t_max+1, device=device)\n",
    "\n",
    "\n",
    "# \n",
    "\n",
    "#y0 = torch.tensor([[4.0, 5.1, np.pi*0], [6.0, 4.9, np.pi*1.0]], device=device)\n",
    "#y0 = torch.cat((y0[:,:2] * L, y0[:,2:] * (2*np.pi)), 1)\n",
    "\n",
    "#ts = torch.linspace(0, 60, 3001, device=device)\n",
    "\n",
    "#\n",
    "\n",
    "bm = BrownianInterval(t0=ts[0], \n",
    "                      t1=ts[-1], \n",
    "                      size=(batch_size, brownian_size),\n",
    "                      dt=stepSDE,\n",
    "                      device=device)"
   ]
  },
  {
   "cell_type": "code",
   "execution_count": 42,
   "metadata": {
    "ExecuteTime": {
     "end_time": "2022-11-10T07:06:45.118315Z",
     "start_time": "2022-11-10T07:06:45.113712Z"
    }
   },
   "outputs": [
    {
     "name": "stdout",
     "output_type": "stream",
     "text": [
      "tensor([[14.9729,  5.6926,  3.2764],\n",
      "        [11.6764, 10.5946,  1.5160]], device='cuda:1')\n"
     ]
    }
   ],
   "source": [
    "print(y0)"
   ]
  },
  {
   "cell_type": "code",
   "execution_count": 43,
   "metadata": {
    "ExecuteTime": {
     "end_time": "2022-11-10T07:06:45.147188Z",
     "start_time": "2022-11-10T07:06:45.119978Z"
    }
   },
   "outputs": [
    {
     "name": "stdout",
     "output_type": "stream",
     "text": [
      "tensor([  0.,   1.,   2.,   3.,   4.,   5.,   6.,   7.,   8.,   9.,  10.,  11.,\n",
      "         12.,  13.,  14.,  15.,  16.,  17.,  18.,  19.,  20.,  21.,  22.,  23.,\n",
      "         24.,  25.,  26.,  27.,  28.,  29.,  30.,  31.,  32.,  33.,  34.,  35.,\n",
      "         36.,  37.,  38.,  39.,  40.,  41.,  42.,  43.,  44.,  45.,  46.,  47.,\n",
      "         48.,  49.,  50.,  51.,  52.,  53.,  54.,  55.,  56.,  57.,  58.,  59.,\n",
      "         60.,  61.,  62.,  63.,  64.,  65.,  66.,  67.,  68.,  69.,  70.,  71.,\n",
      "         72.,  73.,  74.,  75.,  76.,  77.,  78.,  79.,  80.,  81.,  82.,  83.,\n",
      "         84.,  85.,  86.,  87.,  88.,  89.,  90.,  91.,  92.,  93.,  94.,  95.,\n",
      "         96.,  97.,  98.,  99., 100., 101., 102., 103., 104., 105., 106., 107.,\n",
      "        108., 109., 110., 111., 112., 113., 114., 115., 116., 117., 118., 119.,\n",
      "        120., 121., 122., 123., 124., 125., 126., 127., 128., 129., 130., 131.,\n",
      "        132., 133., 134., 135., 136., 137., 138., 139., 140., 141., 142., 143.,\n",
      "        144., 145., 146., 147., 148., 149., 150., 151., 152., 153., 154., 155.,\n",
      "        156., 157., 158., 159., 160., 161., 162., 163., 164., 165., 166., 167.,\n",
      "        168., 169., 170., 171., 172., 173., 174., 175., 176., 177., 178., 179.,\n",
      "        180., 181., 182., 183., 184., 185., 186., 187., 188., 189., 190., 191.,\n",
      "        192., 193., 194., 195., 196., 197., 198., 199., 200.], device='cuda:1')\n"
     ]
    }
   ],
   "source": [
    "print(ts)"
   ]
  },
  {
   "cell_type": "code",
   "execution_count": 44,
   "metadata": {
    "ExecuteTime": {
     "end_time": "2022-11-10T07:08:21.036346Z",
     "start_time": "2022-11-10T07:06:45.153287Z"
    },
    "id": "VS1qLNWNjHot"
   },
   "outputs": [],
   "source": [
    "sde = SDE(L, periodic, v0, beta, A_CF, A_CIL, r, A, D)\n",
    "\n",
    "ys = sdeint(sde, y0, ts, bm=bm, dt=stepSDE, method=methodSDE)"
   ]
  },
  {
   "cell_type": "code",
   "execution_count": 45,
   "metadata": {
    "ExecuteTime": {
     "end_time": "2022-11-10T07:08:21.388134Z",
     "start_time": "2022-11-10T07:08:21.038454Z"
    },
    "id": "CboejMUecJie"
   },
   "outputs": [
    {
     "data": {
      "application/vnd.jupyter.widget-view+json": {
       "model_id": "29eab0a2d934489193578d23b1ac8e41",
       "version_major": 2,
       "version_minor": 0
      },
      "text/plain": [
       "interactive(children=(IntSlider(value=100, description='t_plot', max=200), Output()), _dom_classes=('widget-in…"
      ]
     },
     "metadata": {},
     "output_type": "display_data"
    }
   ],
   "source": [
    "cm = plt.cm.hsv\n",
    "\n",
    "@interact(t_plot=(0, ts.size()[0]-1))\n",
    "def f(t_plot):\n",
    "\n",
    "  x = ys[t_plot,:,0].cpu().detach().numpy() % L\n",
    "  y = ys[t_plot,:,1].cpu().detach().numpy() % L\n",
    "  theta = ys[t_plot,:,2].cpu().detach().numpy() % (2*np.pi)\n",
    "\n",
    "  fig, ax = plt.subplots()\n",
    "  plt.title(\"polarity t = \" + str(ts[t_plot].cpu().detach().numpy()))\n",
    "  ax.set_aspect('equal')\n",
    "  im = ax.quiver(x, y, np.cos(theta), np.sin(theta), color=quiv_label, scale = 1,scale_units='xy', pivot='mid')\n",
    "  plt.xlim(0, L)\n",
    "  plt.ylim(0, L)\n",
    "  #fig.colorbar(im)\n",
    "  #im.set_clim(0, 2*np.pi)\n"
   ]
  },
  {
   "cell_type": "code",
   "execution_count": 46,
   "metadata": {
    "ExecuteTime": {
     "end_time": "2022-11-10T07:08:21.400206Z",
     "start_time": "2022-11-10T07:08:21.394161Z"
    }
   },
   "outputs": [
    {
     "name": "stdout",
     "output_type": "stream",
     "text": [
      "torch.Size([201, 2, 3])\n"
     ]
    }
   ],
   "source": [
    "print(ys.shape)"
   ]
  },
  {
   "cell_type": "code",
   "execution_count": 47,
   "metadata": {
    "ExecuteTime": {
     "end_time": "2022-11-10T07:08:21.468814Z",
     "start_time": "2022-11-10T07:08:21.404716Z"
    }
   },
   "outputs": [],
   "source": [
    "import datetime\n",
    "import os\n",
    "import codecs\n",
    "\n",
    "now = datetime.datetime.now()\n",
    "savedir = './HiraiwaModel_chem' + now.strftime('%Y%m%d_%H%M%S')\n",
    "os.makedirs(savedir, exist_ok=True)\n",
    "\n",
    "np.savez(os.path.join(savedir, 'params.npz'),\n",
    "         v0 = v0, r = r, D = D, A = A, L = L,\n",
    "         rho = rho, beta = beta, A_CFs = A_CFs, A_CIL = A_CIL,\n",
    "         cellType_ratio = cellType_ratio, quiv_colors = quiv_colors,\n",
    "         kappa = kappa, A_Macdonalds = A_Macdonalds,\n",
    "         batch_size = batch_size, state_size = state_size, brownian_size = brownian_size,\n",
    "         periodic = periodic, t_max = t_max, methodSDE = methodSDE, isIto = isIto, stepSDE = stepSDE)\n",
    "\n",
    "loaddir = savedir\n",
    "params = np.load(loaddir+'/params.npz', allow_pickle=True)\n",
    "\n",
    "txtstring = []\n",
    "for k in params.files:\n",
    "    txtstring.append(\"{} = {}\".format(k, params[k]))\n",
    "\n",
    "print(*txtstring, sep=\"\\n\", file=codecs.open(loaddir+'/params.txt', 'w', 'utf-8'))"
   ]
  },
  {
   "cell_type": "code",
   "execution_count": 48,
   "metadata": {
    "ExecuteTime": {
     "end_time": "2022-11-10T07:08:21.491225Z",
     "start_time": "2022-11-10T07:08:21.470745Z"
    }
   },
   "outputs": [],
   "source": [
    "np.savez(os.path.join(savedir, 'result.npz'),\n",
    "         xy = ys[:,:,:2].cpu().detach().numpy() % L,\n",
    "         theta = ys[:,:,2].cpu().detach().numpy() % (2*np.pi),\n",
    "         celltype_label = celltype_label.cpu().detach().numpy())"
   ]
  },
  {
   "cell_type": "code",
   "execution_count": 49,
   "metadata": {
    "ExecuteTime": {
     "end_time": "2022-11-10T07:08:49.218375Z",
     "start_time": "2022-11-10T07:08:21.493096Z"
    }
   },
   "outputs": [],
   "source": [
    "plt.rcParams['figure.figsize'] = [12, 9]\n",
    "\n",
    "cm = plt.cm.hsv\n",
    "\n",
    "for t_plot in range(len(ts)):\n",
    "\n",
    "  x = ys[t_plot,:,0].cpu().detach().numpy() % L\n",
    "  y = ys[t_plot,:,1].cpu().detach().numpy() % L\n",
    "  theta = ys[t_plot,:,2].cpu().detach().numpy() % (2*np.pi)\n",
    "\n",
    "  fig, ax = plt.subplots()\n",
    "  plt.title(\"polarity t = \" + str(ts[t_plot].cpu().detach().numpy()))\n",
    "  ax.set_aspect('equal')\n",
    "  im = ax.quiver(x, y, np.cos(theta), np.sin(theta), color=quiv_label, scale = 1,scale_units='xy', pivot='mid')\n",
    "  plt.xlim(0, L)\n",
    "  plt.ylim(0, L)\n",
    "  #fig.colorbar(im)\n",
    "  #im.set_clim(0, 2*np.pi)\n",
    "  \n",
    "  fig.savefig(os.path.join(savedir, format(t_plot, '03d'))+'.png', format='png')\n",
    "    \n",
    "  plt.clf()\n",
    "  plt.close()\n"
   ]
  },
  {
   "cell_type": "code",
   "execution_count": 50,
   "metadata": {
    "ExecuteTime": {
     "end_time": "2022-11-10T07:08:49.226246Z",
     "start_time": "2022-11-10T07:08:49.220152Z"
    }
   },
   "outputs": [
    {
     "name": "stdout",
     "output_type": "stream",
     "text": [
      "[[ 3.2763665e+00  1.5159569e+00]\n",
      " [ 3.4695601e+00  1.4229864e+00]\n",
      " [ 3.3440270e+00  1.4491746e+00]\n",
      " [ 2.8373997e+00  8.0758989e-01]\n",
      " [ 2.9814253e+00  6.2336844e-01]\n",
      " [ 3.1306186e+00  7.7937937e-01]\n",
      " [ 3.7236145e+00  4.4554856e-01]\n",
      " [ 3.0745683e+00  7.0227861e-01]\n",
      " [ 3.4548109e+00  5.7584602e-01]\n",
      " [ 3.0012927e+00  2.9252386e-01]\n",
      " [ 2.8276975e+00  9.8214215e-03]\n",
      " [ 2.3549402e+00  3.9076111e-01]\n",
      " [ 1.7821686e+00  8.4963733e-01]\n",
      " [ 1.5430577e+00  5.6180811e-01]\n",
      " [ 1.1362213e+00  8.8058645e-01]\n",
      " [ 1.2173853e+00  2.0873244e+00]\n",
      " [ 3.9415365e-01  2.0162089e+00]\n",
      " [-4.2363530e-01  2.8292725e+00]\n",
      " [-7.4120706e-01  2.7944248e+00]\n",
      " [-7.1957600e-01  3.6021299e+00]\n",
      " [-2.3849379e-01  3.0661740e+00]\n",
      " [-1.7552283e-01  3.6775405e+00]\n",
      " [-1.7314982e-01  3.0372550e+00]\n",
      " [-1.5439162e-01  3.7345567e+00]\n",
      " [-1.3995174e-02  3.8914306e+00]\n",
      " [-8.7647527e-02  4.0537677e+00]\n",
      " [-1.3295795e-01  3.9747317e+00]\n",
      " [ 1.4881311e-01  3.9781075e+00]\n",
      " [-3.8667776e-02  4.5240436e+00]\n",
      " [ 4.4696027e-01  4.8679824e+00]\n",
      " [ 2.2106360e-01  4.8216257e+00]\n",
      " [-1.1527736e-01  5.2876973e+00]\n",
      " [-1.0757762e-01  5.2692657e+00]\n",
      " [-4.3155375e-01  5.4313426e+00]\n",
      " [-1.4112900e+00  5.3536310e+00]\n",
      " [-1.5383080e+00  5.4723744e+00]\n",
      " [-9.5343465e-01  5.5252829e+00]\n",
      " [-1.3665756e+00  5.9082870e+00]\n",
      " [-1.4789739e+00  5.6865993e+00]\n",
      " [-1.7303529e+00  5.2639184e+00]\n",
      " [-2.1616917e+00  4.6612735e+00]\n",
      " [-1.3932856e+00  3.7369647e+00]\n",
      " [-1.0371598e+00  3.5412989e+00]\n",
      " [-1.2238314e+00  3.3030102e+00]\n",
      " [-1.0760747e+00  3.5899913e+00]\n",
      " [-1.3173418e+00  3.5763264e+00]\n",
      " [-1.7305962e+00  3.9271314e+00]\n",
      " [-1.7963626e+00  3.6411068e+00]\n",
      " [-1.9768980e+00  3.4689214e+00]\n",
      " [-2.1995807e+00  2.9595490e+00]\n",
      " [-2.3805497e+00  2.8573570e+00]\n",
      " [-2.0802712e+00  2.5678415e+00]\n",
      " [-1.6799400e+00  2.7493682e+00]\n",
      " [-1.9232532e+00  2.8914337e+00]\n",
      " [-1.8786826e+00  3.0596795e+00]\n",
      " [-1.7812525e+00  2.4022689e+00]\n",
      " [-1.3319464e+00  3.0750721e+00]\n",
      " [-8.1242597e-01  2.9280839e+00]\n",
      " [-4.4344616e-01  2.9346628e+00]\n",
      " [-1.0940282e+00  3.7655890e+00]\n",
      " [-9.8673773e-01  3.6252236e+00]\n",
      " [-1.0168947e+00  3.6831055e+00]\n",
      " [-1.1505935e+00  3.0124855e+00]\n",
      " [-1.4351544e+00  1.7556328e+00]\n",
      " [-1.1610273e+00  2.4447885e+00]\n",
      " [-2.0302765e+00  2.7403245e+00]\n",
      " [-2.0792613e+00  2.8758445e+00]\n",
      " [-2.3416483e+00  2.9019108e+00]\n",
      " [-2.3564014e+00  2.6275251e+00]\n",
      " [-1.9807615e+00  2.0070145e+00]\n",
      " [-2.1229937e+00  1.3925948e+00]\n",
      " [-2.9438028e+00  1.9839089e+00]\n",
      " [-2.2723365e+00  2.3440056e+00]\n",
      " [-3.0393085e+00  2.4004884e+00]\n",
      " [-3.1569455e+00  2.7813323e+00]\n",
      " [-3.8128493e+00  2.7138896e+00]\n",
      " [-3.7915788e+00  2.7599869e+00]\n",
      " [-3.6499438e+00  2.3777425e+00]\n",
      " [-3.9785459e+00  2.5916197e+00]\n",
      " [-3.2574816e+00  3.3781152e+00]\n",
      " [-2.8015511e+00  2.8888741e+00]\n",
      " [-2.8185227e+00  2.7657495e+00]\n",
      " [-3.0292211e+00  3.0295718e+00]\n",
      " [-3.2205772e+00  2.1232419e+00]\n",
      " [-3.3365529e+00  2.6970322e+00]\n",
      " [-3.9007492e+00  2.7139668e+00]\n",
      " [-4.8058863e+00  2.9879165e+00]\n",
      " [-4.6227694e+00  3.0390935e+00]\n",
      " [-4.9749193e+00  3.6512198e+00]\n",
      " [-5.1935091e+00  4.0473700e+00]\n",
      " [-4.9947295e+00  3.5939450e+00]\n",
      " [-5.3337803e+00  3.7424235e+00]\n",
      " [-4.6484537e+00  3.2960296e+00]\n",
      " [-4.6926737e+00  3.1207502e+00]\n",
      " [-3.9827356e+00  2.8502383e+00]\n",
      " [-3.8001256e+00  3.0884042e+00]\n",
      " [-4.6433754e+00  3.4475842e+00]\n",
      " [-5.1160169e+00  3.4197340e+00]\n",
      " [-5.2057815e+00  3.5463841e+00]\n",
      " [-5.0574870e+00  3.2325087e+00]\n",
      " [-4.3413329e+00  3.1422529e+00]\n",
      " [-4.1268091e+00  3.5384398e+00]\n",
      " [-3.9477916e+00  3.4174147e+00]\n",
      " [-3.5905466e+00  4.0964255e+00]\n",
      " [-2.9568639e+00  4.5927248e+00]\n",
      " [-4.0039701e+00  4.3319893e+00]\n",
      " [-4.2518492e+00  4.4798059e+00]\n",
      " [-4.9429107e+00  4.3943357e+00]\n",
      " [-5.2406816e+00  4.1370287e+00]\n",
      " [-4.5790234e+00  4.1622915e+00]\n",
      " [-4.8735609e+00  3.8179693e+00]\n",
      " [-5.4539833e+00  3.4574690e+00]\n",
      " [-5.3085322e+00  3.7710781e+00]\n",
      " [-5.3360958e+00  3.5948150e+00]\n",
      " [-5.6989098e+00  4.1669397e+00]\n",
      " [-5.8982525e+00  4.2817354e+00]\n",
      " [-6.7219315e+00  4.5315905e+00]\n",
      " [-6.8883038e+00  4.0458107e+00]\n",
      " [-5.8232074e+00  3.1635356e+00]\n",
      " [-6.2986922e+00  3.0984955e+00]\n",
      " [-6.2583542e+00  3.3093796e+00]\n",
      " [-5.7087078e+00  2.8794351e+00]\n",
      " [-4.9562511e+00  2.4581814e+00]\n",
      " [-4.7010946e+00  2.1034725e+00]\n",
      " [-5.0841522e+00  1.7881814e+00]\n",
      " [-5.8375692e+00  2.2315438e+00]\n",
      " [-6.2498574e+00  1.9972147e+00]\n",
      " [-5.6873746e+00  1.4757044e+00]\n",
      " [-6.6676564e+00  1.6050776e+00]\n",
      " [-6.9735980e+00  9.5432532e-01]\n",
      " [-6.5487213e+00  6.0538840e-01]\n",
      " [-6.5951796e+00  8.6115062e-01]\n",
      " [-6.2008924e+00  4.8452148e-01]\n",
      " [-6.5274496e+00  2.1722433e-01]\n",
      " [-6.9268403e+00  7.6997182e-03]\n",
      " [-7.7226238e+00  1.2842219e-01]\n",
      " [-8.1811686e+00 -1.5630230e-01]\n",
      " [-8.3202639e+00 -5.4452300e-01]\n",
      " [-8.0025778e+00 -7.3005295e-01]\n",
      " [-7.7210641e+00 -6.9697477e-02]\n",
      " [-7.6477003e+00  4.0676463e-01]\n",
      " [-7.1167159e+00  1.4727260e-01]\n",
      " [-6.6430683e+00  3.5313326e-01]\n",
      " [-6.8713355e+00 -2.4142449e-01]\n",
      " [-6.9478602e+00 -4.2895436e-01]\n",
      " [-6.5036907e+00 -8.1411010e-01]\n",
      " [-6.1512146e+00 -1.0620769e+00]\n",
      " [-6.6817584e+00 -1.5626578e+00]\n",
      " [-6.8340311e+00 -1.8788115e+00]\n",
      " [-6.7238407e+00 -1.9617102e+00]\n",
      " [-6.5009470e+00 -1.9103174e+00]\n",
      " [-6.5432940e+00 -2.2359390e+00]\n",
      " [-7.5008869e+00 -2.2189391e+00]\n",
      " [-7.1268954e+00 -2.2533612e+00]\n",
      " [-6.9177341e+00 -2.3396285e+00]\n",
      " [-6.5168390e+00 -2.6418247e+00]\n",
      " [-5.1187677e+00 -2.3238506e+00]\n",
      " [-5.6229849e+00 -2.6264925e+00]\n",
      " [-5.2836428e+00 -2.2961817e+00]\n",
      " [-4.6093168e+00 -2.2312164e+00]\n",
      " [-4.2197452e+00 -2.3584981e+00]\n",
      " [-3.9503729e+00 -2.4596493e+00]\n",
      " [-4.6503119e+00 -2.1134160e+00]\n",
      " [-5.2002568e+00 -1.8748724e+00]\n",
      " [-4.5824552e+00 -2.2541332e+00]\n",
      " [-5.0312204e+00 -2.2708881e+00]\n",
      " [-4.5895257e+00 -2.2673092e+00]\n",
      " [-4.5520725e+00 -1.9966471e+00]\n",
      " [-4.8077359e+00 -2.2156982e+00]\n",
      " [-3.9688447e+00 -2.6639636e+00]\n",
      " [-3.5866604e+00 -2.8518333e+00]\n",
      " [-2.7677531e+00 -3.3783545e+00]\n",
      " [-1.8499299e+00 -4.1680918e+00]\n",
      " [-1.7828274e+00 -3.5906923e+00]\n",
      " [-2.1506410e+00 -4.5277691e+00]\n",
      " [-1.6853087e+00 -5.0747075e+00]\n",
      " [-1.5901878e+00 -5.5275660e+00]\n",
      " [-1.2324778e+00 -5.5381370e+00]\n",
      " [-7.6357454e-01 -5.5039787e+00]\n",
      " [-8.8116801e-01 -5.6208677e+00]\n",
      " [-5.8068633e-01 -5.2216434e+00]\n",
      " [-6.1717141e-01 -4.8428965e+00]\n",
      " [ 2.3423623e-02 -4.5309434e+00]\n",
      " [-7.1833447e-02 -4.4895940e+00]\n",
      " [-3.6032408e-01 -5.0047359e+00]\n",
      " [-1.5705690e-01 -5.5110521e+00]\n",
      " [-6.9470322e-01 -5.4493217e+00]\n",
      " [-1.0879452e+00 -4.8507299e+00]\n",
      " [-1.6825631e+00 -5.1596603e+00]\n",
      " [-2.0463047e+00 -4.7584686e+00]\n",
      " [-2.1614413e+00 -4.6023779e+00]\n",
      " [-1.7248638e+00 -4.1641827e+00]\n",
      " [-1.8438451e+00 -4.6550303e+00]\n",
      " [-1.3143554e+00 -4.1458063e+00]\n",
      " [-1.2814089e+00 -4.3612461e+00]\n",
      " [-9.3542087e-01 -4.2297792e+00]\n",
      " [-4.6410778e-01 -5.4189186e+00]\n",
      " [-1.0796490e+00 -5.6573429e+00]\n",
      " [-2.3251135e+00 -6.5980821e+00]\n",
      " [-2.2738810e+00 -6.7198029e+00]\n",
      " [-1.8700982e+00 -6.2453151e+00]]\n"
     ]
    }
   ],
   "source": [
    "theta = ys[:,:,2].cpu().detach().numpy()\n",
    "print(theta)"
   ]
  },
  {
   "cell_type": "code",
   "execution_count": 51,
   "metadata": {
    "ExecuteTime": {
     "end_time": "2022-11-10T07:08:49.396251Z",
     "start_time": "2022-11-10T07:08:49.228060Z"
    }
   },
   "outputs": [
    {
     "data": {
      "text/plain": [
       "[<matplotlib.lines.Line2D at 0x7f27602a4ee0>,\n",
       " <matplotlib.lines.Line2D at 0x7f27602a4f70>]"
      ]
     },
     "execution_count": 51,
     "metadata": {},
     "output_type": "execute_result"
    },
    {
     "data": {
      "image/png": "[encoded data removed]",
      "text/plain": [
       "<Figure size 864x648 with 1 Axes>"
      ]
     },
     "metadata": {
      "needs_background": "light"
     },
     "output_type": "display_data"
    }
   ],
   "source": [
    "plt.plot(theta)"
   ]
  },
  {
   "cell_type": "code",
   "execution_count": 52,
   "metadata": {
    "ExecuteTime": {
     "end_time": "2022-11-10T07:08:49.999450Z",
     "start_time": "2022-11-10T07:08:49.411571Z"
    }
   },
   "outputs": [
    {
     "data": {
      "text/plain": [
       "[<matplotlib.lines.Line2D at 0x7f27600616d0>]"
      ]
     },
     "execution_count": 52,
     "metadata": {},
     "output_type": "execute_result"
    },
    {
     "data": {
      "image/png": "[encoded data removed]",
      "text/plain": [
       "<Figure size 864x648 with 1 Axes>"
      ]
     },
     "metadata": {
      "needs_background": "light"
     },
     "output_type": "display_data"
    }
   ],
   "source": [
    "def MSD(ys):\n",
    "    yy = ys - ys[0]\n",
    "    msd0 = (yy**2).cpu().detach().numpy()\n",
    "    return [np.sum(msd0[:, 0, :2], axis=1), msd0[:, 0, 2]]\n",
    "\n",
    "msd1 = MSD(ys)[0]\n",
    "plt.loglog(msd1)"
   ]
  },
  {
   "cell_type": "code",
   "execution_count": 53,
   "metadata": {
    "ExecuteTime": {
     "end_time": "2022-11-10T07:08:50.009094Z",
     "start_time": "2022-11-10T07:08:50.002893Z"
    }
   },
   "outputs": [],
   "source": [
    "spatialD = v0**2 / (2 * D)"
   ]
  },
  {
   "cell_type": "code",
   "execution_count": 54,
   "metadata": {
    "ExecuteTime": {
     "end_time": "2022-11-10T07:08:50.027187Z",
     "start_time": "2022-11-10T07:08:50.010800Z"
    }
   },
   "outputs": [
    {
     "ename": "ValueError",
     "evalue": "operands could not be broadcast together with shapes (200,) (300,) ",
     "output_type": "error",
     "traceback": [
      "\u001b[0;31m---------------------------------------------------------------------------\u001b[0m",
      "\u001b[0;31mValueError\u001b[0m                                Traceback (most recent call last)",
      "Input \u001b[0;32mIn [54]\u001b[0m, in \u001b[0;36m<cell line: 1>\u001b[0;34m()\u001b[0m\n\u001b[0;32m----> 1\u001b[0m plt\u001b[38;5;241m.\u001b[39mloglog(\u001b[43mmsd1\u001b[49m\u001b[43m[\u001b[49m\u001b[38;5;241;43m1\u001b[39;49m\u001b[43m:\u001b[49m\u001b[43m]\u001b[49m\u001b[38;5;241;43m/\u001b[39;49m\u001b[43m(\u001b[49m\u001b[38;5;241;43m4\u001b[39;49m\u001b[43m \u001b[49m\u001b[38;5;241;43m*\u001b[39;49m\u001b[43m \u001b[49m\u001b[43mspatialD\u001b[49m\u001b[43m \u001b[49m\u001b[38;5;241;43m*\u001b[39;49m\u001b[43m \u001b[49m\u001b[43mnp\u001b[49m\u001b[38;5;241;43m.\u001b[39;49m\u001b[43marange\u001b[49m\u001b[43m(\u001b[49m\u001b[38;5;241;43m1\u001b[39;49m\u001b[43m,\u001b[49m\u001b[38;5;241;43m301\u001b[39;49m\u001b[43m)\u001b[49m\u001b[43m)\u001b[49m)\n",
      "\u001b[0;31mValueError\u001b[0m: operands could not be broadcast together with shapes (200,) (300,) "
     ]
    }
   ],
   "source": [
    "plt.loglog(msd1[1:]/(4 * spatialD * np.arange(1,301)))"
   ]
  },
  {
   "cell_type": "code",
   "execution_count": null,
   "metadata": {},
   "outputs": [],
   "source": []
  }
 ],
 "metadata": {
  "accelerator": "GPU",
  "colab": {
   "authorship_tag": "ABX9TyMX00cV3qdaHMTh1/ms14Y/",
   "collapsed_sections": [],
   "name": "HiraiwaModel_torchsde.ipynb",
   "provenance": []
  },
  "gpuClass": "standard",
  "kernelspec": {
   "display_name": "Python 3 (ipykernel)",
   "language": "python",
   "name": "python3"
  },
  "language_info": {
   "codemirror_mode": {
    "name": "ipython",
    "version": 3
   },
   "file_extension": ".py",
   "mimetype": "text/x-python",
   "name": "python",
   "nbconvert_exporter": "python",
   "pygments_lexer": "ipython3",
   "version": "3.8.13"
  },
  "toc": {
   "base_numbering": 1,
   "nav_menu": {},
   "number_sections": true,
   "sideBar": true,
   "skip_h1_title": false,
   "title_cell": "Table of Contents",
   "title_sidebar": "Contents",
   "toc_cell": false,
   "toc_position": {},
   "toc_section_display": true,
   "toc_window_display": false
  },
  "varInspector": {
   "cols": {
    "lenName": 16,
    "lenType": 16,
    "lenVar": 40
   },
   "kernels_config": {
    "python": {
     "delete_cmd_postfix": "",
     "delete_cmd_prefix": "del ",
     "library": "var_list.py",
     "varRefreshCmd": "print(var_dic_list())"
    },
    "r": {
     "delete_cmd_postfix": ") ",
     "delete_cmd_prefix": "rm(",
     "library": "var_list.r",
     "varRefreshCmd": "cat(var_dic_list()) "
    }
   },
   "oldHeight": 408.58333400000004,
   "position": {
    "height": "40px",
    "left": "901.267px",
    "right": "20px",
    "top": "120px",
    "width": "294.733px"
   },
   "types_to_exclude": [
    "module",
    "function",
    "builtin_function_or_method",
    "instance",
    "_Feature"
   ],
   "varInspector_section_display": "none",
   "window_display": true
  }
 },
 "nbformat": 4,
 "nbformat_minor": 1
}

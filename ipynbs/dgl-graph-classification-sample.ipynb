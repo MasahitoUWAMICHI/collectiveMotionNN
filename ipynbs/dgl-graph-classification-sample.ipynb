{
 "cells": [
  {
   "cell_type": "markdown",
   "id": "c7332c5e",
   "metadata": {
    "_cell_guid": "b1076dfc-b9ad-4769-8c92-a6c4dae69d19",
    "_uuid": "8f2839f25d086af736a60e9eeb907d3b93b6e0e5",
    "papermill": {
     "duration": 0.031701,
     "end_time": "2022-01-09T19:06:04.535669",
     "exception": false,
     "start_time": "2022-01-09T19:06:04.503968",
     "status": "completed"
    },
    "tags": []
   },
   "source": [
    "- 概要：DGLのグラフ分類サンプルの写経。\n",
    "- 目的：dglとdgl.batchの使い方を把握する\n",
    "- わかったこと：dgl.batchを使うことでノード数、エッジ数の異なる複数のグラフを入力としたgraph classificationができる\n",
    "- 応用したいこと：ノード数の異なる複数のグラフを入力に各ノードの属性を予測させるnode classification\n",
    "- reference: https://docs.dgl.ai/en/0.6.x/tutorials/basics/4_batch.html\n",
    "\n",
    "> To train neural networks efficiently, a common practice is to batch multiple samples together to form a mini-batch. Batching fixed-shaped tensor inputs is common. For example, batching two images of size 28 x 28 gives a tensor of shape 2 x 28 x 28. By contrast, batching graph inputs has two challenges:\n",
    "> - Graphs are sparse.\n",
    "> -Graphs can have various length. For example, number of nodes and edges.\n",
    ">\n",
    "> To address this, DGL provides a `dgl.batch()` API. It leverages the idea that a batch of graphs can be viewed as a large graph that has many disjointed connected components. Below is a visualization that gives the general idea."
   ]
  },
  {
   "cell_type": "markdown",
   "id": "b12b78a6",
   "metadata": {
    "papermill": {
     "duration": 0.032272,
     "end_time": "2022-01-09T19:06:04.601512",
     "exception": false,
     "start_time": "2022-01-09T19:06:04.569240",
     "status": "completed"
    },
    "tags": []
   },
   "source": [
    "# Install DGL"
   ]
  },
  {
   "cell_type": "code",
   "execution_count": 1,
   "id": "e1277949",
   "metadata": {
    "execution": {
     "iopub.execute_input": "2022-01-09T19:06:04.671957Z",
     "iopub.status.busy": "2022-01-09T19:06:04.665246Z",
     "iopub.status.idle": "2022-01-09T19:07:04.402583Z",
     "shell.execute_reply": "2022-01-09T19:07:04.401700Z",
     "shell.execute_reply.started": "2022-01-09T18:05:37.406411Z"
    },
    "papermill": {
     "duration": 59.770773,
     "end_time": "2022-01-09T19:07:04.402778",
     "exception": false,
     "start_time": "2022-01-09T19:06:04.632005",
     "status": "completed"
    },
    "tags": []
   },
   "outputs": [
    {
     "name": "stdout",
     "output_type": "stream",
     "text": [
      "Collecting package metadata (current_repodata.json): ...working... done\r\n",
      "Solving environment: ...working... done\r\n",
      "\r\n",
      "## Package Plan ##\r\n",
      "\r\n",
      "  environment location: /opt/conda\r\n",
      "\r\n",
      "  added / updated specs:\r\n",
      "    - dgl\r\n",
      "\r\n",
      "\r\n",
      "The following packages will be downloaded:\r\n",
      "\r\n",
      "    package                    |            build\r\n",
      "    ---------------------------|-----------------\r\n",
      "    dgl-0.7.2                  |           py37_0         5.1 MB  dglteam\r\n",
      "    ------------------------------------------------------------\r\n",
      "                                           Total:         5.1 MB\r\n",
      "\r\n",
      "The following NEW packages will be INSTALLED:\r\n",
      "\r\n",
      "  dgl                dglteam/linux-64::dgl-0.7.2-py37_0\r\n",
      "\r\n",
      "\r\n",
      "Preparing transaction: ...working... done\r\n",
      "Verifying transaction: ...working... done\r\n",
      "Executing transaction: ...working... done\r\n"
     ]
    }
   ],
   "source": [
    "!conda install -q -y -c dglteam dgl"
   ]
  },
  {
   "cell_type": "markdown",
   "id": "5dfb2448",
   "metadata": {
    "papermill": {
     "duration": 0.032575,
     "end_time": "2022-01-09T19:07:04.467914",
     "exception": false,
     "start_time": "2022-01-09T19:07:04.435339",
     "status": "completed"
    },
    "tags": []
   },
   "source": [
    "# Import"
   ]
  },
  {
   "cell_type": "code",
   "execution_count": 2,
   "id": "08c474c4",
   "metadata": {
    "execution": {
     "iopub.execute_input": "2022-01-09T19:07:04.540950Z",
     "iopub.status.busy": "2022-01-09T19:07:04.540234Z",
     "iopub.status.idle": "2022-01-09T19:07:06.281581Z",
     "shell.execute_reply": "2022-01-09T19:07:06.280953Z",
     "shell.execute_reply.started": "2022-01-09T18:26:12.184458Z"
    },
    "papermill": {
     "duration": 1.781197,
     "end_time": "2022-01-09T19:07:06.281733",
     "exception": false,
     "start_time": "2022-01-09T19:07:04.500536",
     "status": "completed"
    },
    "tags": []
   },
   "outputs": [
    {
     "name": "stderr",
     "output_type": "stream",
     "text": [
      "DGL backend not selected or invalid.  Assuming PyTorch for now.\n"
     ]
    },
    {
     "name": "stdout",
     "output_type": "stream",
     "text": [
      "Setting the default backend to \"pytorch\". You can change it in the ~/.dgl/config.json file or export the DGLBACKEND environment variable.  Valid options are: pytorch, mxnet, tensorflow (all lowercase)\n"
     ]
    },
    {
     "name": "stderr",
     "output_type": "stream",
     "text": [
      "Using backend: pytorch\n"
     ]
    }
   ],
   "source": [
    "import dgl\n",
    "import torch\n",
    "from dgl.data import MiniGCDataset\n",
    "import matplotlib.pyplot as plt\n",
    "import networkx as nx\n",
    "\n",
    "from dgl.nn.pytorch import GraphConv\n",
    "\n",
    "import torch.nn as nn\n",
    "import torch.nn.functional as F\n",
    "\n",
    "import torch.optim as optim\n",
    "from dgl.dataloading import GraphDataLoader"
   ]
  },
  {
   "cell_type": "markdown",
   "id": "7826574e",
   "metadata": {
    "papermill": {
     "duration": 0.034448,
     "end_time": "2022-01-09T19:07:06.349002",
     "exception": false,
     "start_time": "2022-01-09T19:07:06.314554",
     "status": "completed"
    },
    "tags": []
   },
   "source": [
    "# Load toy dataset\n",
    "> In this tutorial, you learn how to perform batched graph classification with DGL. The example task objective is to classify eight types of topologies shown here.\n",
    "> \n",
    "> https://data.dgl.ai/tutorial/batch/dataset_overview.png\n",
    "> \n",
    "> Implement a synthetic dataset data.MiniGCDataset in DGL. The dataset has eight different types of graphs and each class has the same number of graph samples."
   ]
  },
  {
   "cell_type": "code",
   "execution_count": 3,
   "id": "736c5ec6",
   "metadata": {
    "execution": {
     "iopub.execute_input": "2022-01-09T19:07:06.435497Z",
     "iopub.status.busy": "2022-01-09T19:07:06.430040Z",
     "iopub.status.idle": "2022-01-09T19:07:06.604231Z",
     "shell.execute_reply": "2022-01-09T19:07:06.604879Z",
     "shell.execute_reply.started": "2022-01-09T18:07:36.994555Z"
    },
    "papermill": {
     "duration": 0.223142,
     "end_time": "2022-01-09T19:07:06.605088",
     "exception": false,
     "start_time": "2022-01-09T19:07:06.381946",
     "status": "completed"
    },
    "tags": []
   },
   "outputs": [],
   "source": [
    "# A dataset with 80 samples, each graph is\n",
    "# of size [10, 20]\n",
    "dataset = MiniGCDataset(80, 10, 20)"
   ]
  },
  {
   "cell_type": "markdown",
   "id": "dc23996e",
   "metadata": {
    "papermill": {
     "duration": 0.032894,
     "end_time": "2022-01-09T19:07:06.672752",
     "exception": false,
     "start_time": "2022-01-09T19:07:06.639858",
     "status": "completed"
    },
    "tags": []
   },
   "source": [
    "## Quick look at the Dataset"
   ]
  },
  {
   "cell_type": "code",
   "execution_count": 4,
   "id": "bfbf2a8a",
   "metadata": {
    "execution": {
     "iopub.execute_input": "2022-01-09T19:07:06.741592Z",
     "iopub.status.busy": "2022-01-09T19:07:06.740890Z",
     "iopub.status.idle": "2022-01-09T19:07:06.748221Z",
     "shell.execute_reply": "2022-01-09T19:07:06.748751Z",
     "shell.execute_reply.started": "2022-01-09T18:12:02.209336Z"
    },
    "papermill": {
     "duration": 0.043408,
     "end_time": "2022-01-09T19:07:06.748937",
     "exception": false,
     "start_time": "2022-01-09T19:07:06.705529",
     "status": "completed"
    },
    "tags": []
   },
   "outputs": [
    {
     "data": {
      "text/plain": [
       "<dgl.data.minigc.MiniGCDataset at 0x7f7024334290>"
      ]
     },
     "execution_count": 4,
     "metadata": {},
     "output_type": "execute_result"
    }
   ],
   "source": [
    "dataset"
   ]
  },
  {
   "cell_type": "code",
   "execution_count": 5,
   "id": "863d8927",
   "metadata": {
    "execution": {
     "iopub.execute_input": "2022-01-09T19:07:06.819532Z",
     "iopub.status.busy": "2022-01-09T19:07:06.818802Z",
     "iopub.status.idle": "2022-01-09T19:07:06.821510Z",
     "shell.execute_reply": "2022-01-09T19:07:06.821979Z",
     "shell.execute_reply.started": "2022-01-09T18:15:14.842849Z"
    },
    "papermill": {
     "duration": 0.039895,
     "end_time": "2022-01-09T19:07:06.822171",
     "exception": false,
     "start_time": "2022-01-09T19:07:06.782276",
     "status": "completed"
    },
    "tags": []
   },
   "outputs": [],
   "source": [
    "# dir(dataset)"
   ]
  },
  {
   "cell_type": "markdown",
   "id": "f9558fc9",
   "metadata": {
    "papermill": {
     "duration": 0.033296,
     "end_time": "2022-01-09T19:07:06.888854",
     "exception": false,
     "start_time": "2022-01-09T19:07:06.855558",
     "status": "completed"
    },
    "tags": []
   },
   "source": [
    "`dgl.data`のインスタンスには配列っぽいアクセスができる様子"
   ]
  },
  {
   "cell_type": "code",
   "execution_count": 6,
   "id": "7732598c",
   "metadata": {
    "execution": {
     "iopub.execute_input": "2022-01-09T19:07:06.961842Z",
     "iopub.status.busy": "2022-01-09T19:07:06.961111Z",
     "iopub.status.idle": "2022-01-09T19:07:06.963732Z",
     "shell.execute_reply": "2022-01-09T19:07:06.964218Z",
     "shell.execute_reply.started": "2022-01-09T18:16:19.208607Z"
    },
    "papermill": {
     "duration": 0.041329,
     "end_time": "2022-01-09T19:07:06.964422",
     "exception": false,
     "start_time": "2022-01-09T19:07:06.923093",
     "status": "completed"
    },
    "tags": []
   },
   "outputs": [
    {
     "data": {
      "text/plain": [
       "80"
      ]
     },
     "execution_count": 6,
     "metadata": {},
     "output_type": "execute_result"
    }
   ],
   "source": [
    "len(dataset)"
   ]
  },
  {
   "cell_type": "markdown",
   "id": "d7efbbbd",
   "metadata": {
    "papermill": {
     "duration": 0.032778,
     "end_time": "2022-01-09T19:07:07.030457",
     "exception": false,
     "start_time": "2022-01-09T19:07:06.997679",
     "status": "completed"
    },
    "tags": []
   },
   "source": [
    "このdatasetの場合、(グラフ クラス)のtupleが入っている"
   ]
  },
  {
   "cell_type": "code",
   "execution_count": 7,
   "id": "19e45ae3",
   "metadata": {
    "execution": {
     "iopub.execute_input": "2022-01-09T19:07:07.100668Z",
     "iopub.status.busy": "2022-01-09T19:07:07.099980Z",
     "iopub.status.idle": "2022-01-09T19:07:07.111555Z",
     "shell.execute_reply": "2022-01-09T19:07:07.112049Z",
     "shell.execute_reply.started": "2022-01-09T18:17:54.975548Z"
    },
    "papermill": {
     "duration": 0.048387,
     "end_time": "2022-01-09T19:07:07.112245",
     "exception": false,
     "start_time": "2022-01-09T19:07:07.063858",
     "status": "completed"
    },
    "tags": []
   },
   "outputs": [
    {
     "data": {
      "text/plain": [
       "(Graph(num_nodes=15, num_edges=45,\n",
       "       ndata_schemes={}\n",
       "       edata_schemes={}),\n",
       " tensor(0))"
      ]
     },
     "execution_count": 7,
     "metadata": {},
     "output_type": "execute_result"
    }
   ],
   "source": [
    "dataset[0]"
   ]
  },
  {
   "cell_type": "markdown",
   "id": "0d79db15",
   "metadata": {
    "papermill": {
     "duration": 0.03355,
     "end_time": "2022-01-09T19:07:07.179649",
     "exception": false,
     "start_time": "2022-01-09T19:07:07.146099",
     "status": "completed"
    },
    "tags": []
   },
   "source": [
    "０番目のグラフを表示してみる"
   ]
  },
  {
   "cell_type": "code",
   "execution_count": 8,
   "id": "156901d2",
   "metadata": {
    "execution": {
     "iopub.execute_input": "2022-01-09T19:07:07.250543Z",
     "iopub.status.busy": "2022-01-09T19:07:07.249830Z",
     "iopub.status.idle": "2022-01-09T19:07:07.837260Z",
     "shell.execute_reply": "2022-01-09T19:07:07.836606Z",
     "shell.execute_reply.started": "2022-01-09T18:52:25.645119Z"
    },
    "papermill": {
     "duration": 0.624216,
     "end_time": "2022-01-09T19:07:07.837426",
     "exception": false,
     "start_time": "2022-01-09T19:07:07.213210",
     "status": "completed"
    },
    "tags": []
   },
   "outputs": [
    {
     "name": "stdout",
     "output_type": "stream",
     "text": [
      "(Graph(num_nodes=15, num_edges=45,\n",
      "      ndata_schemes={}\n",
      "      edata_schemes={}), tensor(0))\n"
     ]
    },
    {
     "data": {
      "image/png": "[encoded data removed]",
      "text/plain": [
       "<Figure size 432x288 with 1 Axes>"
      ]
     },
     "metadata": {},
     "output_type": "display_data"
    }
   ],
   "source": [
    "def plot_data(n):\n",
    "    print(dataset[n])\n",
    "    graph, label = dataset[n]\n",
    "    fig, ax = plt.subplots()\n",
    "    nx.draw(graph.to_networkx(), ax=ax)\n",
    "    ax.set_title('Class: {:d}'.format(label))\n",
    "    plt.show()\n",
    "    \n",
    "plot_data(0)"
   ]
  },
  {
   "cell_type": "code",
   "execution_count": 9,
   "id": "821fa1ba",
   "metadata": {
    "execution": {
     "iopub.execute_input": "2022-01-09T19:07:07.916209Z",
     "iopub.status.busy": "2022-01-09T19:07:07.915537Z",
     "iopub.status.idle": "2022-01-09T19:07:08.544339Z",
     "shell.execute_reply": "2022-01-09T19:07:08.545323Z",
     "shell.execute_reply.started": "2022-01-09T18:52:27.872888Z"
    },
    "papermill": {
     "duration": 0.670398,
     "end_time": "2022-01-09T19:07:08.545646",
     "exception": false,
     "start_time": "2022-01-09T19:07:07.875248",
     "status": "completed"
    },
    "tags": []
   },
   "outputs": [
    {
     "name": "stdout",
     "output_type": "stream",
     "text": [
      "(Graph(num_nodes=17, num_edges=49,\n",
      "      ndata_schemes={}\n",
      "      edata_schemes={}), tensor(1))\n"
     ]
    },
    {
     "data": {
      "image/png": "[encoded data removed]",
      "text/plain": [
       "<Figure size 432x288 with 1 Axes>"
      ]
     },
     "metadata": {},
     "output_type": "display_data"
    }
   ],
   "source": [
    "#10番目\n",
    "plot_data(10)"
   ]
  },
  {
   "cell_type": "code",
   "execution_count": 10,
   "id": "ecd809d6",
   "metadata": {
    "execution": {
     "iopub.execute_input": "2022-01-09T19:07:08.629708Z",
     "iopub.status.busy": "2022-01-09T19:07:08.628998Z",
     "iopub.status.idle": "2022-01-09T19:07:09.443777Z",
     "shell.execute_reply": "2022-01-09T19:07:09.444279Z",
     "shell.execute_reply.started": "2022-01-09T18:52:29.379979Z"
    },
    "papermill": {
     "duration": 0.855798,
     "end_time": "2022-01-09T19:07:09.444492",
     "exception": false,
     "start_time": "2022-01-09T19:07:08.588694",
     "status": "completed"
    },
    "tags": []
   },
   "outputs": [
    {
     "name": "stdout",
     "output_type": "stream",
     "text": [
      "(Graph(num_nodes=15, num_edges=71,\n",
      "      ndata_schemes={}\n",
      "      edata_schemes={}), tensor(2))\n"
     ]
    },
    {
     "data": {
      "image/png": "[encoded data removed]",
      "text/plain": [
       "<Figure size 432x288 with 1 Axes>"
      ]
     },
     "metadata": {},
     "output_type": "display_data"
    }
   ],
   "source": [
    "#20番目\n",
    "plot_data(20)"
   ]
  },
  {
   "cell_type": "markdown",
   "id": "fa0367bb",
   "metadata": {
    "papermill": {
     "duration": 0.038631,
     "end_time": "2022-01-09T19:07:09.523924",
     "exception": false,
     "start_time": "2022-01-09T19:07:09.485293",
     "status": "completed"
    },
    "tags": []
   },
   "source": [
    "## わかったこと\n",
    "- このデータは8種類の形状が異なる80個のグラフを含んでいるデータ\n",
    "- このタスクはそれぞれのグラフの種類を予測させるタスク\n",
    "- 各グラフはノード数、エッジ数が異なっているグラフ\n",
    "- おそらくdataset[9:0]はclass=0, [19:10]はclass=1のデータという感じになっている->要shaffle"
   ]
  },
  {
   "cell_type": "markdown",
   "id": "95490460",
   "metadata": {
    "papermill": {
     "duration": 0.038445,
     "end_time": "2022-01-09T19:07:09.601375",
     "exception": false,
     "start_time": "2022-01-09T19:07:09.562930",
     "status": "completed"
    },
    "tags": []
   },
   "source": [
    "# Data loader"
   ]
  },
  {
   "cell_type": "code",
   "execution_count": 11,
   "id": "d49f2524",
   "metadata": {
    "execution": {
     "iopub.execute_input": "2022-01-09T19:07:09.694915Z",
     "iopub.status.busy": "2022-01-09T19:07:09.693821Z",
     "iopub.status.idle": "2022-01-09T19:07:10.423119Z",
     "shell.execute_reply": "2022-01-09T19:07:10.423702Z",
     "shell.execute_reply.started": "2022-01-09T18:39:23.517272Z"
    },
    "papermill": {
     "duration": 0.783674,
     "end_time": "2022-01-09T19:07:10.423934",
     "exception": false,
     "start_time": "2022-01-09T19:07:09.640260",
     "status": "completed"
    },
    "tags": []
   },
   "outputs": [],
   "source": [
    "# Create training and test sets.\n",
    "trainset = MiniGCDataset(320, 10, 20)\n",
    "testset = MiniGCDataset(80, 10, 20)"
   ]
  },
  {
   "cell_type": "code",
   "execution_count": 12,
   "id": "03f63cc8",
   "metadata": {
    "execution": {
     "iopub.execute_input": "2022-01-09T19:07:10.507630Z",
     "iopub.status.busy": "2022-01-09T19:07:10.506889Z",
     "iopub.status.idle": "2022-01-09T19:07:10.510740Z",
     "shell.execute_reply": "2022-01-09T19:07:10.511250Z",
     "shell.execute_reply.started": "2022-01-09T18:39:11.601361Z"
    },
    "papermill": {
     "duration": 0.047408,
     "end_time": "2022-01-09T19:07:10.511461",
     "exception": false,
     "start_time": "2022-01-09T19:07:10.464053",
     "status": "completed"
    },
    "tags": []
   },
   "outputs": [],
   "source": [
    "# Use DGL's GraphDataLoader. It by default handles the\n",
    "# graph batching operation for every mini-batch.\n",
    "data_loader = GraphDataLoader(trainset, batch_size=32, shuffle=True)"
   ]
  },
  {
   "cell_type": "markdown",
   "id": "b9bcc22f",
   "metadata": {
    "papermill": {
     "duration": 0.038282,
     "end_time": "2022-01-09T19:07:10.588571",
     "exception": false,
     "start_time": "2022-01-09T19:07:10.550289",
     "status": "completed"
    },
    "tags": []
   },
   "source": [
    "# Model"
   ]
  },
  {
   "cell_type": "code",
   "execution_count": 13,
   "id": "4d7b76dc",
   "metadata": {
    "execution": {
     "iopub.execute_input": "2022-01-09T19:07:10.674909Z",
     "iopub.status.busy": "2022-01-09T19:07:10.674187Z",
     "iopub.status.idle": "2022-01-09T19:07:10.675917Z",
     "shell.execute_reply": "2022-01-09T19:07:10.676390Z",
     "shell.execute_reply.started": "2022-01-09T18:27:54.809234Z"
    },
    "papermill": {
     "duration": 0.049456,
     "end_time": "2022-01-09T19:07:10.676572",
     "exception": false,
     "start_time": "2022-01-09T19:07:10.627116",
     "status": "completed"
    },
    "tags": []
   },
   "outputs": [],
   "source": [
    "class Classifier(nn.Module):\n",
    "    def __init__(self, in_dim, hidden_dim, n_classes):\n",
    "        super(Classifier, self).__init__()\n",
    "        self.conv1 = GraphConv(in_dim, hidden_dim)\n",
    "        self.conv2 = GraphConv(hidden_dim, hidden_dim)\n",
    "        self.classify = nn.Linear(hidden_dim, n_classes)\n",
    "\n",
    "    def forward(self, g):\n",
    "        # Use node degree as the initial node feature. For undirected graphs, the in-degree\n",
    "        # is the same as the out_degree.\n",
    "        h = g.in_degrees().view(-1, 1).float()\n",
    "        # Perform graph convolution and activation function.\n",
    "        h = F.relu(self.conv1(g, h))\n",
    "        h = F.relu(self.conv2(g, h))\n",
    "        g.ndata['h'] = h\n",
    "        # Calculate graph representation by averaging all the node representations.\n",
    "        hg = dgl.mean_nodes(g, 'h')\n",
    "        return self.classify(hg)"
   ]
  },
  {
   "cell_type": "code",
   "execution_count": 14,
   "id": "acd88046",
   "metadata": {
    "execution": {
     "iopub.execute_input": "2022-01-09T19:07:10.757735Z",
     "iopub.status.busy": "2022-01-09T19:07:10.757054Z",
     "iopub.status.idle": "2022-01-09T19:07:10.776058Z",
     "shell.execute_reply": "2022-01-09T19:07:10.776548Z",
     "shell.execute_reply.started": "2022-01-09T18:27:55.149101Z"
    },
    "papermill": {
     "duration": 0.0607,
     "end_time": "2022-01-09T19:07:10.776730",
     "exception": false,
     "start_time": "2022-01-09T19:07:10.716030",
     "status": "completed"
    },
    "tags": []
   },
   "outputs": [
    {
     "data": {
      "text/plain": [
       "Classifier(\n",
       "  (conv1): GraphConv(in=1, out=256, normalization=both, activation=None)\n",
       "  (conv2): GraphConv(in=256, out=256, normalization=both, activation=None)\n",
       "  (classify): Linear(in_features=256, out_features=8, bias=True)\n",
       ")"
      ]
     },
     "execution_count": 14,
     "metadata": {},
     "output_type": "execute_result"
    }
   ],
   "source": [
    "# Create model\n",
    "model = Classifier(1, 256, trainset.num_classes)\n",
    "loss_func = nn.CrossEntropyLoss()\n",
    "optimizer = optim.Adam(model.parameters(), lr=0.001)\n",
    "model.train()"
   ]
  },
  {
   "cell_type": "markdown",
   "id": "f9d8ed8e",
   "metadata": {
    "papermill": {
     "duration": 0.038708,
     "end_time": "2022-01-09T19:07:10.854333",
     "exception": false,
     "start_time": "2022-01-09T19:07:10.815625",
     "status": "completed"
    },
    "tags": []
   },
   "source": [
    "# Train"
   ]
  },
  {
   "cell_type": "code",
   "execution_count": 15,
   "id": "6c3cc941",
   "metadata": {
    "execution": {
     "iopub.execute_input": "2022-01-09T19:07:10.940436Z",
     "iopub.status.busy": "2022-01-09T19:07:10.939714Z",
     "iopub.status.idle": "2022-01-09T19:07:17.981767Z",
     "shell.execute_reply": "2022-01-09T19:07:17.982586Z",
     "shell.execute_reply.started": "2022-01-09T18:28:12.658214Z"
    },
    "papermill": {
     "duration": 7.089019,
     "end_time": "2022-01-09T19:07:17.982842",
     "exception": false,
     "start_time": "2022-01-09T19:07:10.893823",
     "status": "completed"
    },
    "tags": []
   },
   "outputs": [
    {
     "name": "stdout",
     "output_type": "stream",
     "text": [
      "Epoch 0, loss 2.0245\n",
      "Epoch 1, loss 1.9756\n",
      "Epoch 2, loss 1.9618\n",
      "Epoch 3, loss 1.9519\n",
      "Epoch 4, loss 1.9437\n",
      "Epoch 5, loss 1.9430\n",
      "Epoch 6, loss 1.9179\n",
      "Epoch 7, loss 1.9039\n",
      "Epoch 8, loss 1.8852\n",
      "Epoch 9, loss 1.8584\n",
      "Epoch 10, loss 1.8252\n",
      "Epoch 11, loss 1.7851\n",
      "Epoch 12, loss 1.7430\n",
      "Epoch 13, loss 1.6978\n",
      "Epoch 14, loss 1.6489\n",
      "Epoch 15, loss 1.5919\n",
      "Epoch 16, loss 1.5332\n",
      "Epoch 17, loss 1.4748\n",
      "Epoch 18, loss 1.4120\n",
      "Epoch 19, loss 1.3475\n",
      "Epoch 20, loss 1.2924\n",
      "Epoch 21, loss 1.2420\n",
      "Epoch 22, loss 1.2102\n",
      "Epoch 23, loss 1.1610\n",
      "Epoch 24, loss 1.1343\n",
      "Epoch 25, loss 1.0928\n",
      "Epoch 26, loss 1.0424\n",
      "Epoch 27, loss 1.0107\n",
      "Epoch 28, loss 0.9939\n",
      "Epoch 29, loss 0.9978\n",
      "Epoch 30, loss 0.9606\n",
      "Epoch 31, loss 0.9382\n",
      "Epoch 32, loss 0.9457\n",
      "Epoch 33, loss 0.9227\n",
      "Epoch 34, loss 0.9074\n",
      "Epoch 35, loss 0.8928\n",
      "Epoch 36, loss 0.8815\n",
      "Epoch 37, loss 0.8749\n",
      "Epoch 38, loss 0.8768\n",
      "Epoch 39, loss 0.8771\n",
      "Epoch 40, loss 0.8621\n",
      "Epoch 41, loss 0.8454\n",
      "Epoch 42, loss 0.8569\n",
      "Epoch 43, loss 0.8232\n",
      "Epoch 44, loss 0.8279\n",
      "Epoch 45, loss 0.8236\n",
      "Epoch 46, loss 0.8099\n",
      "Epoch 47, loss 0.7942\n",
      "Epoch 48, loss 0.7955\n",
      "Epoch 49, loss 0.7859\n",
      "Epoch 50, loss 0.7812\n",
      "Epoch 51, loss 0.8117\n",
      "Epoch 52, loss 0.7892\n",
      "Epoch 53, loss 0.7761\n",
      "Epoch 54, loss 0.7864\n",
      "Epoch 55, loss 0.7765\n",
      "Epoch 56, loss 0.7860\n",
      "Epoch 57, loss 0.7942\n",
      "Epoch 58, loss 0.7825\n",
      "Epoch 59, loss 0.7570\n",
      "Epoch 60, loss 0.7603\n",
      "Epoch 61, loss 0.7537\n",
      "Epoch 62, loss 0.7684\n",
      "Epoch 63, loss 0.7414\n",
      "Epoch 64, loss 0.7513\n",
      "Epoch 65, loss 0.7538\n",
      "Epoch 66, loss 0.7413\n",
      "Epoch 67, loss 0.7232\n",
      "Epoch 68, loss 0.7176\n",
      "Epoch 69, loss 0.7114\n",
      "Epoch 70, loss 0.7073\n",
      "Epoch 71, loss 0.7098\n",
      "Epoch 72, loss 0.7165\n",
      "Epoch 73, loss 0.7125\n",
      "Epoch 74, loss 0.7073\n",
      "Epoch 75, loss 0.7230\n",
      "Epoch 76, loss 0.7567\n",
      "Epoch 77, loss 0.7003\n",
      "Epoch 78, loss 0.7189\n",
      "Epoch 79, loss 0.6871\n"
     ]
    }
   ],
   "source": [
    "epoch_losses = []\n",
    "for epoch in range(80):\n",
    "    epoch_loss = 0\n",
    "    for iter, (bg, label) in enumerate(data_loader):\n",
    "        prediction = model(bg)\n",
    "        loss = loss_func(prediction, label)\n",
    "        optimizer.zero_grad()\n",
    "        loss.backward()\n",
    "        optimizer.step()\n",
    "        epoch_loss += loss.detach().item()\n",
    "    epoch_loss /= (iter + 1)\n",
    "    print('Epoch {}, loss {:.4f}'.format(epoch, epoch_loss))\n",
    "    epoch_losses.append(epoch_loss)"
   ]
  },
  {
   "cell_type": "code",
   "execution_count": 16,
   "id": "35d68d2a",
   "metadata": {
    "execution": {
     "iopub.execute_input": "2022-01-09T19:07:18.084181Z",
     "iopub.status.busy": "2022-01-09T19:07:18.083058Z",
     "iopub.status.idle": "2022-01-09T19:07:18.239047Z",
     "shell.execute_reply": "2022-01-09T19:07:18.239576Z",
     "shell.execute_reply.started": "2022-01-09T18:28:53.370459Z"
    },
    "papermill": {
     "duration": 0.208011,
     "end_time": "2022-01-09T19:07:18.239766",
     "exception": false,
     "start_time": "2022-01-09T19:07:18.031755",
     "status": "completed"
    },
    "tags": []
   },
   "outputs": [
    {
     "data": {
      "image/png": "[encoded data removed]",
      "text/plain": [
       "<Figure size 432x288 with 1 Axes>"
      ]
     },
     "metadata": {
      "needs_background": "light"
     },
     "output_type": "display_data"
    }
   ],
   "source": [
    "plt.title('cross entropy averaged over minibatches')\n",
    "plt.plot(epoch_losses)\n",
    "plt.show()"
   ]
  },
  {
   "cell_type": "markdown",
   "id": "563cefa4",
   "metadata": {
    "papermill": {
     "duration": 0.048098,
     "end_time": "2022-01-09T19:07:18.336208",
     "exception": false,
     "start_time": "2022-01-09T19:07:18.288110",
     "status": "completed"
    },
    "tags": []
   },
   "source": [
    "# Test"
   ]
  },
  {
   "cell_type": "code",
   "execution_count": 17,
   "id": "16717768",
   "metadata": {
    "execution": {
     "iopub.execute_input": "2022-01-09T19:07:18.436380Z",
     "iopub.status.busy": "2022-01-09T19:07:18.435388Z",
     "iopub.status.idle": "2022-01-09T19:07:18.440952Z",
     "shell.execute_reply": "2022-01-09T19:07:18.441567Z",
     "shell.execute_reply.started": "2022-01-09T18:29:13.285876Z"
    },
    "papermill": {
     "duration": 0.057352,
     "end_time": "2022-01-09T19:07:18.441739",
     "exception": false,
     "start_time": "2022-01-09T19:07:18.384387",
     "status": "completed"
    },
    "tags": []
   },
   "outputs": [
    {
     "data": {
      "text/plain": [
       "Classifier(\n",
       "  (conv1): GraphConv(in=1, out=256, normalization=both, activation=None)\n",
       "  (conv2): GraphConv(in=256, out=256, normalization=both, activation=None)\n",
       "  (classify): Linear(in_features=256, out_features=8, bias=True)\n",
       ")"
      ]
     },
     "execution_count": 17,
     "metadata": {},
     "output_type": "execute_result"
    }
   ],
   "source": [
    "# modelを推論モードに切り替え\n",
    "model.eval()"
   ]
  },
  {
   "cell_type": "code",
   "execution_count": 18,
   "id": "8887a433",
   "metadata": {
    "execution": {
     "iopub.execute_input": "2022-01-09T19:07:18.543007Z",
     "iopub.status.busy": "2022-01-09T19:07:18.541986Z",
     "iopub.status.idle": "2022-01-09T19:07:18.546127Z",
     "shell.execute_reply": "2022-01-09T19:07:18.546740Z",
     "shell.execute_reply.started": "2022-01-09T18:39:34.221535Z"
    },
    "papermill": {
     "duration": 0.057203,
     "end_time": "2022-01-09T19:07:18.546924",
     "exception": false,
     "start_time": "2022-01-09T19:07:18.489721",
     "status": "completed"
    },
    "tags": []
   },
   "outputs": [],
   "source": [
    "# Convert a list of tuples to two lists\n",
    "test_X, test_Y = map(list, zip(*testset))"
   ]
  },
  {
   "cell_type": "code",
   "execution_count": 19,
   "id": "652f175d",
   "metadata": {
    "_kg_hide-output": true,
    "execution": {
     "iopub.execute_input": "2022-01-09T19:07:18.647432Z",
     "iopub.status.busy": "2022-01-09T19:07:18.646440Z",
     "iopub.status.idle": "2022-01-09T19:07:18.656441Z",
     "shell.execute_reply": "2022-01-09T19:07:18.657065Z",
     "shell.execute_reply.started": "2022-01-09T18:36:54.328316Z"
    },
    "papermill": {
     "duration": 0.062213,
     "end_time": "2022-01-09T19:07:18.657241",
     "exception": false,
     "start_time": "2022-01-09T19:07:18.595028",
     "status": "completed"
    },
    "tags": []
   },
   "outputs": [
    {
     "data": {
      "text/plain": [
       "[Graph(num_nodes=15, num_edges=45,\n",
       "       ndata_schemes={}\n",
       "       edata_schemes={}),\n",
       " Graph(num_nodes=10, num_edges=30,\n",
       "       ndata_schemes={}\n",
       "       edata_schemes={}),\n",
       " Graph(num_nodes=13, num_edges=39,\n",
       "       ndata_schemes={}\n",
       "       edata_schemes={}),\n",
       " Graph(num_nodes=13, num_edges=39,\n",
       "       ndata_schemes={}\n",
       "       edata_schemes={}),\n",
       " Graph(num_nodes=17, num_edges=51,\n",
       "       ndata_schemes={}\n",
       "       edata_schemes={}),\n",
       " Graph(num_nodes=19, num_edges=57,\n",
       "       ndata_schemes={}\n",
       "       edata_schemes={}),\n",
       " Graph(num_nodes=13, num_edges=39,\n",
       "       ndata_schemes={}\n",
       "       edata_schemes={}),\n",
       " Graph(num_nodes=15, num_edges=45,\n",
       "       ndata_schemes={}\n",
       "       edata_schemes={}),\n",
       " Graph(num_nodes=12, num_edges=36,\n",
       "       ndata_schemes={}\n",
       "       edata_schemes={}),\n",
       " Graph(num_nodes=14, num_edges=42,\n",
       "       ndata_schemes={}\n",
       "       edata_schemes={}),\n",
       " Graph(num_nodes=17, num_edges=49,\n",
       "       ndata_schemes={}\n",
       "       edata_schemes={}),\n",
       " Graph(num_nodes=16, num_edges=46,\n",
       "       ndata_schemes={}\n",
       "       edata_schemes={}),\n",
       " Graph(num_nodes=18, num_edges=52,\n",
       "       ndata_schemes={}\n",
       "       edata_schemes={}),\n",
       " Graph(num_nodes=18, num_edges=52,\n",
       "       ndata_schemes={}\n",
       "       edata_schemes={}),\n",
       " Graph(num_nodes=11, num_edges=31,\n",
       "       ndata_schemes={}\n",
       "       edata_schemes={}),\n",
       " Graph(num_nodes=16, num_edges=46,\n",
       "       ndata_schemes={}\n",
       "       edata_schemes={}),\n",
       " Graph(num_nodes=17, num_edges=49,\n",
       "       ndata_schemes={}\n",
       "       edata_schemes={}),\n",
       " Graph(num_nodes=17, num_edges=49,\n",
       "       ndata_schemes={}\n",
       "       edata_schemes={}),\n",
       " Graph(num_nodes=18, num_edges=52,\n",
       "       ndata_schemes={}\n",
       "       edata_schemes={}),\n",
       " Graph(num_nodes=11, num_edges=31,\n",
       "       ndata_schemes={}\n",
       "       edata_schemes={}),\n",
       " Graph(num_nodes=15, num_edges=71,\n",
       "       ndata_schemes={}\n",
       "       edata_schemes={}),\n",
       " Graph(num_nodes=19, num_edges=91,\n",
       "       ndata_schemes={}\n",
       "       edata_schemes={}),\n",
       " Graph(num_nodes=18, num_edges=86,\n",
       "       ndata_schemes={}\n",
       "       edata_schemes={}),\n",
       " Graph(num_nodes=19, num_edges=91,\n",
       "       ndata_schemes={}\n",
       "       edata_schemes={}),\n",
       " Graph(num_nodes=14, num_edges=66,\n",
       "       ndata_schemes={}\n",
       "       edata_schemes={}),\n",
       " Graph(num_nodes=13, num_edges=61,\n",
       "       ndata_schemes={}\n",
       "       edata_schemes={}),\n",
       " Graph(num_nodes=10, num_edges=46,\n",
       "       ndata_schemes={}\n",
       "       edata_schemes={}),\n",
       " Graph(num_nodes=13, num_edges=61,\n",
       "       ndata_schemes={}\n",
       "       edata_schemes={}),\n",
       " Graph(num_nodes=15, num_edges=71,\n",
       "       ndata_schemes={}\n",
       "       edata_schemes={}),\n",
       " Graph(num_nodes=10, num_edges=46,\n",
       "       ndata_schemes={}\n",
       "       edata_schemes={}),\n",
       " Graph(num_nodes=12, num_edges=64,\n",
       "       ndata_schemes={}\n",
       "       edata_schemes={}),\n",
       " Graph(num_nodes=18, num_edges=234,\n",
       "       ndata_schemes={}\n",
       "       edata_schemes={}),\n",
       " Graph(num_nodes=13, num_edges=109,\n",
       "       ndata_schemes={}\n",
       "       edata_schemes={}),\n",
       " Graph(num_nodes=13, num_edges=79,\n",
       "       ndata_schemes={}\n",
       "       edata_schemes={}),\n",
       " Graph(num_nodes=17, num_edges=231,\n",
       "       ndata_schemes={}\n",
       "       edata_schemes={}),\n",
       " Graph(num_nodes=11, num_edges=73,\n",
       "       ndata_schemes={}\n",
       "       edata_schemes={}),\n",
       " Graph(num_nodes=19, num_edges=295,\n",
       "       ndata_schemes={}\n",
       "       edata_schemes={}),\n",
       " Graph(num_nodes=14, num_edges=96,\n",
       "       ndata_schemes={}\n",
       "       edata_schemes={}),\n",
       " Graph(num_nodes=12, num_edges=64,\n",
       "       ndata_schemes={}\n",
       "       edata_schemes={}),\n",
       " Graph(num_nodes=12, num_edges=106,\n",
       "       ndata_schemes={}\n",
       "       edata_schemes={}),\n",
       " Graph(num_nodes=8, num_edges=32,\n",
       "       ndata_schemes={}\n",
       "       edata_schemes={}),\n",
       " Graph(num_nodes=8, num_edges=32,\n",
       "       ndata_schemes={}\n",
       "       edata_schemes={}),\n",
       " Graph(num_nodes=8, num_edges=32,\n",
       "       ndata_schemes={}\n",
       "       edata_schemes={}),\n",
       " Graph(num_nodes=8, num_edges=32,\n",
       "       ndata_schemes={}\n",
       "       edata_schemes={}),\n",
       " Graph(num_nodes=16, num_edges=80,\n",
       "       ndata_schemes={}\n",
       "       edata_schemes={}),\n",
       " Graph(num_nodes=16, num_edges=80,\n",
       "       ndata_schemes={}\n",
       "       edata_schemes={}),\n",
       " Graph(num_nodes=8, num_edges=32,\n",
       "       ndata_schemes={}\n",
       "       edata_schemes={}),\n",
       " Graph(num_nodes=8, num_edges=32,\n",
       "       ndata_schemes={}\n",
       "       edata_schemes={}),\n",
       " Graph(num_nodes=8, num_edges=32,\n",
       "       ndata_schemes={}\n",
       "       edata_schemes={}),\n",
       " Graph(num_nodes=16, num_edges=80,\n",
       "       ndata_schemes={}\n",
       "       edata_schemes={}),\n",
       " Graph(num_nodes=18, num_edges=72,\n",
       "       ndata_schemes={}\n",
       "       edata_schemes={}),\n",
       " Graph(num_nodes=9, num_edges=33,\n",
       "       ndata_schemes={}\n",
       "       edata_schemes={}),\n",
       " Graph(num_nodes=15, num_edges=59,\n",
       "       ndata_schemes={}\n",
       "       edata_schemes={}),\n",
       " Graph(num_nodes=15, num_edges=59,\n",
       "       ndata_schemes={}\n",
       "       edata_schemes={}),\n",
       " Graph(num_nodes=10, num_edges=36,\n",
       "       ndata_schemes={}\n",
       "       edata_schemes={}),\n",
       " Graph(num_nodes=8, num_edges=28,\n",
       "       ndata_schemes={}\n",
       "       edata_schemes={}),\n",
       " Graph(num_nodes=12, num_edges=46,\n",
       "       ndata_schemes={}\n",
       "       edata_schemes={}),\n",
       " Graph(num_nodes=16, num_edges=64,\n",
       "       ndata_schemes={}\n",
       "       edata_schemes={}),\n",
       " Graph(num_nodes=10, num_edges=36,\n",
       "       ndata_schemes={}\n",
       "       edata_schemes={}),\n",
       " Graph(num_nodes=12, num_edges=44,\n",
       "       ndata_schemes={}\n",
       "       edata_schemes={}),\n",
       " Graph(num_nodes=14, num_edges=196,\n",
       "       ndata_schemes={}\n",
       "       edata_schemes={}),\n",
       " Graph(num_nodes=13, num_edges=169,\n",
       "       ndata_schemes={}\n",
       "       edata_schemes={}),\n",
       " Graph(num_nodes=14, num_edges=196,\n",
       "       ndata_schemes={}\n",
       "       edata_schemes={}),\n",
       " Graph(num_nodes=14, num_edges=196,\n",
       "       ndata_schemes={}\n",
       "       edata_schemes={}),\n",
       " Graph(num_nodes=18, num_edges=324,\n",
       "       ndata_schemes={}\n",
       "       edata_schemes={}),\n",
       " Graph(num_nodes=14, num_edges=196,\n",
       "       ndata_schemes={}\n",
       "       edata_schemes={}),\n",
       " Graph(num_nodes=13, num_edges=169,\n",
       "       ndata_schemes={}\n",
       "       edata_schemes={}),\n",
       " Graph(num_nodes=17, num_edges=289,\n",
       "       ndata_schemes={}\n",
       "       edata_schemes={}),\n",
       " Graph(num_nodes=15, num_edges=225,\n",
       "       ndata_schemes={}\n",
       "       edata_schemes={}),\n",
       " Graph(num_nodes=15, num_edges=225,\n",
       "       ndata_schemes={}\n",
       "       edata_schemes={}),\n",
       " Graph(num_nodes=10, num_edges=40,\n",
       "       ndata_schemes={}\n",
       "       edata_schemes={}),\n",
       " Graph(num_nodes=10, num_edges=40,\n",
       "       ndata_schemes={}\n",
       "       edata_schemes={}),\n",
       " Graph(num_nodes=14, num_edges=56,\n",
       "       ndata_schemes={}\n",
       "       edata_schemes={}),\n",
       " Graph(num_nodes=18, num_edges=72,\n",
       "       ndata_schemes={}\n",
       "       edata_schemes={}),\n",
       " Graph(num_nodes=12, num_edges=48,\n",
       "       ndata_schemes={}\n",
       "       edata_schemes={}),\n",
       " Graph(num_nodes=10, num_edges=40,\n",
       "       ndata_schemes={}\n",
       "       edata_schemes={}),\n",
       " Graph(num_nodes=14, num_edges=56,\n",
       "       ndata_schemes={}\n",
       "       edata_schemes={}),\n",
       " Graph(num_nodes=10, num_edges=40,\n",
       "       ndata_schemes={}\n",
       "       edata_schemes={}),\n",
       " Graph(num_nodes=10, num_edges=40,\n",
       "       ndata_schemes={}\n",
       "       edata_schemes={}),\n",
       " Graph(num_nodes=12, num_edges=48,\n",
       "       ndata_schemes={}\n",
       "       edata_schemes={})]"
      ]
     },
     "execution_count": 19,
     "metadata": {},
     "output_type": "execute_result"
    }
   ],
   "source": [
    "# test_Xは学習には使っていないテスト用のグラフが80個入っているリスト\n",
    "test_X"
   ]
  },
  {
   "cell_type": "code",
   "execution_count": 20,
   "id": "cf899802",
   "metadata": {
    "_kg_hide-output": true,
    "execution": {
     "iopub.execute_input": "2022-01-09T19:07:18.759409Z",
     "iopub.status.busy": "2022-01-09T19:07:18.758369Z",
     "iopub.status.idle": "2022-01-09T19:07:18.769141Z",
     "shell.execute_reply": "2022-01-09T19:07:18.769769Z",
     "shell.execute_reply.started": "2022-01-09T18:40:01.953563Z"
    },
    "papermill": {
     "duration": 0.063672,
     "end_time": "2022-01-09T19:07:18.769947",
     "exception": false,
     "start_time": "2022-01-09T19:07:18.706275",
     "status": "completed"
    },
    "tags": []
   },
   "outputs": [
    {
     "data": {
      "text/plain": [
       "[tensor(0),\n",
       " tensor(0),\n",
       " tensor(0),\n",
       " tensor(0),\n",
       " tensor(0),\n",
       " tensor(0),\n",
       " tensor(0),\n",
       " tensor(0),\n",
       " tensor(0),\n",
       " tensor(0),\n",
       " tensor(1),\n",
       " tensor(1),\n",
       " tensor(1),\n",
       " tensor(1),\n",
       " tensor(1),\n",
       " tensor(1),\n",
       " tensor(1),\n",
       " tensor(1),\n",
       " tensor(1),\n",
       " tensor(1),\n",
       " tensor(2),\n",
       " tensor(2),\n",
       " tensor(2),\n",
       " tensor(2),\n",
       " tensor(2),\n",
       " tensor(2),\n",
       " tensor(2),\n",
       " tensor(2),\n",
       " tensor(2),\n",
       " tensor(2),\n",
       " tensor(3),\n",
       " tensor(3),\n",
       " tensor(3),\n",
       " tensor(3),\n",
       " tensor(3),\n",
       " tensor(3),\n",
       " tensor(3),\n",
       " tensor(3),\n",
       " tensor(3),\n",
       " tensor(3),\n",
       " tensor(4),\n",
       " tensor(4),\n",
       " tensor(4),\n",
       " tensor(4),\n",
       " tensor(4),\n",
       " tensor(4),\n",
       " tensor(4),\n",
       " tensor(4),\n",
       " tensor(4),\n",
       " tensor(4),\n",
       " tensor(5),\n",
       " tensor(5),\n",
       " tensor(5),\n",
       " tensor(5),\n",
       " tensor(5),\n",
       " tensor(5),\n",
       " tensor(5),\n",
       " tensor(5),\n",
       " tensor(5),\n",
       " tensor(5),\n",
       " tensor(6),\n",
       " tensor(6),\n",
       " tensor(6),\n",
       " tensor(6),\n",
       " tensor(6),\n",
       " tensor(6),\n",
       " tensor(6),\n",
       " tensor(6),\n",
       " tensor(6),\n",
       " tensor(6),\n",
       " tensor(7),\n",
       " tensor(7),\n",
       " tensor(7),\n",
       " tensor(7),\n",
       " tensor(7),\n",
       " tensor(7),\n",
       " tensor(7),\n",
       " tensor(7),\n",
       " tensor(7),\n",
       " tensor(7)]"
      ]
     },
     "execution_count": 20,
     "metadata": {},
     "output_type": "execute_result"
    }
   ],
   "source": [
    "# test_Yは正解クラスが80個入っているリスト\n",
    "test_Y"
   ]
  },
  {
   "cell_type": "code",
   "execution_count": 21,
   "id": "f0076a60",
   "metadata": {
    "execution": {
     "iopub.execute_input": "2022-01-09T19:07:18.873755Z",
     "iopub.status.busy": "2022-01-09T19:07:18.872805Z",
     "iopub.status.idle": "2022-01-09T19:07:18.881202Z",
     "shell.execute_reply": "2022-01-09T19:07:18.881795Z",
     "shell.execute_reply.started": "2022-01-09T18:38:16.96636Z"
    },
    "papermill": {
     "duration": 0.062165,
     "end_time": "2022-01-09T19:07:18.881970",
     "exception": false,
     "start_time": "2022-01-09T19:07:18.819805",
     "status": "completed"
    },
    "tags": []
   },
   "outputs": [],
   "source": [
    "# テスト用のグラフのリストを`dgl.batch`でまとめる\n",
    "test_bg = dgl.batch(test_X)"
   ]
  },
  {
   "cell_type": "code",
   "execution_count": 22,
   "id": "dd662723",
   "metadata": {
    "execution": {
     "iopub.execute_input": "2022-01-09T19:07:18.985602Z",
     "iopub.status.busy": "2022-01-09T19:07:18.984581Z",
     "iopub.status.idle": "2022-01-09T19:07:18.990741Z",
     "shell.execute_reply": "2022-01-09T19:07:18.991315Z",
     "shell.execute_reply.started": "2022-01-09T18:41:26.579532Z"
    },
    "papermill": {
     "duration": 0.059874,
     "end_time": "2022-01-09T19:07:18.991516",
     "exception": false,
     "start_time": "2022-01-09T19:07:18.931642",
     "status": "completed"
    },
    "tags": []
   },
   "outputs": [
    {
     "data": {
      "text/plain": [
       "torch.Size([80, 1])"
      ]
     },
     "execution_count": 22,
     "metadata": {},
     "output_type": "execute_result"
    }
   ],
   "source": [
    "# テスト用の正解が入っている要素数=80のリストをtorch.Tensor;size=(80,1)に変換する\n",
    "test_Y = torch.tensor(test_Y).float().view(-1, 1)\n",
    "test_Y.shape"
   ]
  },
  {
   "cell_type": "code",
   "execution_count": 23,
   "id": "b37d086c",
   "metadata": {
    "execution": {
     "iopub.execute_input": "2022-01-09T19:07:19.094839Z",
     "iopub.status.busy": "2022-01-09T19:07:19.093884Z",
     "iopub.status.idle": "2022-01-09T19:07:19.107154Z",
     "shell.execute_reply": "2022-01-09T19:07:19.107729Z",
     "shell.execute_reply.started": "2022-01-09T18:43:08.682001Z"
    },
    "papermill": {
     "duration": 0.066625,
     "end_time": "2022-01-09T19:07:19.107911",
     "exception": false,
     "start_time": "2022-01-09T19:07:19.041286",
     "status": "completed"
    },
    "tags": []
   },
   "outputs": [],
   "source": [
    "# 推論させるにはモデルに`dgl.batch`でまとめたグラフを入力する\n",
    "pred = model(test_bg)"
   ]
  },
  {
   "cell_type": "code",
   "execution_count": 24,
   "id": "e6a4f704",
   "metadata": {
    "execution": {
     "iopub.execute_input": "2022-01-09T19:07:19.211779Z",
     "iopub.status.busy": "2022-01-09T19:07:19.210808Z",
     "iopub.status.idle": "2022-01-09T19:07:19.216223Z",
     "shell.execute_reply": "2022-01-09T19:07:19.216822Z",
     "shell.execute_reply.started": "2022-01-09T18:43:20.782108Z"
    },
    "papermill": {
     "duration": 0.059172,
     "end_time": "2022-01-09T19:07:19.216999",
     "exception": false,
     "start_time": "2022-01-09T19:07:19.157827",
     "status": "completed"
    },
    "tags": []
   },
   "outputs": [
    {
     "data": {
      "text/plain": [
       "torch.Size([80, 8])"
      ]
     },
     "execution_count": 24,
     "metadata": {},
     "output_type": "execute_result"
    }
   ],
   "source": [
    "# 各グラフ x 8クラスの予測値が返る\n",
    "pred.shape"
   ]
  },
  {
   "cell_type": "code",
   "execution_count": 25,
   "id": "0a6c4acc",
   "metadata": {
    "execution": {
     "iopub.execute_input": "2022-01-09T19:07:19.323863Z",
     "iopub.status.busy": "2022-01-09T19:07:19.322856Z",
     "iopub.status.idle": "2022-01-09T19:07:19.328478Z",
     "shell.execute_reply": "2022-01-09T19:07:19.327889Z",
     "shell.execute_reply.started": "2022-01-09T18:45:44.144418Z"
    },
    "papermill": {
     "duration": 0.060669,
     "end_time": "2022-01-09T19:07:19.328624",
     "exception": false,
     "start_time": "2022-01-09T19:07:19.267955",
     "status": "completed"
    },
    "tags": []
   },
   "outputs": [
    {
     "data": {
      "text/plain": [
       "torch.Size([80, 8])"
      ]
     },
     "execution_count": 25,
     "metadata": {},
     "output_type": "execute_result"
    }
   ],
   "source": [
    "# softmaxで各グラフ x 8クラスの確率分布に変換\n",
    "probs_Y = torch.softmax(pred, 1)\n",
    "probs_Y.shape"
   ]
  },
  {
   "cell_type": "code",
   "execution_count": 26,
   "id": "7b196478",
   "metadata": {
    "execution": {
     "iopub.execute_input": "2022-01-09T19:07:19.436760Z",
     "iopub.status.busy": "2022-01-09T19:07:19.435963Z",
     "iopub.status.idle": "2022-01-09T19:07:19.441304Z",
     "shell.execute_reply": "2022-01-09T19:07:19.440667Z",
     "shell.execute_reply.started": "2022-01-09T18:50:07.113278Z"
    },
    "papermill": {
     "duration": 0.062229,
     "end_time": "2022-01-09T19:07:19.441476",
     "exception": false,
     "start_time": "2022-01-09T19:07:19.379247",
     "status": "completed"
    },
    "tags": []
   },
   "outputs": [],
   "source": [
    "# ここわかんない\n",
    "sampled_Y = torch.multinomial(probs_Y, 1)\n",
    "# sampled_Y"
   ]
  },
  {
   "cell_type": "code",
   "execution_count": 27,
   "id": "88bdeef8",
   "metadata": {
    "execution": {
     "iopub.execute_input": "2022-01-09T19:07:19.548666Z",
     "iopub.status.busy": "2022-01-09T19:07:19.547889Z",
     "iopub.status.idle": "2022-01-09T19:07:19.550169Z",
     "shell.execute_reply": "2022-01-09T19:07:19.550838Z",
     "shell.execute_reply.started": "2022-01-09T18:50:58.636004Z"
    },
    "papermill": {
     "duration": 0.058873,
     "end_time": "2022-01-09T19:07:19.551045",
     "exception": false,
     "start_time": "2022-01-09T19:07:19.492172",
     "status": "completed"
    },
    "tags": []
   },
   "outputs": [],
   "source": [
    "# なぜtorch.argmaxじゃないんだろう\n",
    "argmax_Y = torch.max(probs_Y, 1)[1].view(-1, 1)\n",
    "# argmax_Y"
   ]
  },
  {
   "cell_type": "code",
   "execution_count": 28,
   "id": "944b0927",
   "metadata": {
    "execution": {
     "iopub.execute_input": "2022-01-09T19:07:19.661905Z",
     "iopub.status.busy": "2022-01-09T19:07:19.661185Z",
     "iopub.status.idle": "2022-01-09T19:07:19.666055Z",
     "shell.execute_reply": "2022-01-09T19:07:19.666568Z",
     "shell.execute_reply.started": "2022-01-09T18:51:01.963617Z"
    },
    "papermill": {
     "duration": 0.063137,
     "end_time": "2022-01-09T19:07:19.666759",
     "exception": false,
     "start_time": "2022-01-09T19:07:19.603622",
     "status": "completed"
    },
    "tags": []
   },
   "outputs": [
    {
     "name": "stdout",
     "output_type": "stream",
     "text": [
      "Accuracy of sampled predictions on the test set: 55.0000%\n",
      "Accuracy of argmax predictions on the test set: 70.000000%\n"
     ]
    }
   ],
   "source": [
    "print('Accuracy of sampled predictions on the test set: {:.4f}%'.format(\n",
    "    (test_Y == sampled_Y.float()).sum().item() / len(test_Y) * 100))\n",
    "print('Accuracy of argmax predictions on the test set: {:4f}%'.format(\n",
    "    (test_Y == argmax_Y.float()).sum().item() / len(test_Y) * 100))"
   ]
  },
  {
   "cell_type": "code",
   "execution_count": null,
   "id": "7bffbe57",
   "metadata": {
    "papermill": {
     "duration": 0.050389,
     "end_time": "2022-01-09T19:07:19.768505",
     "exception": false,
     "start_time": "2022-01-09T19:07:19.718116",
     "status": "completed"
    },
    "tags": []
   },
   "outputs": [],
   "source": []
  }
 ],
 "metadata": {
  "kernelspec": {
   "display_name": "Python 3",
   "language": "python",
   "name": "python3"
  },
  "language_info": {
   "codemirror_mode": {
    "name": "ipython",
    "version": 3
   },
   "file_extension": ".py",
   "mimetype": "text/x-python",
   "name": "python",
   "nbconvert_exporter": "python",
   "pygments_lexer": "ipython3",
   "version": "3.7.12"
  },
  "papermill": {
   "default_parameters": {},
   "duration": 87.577726,
   "end_time": "2022-01-09T19:07:20.732535",
   "environment_variables": {},
   "exception": null,
   "input_path": "__notebook__.ipynb",
   "output_path": "__notebook__.ipynb",
   "parameters": {},
   "start_time": "2022-01-09T19:05:53.154809",
   "version": "2.3.3"
  }
 },
 "nbformat": 4,
 "nbformat_minor": 5
}

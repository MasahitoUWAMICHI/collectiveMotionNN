{
 "cells": [
  {
   "cell_type": "code",
   "execution_count": 1,
   "id": "fe225d6f",
   "metadata": {
    "ExecuteTime": {
     "end_time": "2022-10-11T05:46:28.387094Z",
     "start_time": "2022-10-11T05:46:25.994655Z"
    }
   },
   "outputs": [
    {
     "name": "stdout",
     "output_type": "stream",
     "text": [
      "Collecting torchdiffeq\n",
      "  Downloading torchdiffeq-0.2.3-py3-none-any.whl (31 kB)\n",
      "Requirement already satisfied: torch>=1.3.0 in /home/uwamichi/.pyenv/versions/3.8.13/lib/python3.8/site-packages (from torchdiffeq) (1.12.1)\n",
      "Requirement already satisfied: scipy>=1.4.0 in /home/uwamichi/.pyenv/versions/3.8.13/lib/python3.8/site-packages (from torchdiffeq) (1.8.1)\n",
      "Requirement already satisfied: numpy<1.25.0,>=1.17.3 in /home/uwamichi/.pyenv/versions/3.8.13/lib/python3.8/site-packages (from scipy>=1.4.0->torchdiffeq) (1.23.1)\n",
      "Requirement already satisfied: typing-extensions in /home/uwamichi/.pyenv/versions/3.8.13/lib/python3.8/site-packages (from torch>=1.3.0->torchdiffeq) (4.2.0)\n",
      "Installing collected packages: torchdiffeq\n",
      "Successfully installed torchdiffeq-0.2.3\n"
     ]
    }
   ],
   "source": [
    "!pip install torchdiffeq"
   ]
  },
  {
   "cell_type": "code",
   "execution_count": 2,
   "id": "fa7286ec",
   "metadata": {
    "ExecuteTime": {
     "end_time": "2022-10-11T05:46:28.425596Z",
     "start_time": "2022-10-11T05:46:28.421303Z"
    }
   },
   "outputs": [],
   "source": [
    "#https://qiita.com/windfall/items/72b303867b174875f1b3"
   ]
  },
  {
   "cell_type": "code",
   "execution_count": 5,
   "id": "c08b0310",
   "metadata": {
    "ExecuteTime": {
     "end_time": "2022-10-11T05:46:44.136515Z",
     "start_time": "2022-10-11T05:46:41.719302Z"
    }
   },
   "outputs": [],
   "source": [
    "import torch\n",
    "from torchdiffeq import odeint\n",
    "\n",
    "import matplotlib.pyplot as plt"
   ]
  },
  {
   "cell_type": "code",
   "execution_count": 10,
   "id": "e5cf1dbe",
   "metadata": {
    "ExecuteTime": {
     "end_time": "2022-10-11T05:50:45.428581Z",
     "start_time": "2022-10-11T05:50:45.389269Z"
    }
   },
   "outputs": [],
   "source": [
    "def func(t, z):\n",
    "    return t\n",
    "\n",
    "z0 = torch.Tensor([0])\n",
    "t = torch.linspace(0,2,101)\n",
    "out = odeint(func, z0, t)"
   ]
  },
  {
   "cell_type": "code",
   "execution_count": 15,
   "id": "c40bf61c",
   "metadata": {
    "ExecuteTime": {
     "end_time": "2022-10-11T05:51:52.408778Z",
     "start_time": "2022-10-11T05:51:52.195948Z"
    }
   },
   "outputs": [
    {
     "data": {
      "text/plain": [
       "[<matplotlib.lines.Line2D at 0x7f64766f9c70>]"
      ]
     },
     "execution_count": 15,
     "metadata": {},
     "output_type": "execute_result"
    },
    {
     "data": {
      "image/png": "[encoded data removed]",
      "text/plain": [
       "<Figure size 432x288 with 1 Axes>"
      ]
     },
     "metadata": {
      "needs_background": "light"
     },
     "output_type": "display_data"
    }
   ],
   "source": [
    "%matplotlib inline\n",
    "\n",
    "plt.plot(t, out)\n",
    "#plt.axes().set_aspect('equal', 'datalim')  # 縦横比を1:1にする\n",
    "#plt.grid()\n",
    "#plt.xlim(0,2)\n",
    "#plt.show()\n"
   ]
  },
  {
   "cell_type": "code",
   "execution_count": null,
   "id": "481ad98b",
   "metadata": {},
   "outputs": [],
   "source": [
    "class Oscillation:\n",
    "    def __init__(self, km):  # km = k/m\n",
    "        self.mat = torch.Tensor([[0, 1],\n",
    "                                 [-km, 0]])\n",
    "\n",
    "    def solve(self, t, x0, dx0):\n",
    "        y0 = torch.cat([x0, dx0])\n",
    "        out = odeint(self.func, y0, t)\n",
    "        return out\n",
    "\n",
    "    def func(self, t, y):\n",
    "        # print(t)\n",
    "        out = y @ self.mat  # @は行列積\n",
    "        return out\n",
    "\n",
    "if __name__==\"__main__\":\n",
    "    x0 = torch.Tensor([1])\n",
    "    dx0 = torch.Tensor([0])\n",
    "\n",
    "    import numpy as np\n",
    "    t = torch.linspace(0, 4 * np.pi, 1000)\n",
    "    solver = Oscillation(1)\n",
    "    out = solver.solve(t, x0, dx0)"
   ]
  }
 ],
 "metadata": {
  "kernelspec": {
   "display_name": "Python 3 (ipykernel)",
   "language": "python",
   "name": "python3"
  },
  "language_info": {
   "codemirror_mode": {
    "name": "ipython",
    "version": 3
   },
   "file_extension": ".py",
   "mimetype": "text/x-python",
   "name": "python",
   "nbconvert_exporter": "python",
   "pygments_lexer": "ipython3",
   "version": "3.8.13"
  },
  "toc": {
   "base_numbering": 1,
   "nav_menu": {},
   "number_sections": true,
   "sideBar": true,
   "skip_h1_title": false,
   "title_cell": "Table of Contents",
   "title_sidebar": "Contents",
   "toc_cell": false,
   "toc_position": {},
   "toc_section_display": true,
   "toc_window_display": false
  },
  "varInspector": {
   "cols": {
    "lenName": 16,
    "lenType": 16,
    "lenVar": 40
   },
   "kernels_config": {
    "python": {
     "delete_cmd_postfix": "",
     "delete_cmd_prefix": "del ",
     "library": "var_list.py",
     "varRefreshCmd": "print(var_dic_list())"
    },
    "r": {
     "delete_cmd_postfix": ") ",
     "delete_cmd_prefix": "rm(",
     "library": "var_list.r",
     "varRefreshCmd": "cat(var_dic_list()) "
    }
   },
   "types_to_exclude": [
    "module",
    "function",
    "builtin_function_or_method",
    "instance",
    "_Feature"
   ],
   "window_display": true
  }
 },
 "nbformat": 4,
 "nbformat_minor": 5
}

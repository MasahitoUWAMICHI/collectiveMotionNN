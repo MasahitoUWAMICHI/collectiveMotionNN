{
 "cells": [
  {
   "cell_type": "code",
   "execution_count": 1,
   "id": "b86f7f1c",
   "metadata": {
    "ExecuteTime": {
     "end_time": "2023-06-12T10:07:14.061522Z",
     "start_time": "2023-06-12T10:07:14.058986Z"
    }
   },
   "outputs": [],
   "source": [
    "import datetime\n",
    "import os\n",
    "\n",
    "import collectiveMotionNN.examples.multitypedCollectiveMotion_reSimulate as mcmODErs\n",
    "#import argparse"
   ]
  },
  {
   "cell_type": "code",
   "execution_count": 10,
   "id": "7c589206",
   "metadata": {
    "ExecuteTime": {
     "end_time": "2023-06-12T10:11:01.038085Z",
     "start_time": "2023-06-12T10:07:14.068350Z"
    },
    "scrolled": true
   },
   "outputs": [
    {
     "name": "stdout",
     "output_type": "stream",
     "text": [
      "20240430173756\n",
      "{'sigma': None, 'L': 20, 'N_dim': 2, 'N_particles': 400, 'N_batch': 3, 'ratio_celltypes': [0.0, 1.0], 't_max': 300, 'dt_step': 0.1, 'dt_save': 1.0, 'periodic': 20, 'device': 'cuda:2', 'save_directory_simulation': 'mcmNonParamODE2Dsym_20240423183426/reSimulate_20240430173756', 'save_x': 'Mcm_ODE_traj.pt', 'save_t': 'Mcm_ODE_t_eval.pt', 'save_model': 'Mcm_ODE_model.pt', 'isSDE': False, 'method_SDE': 'euler', 'noise_type': 'general', 'sde_type': 'ito', 'bm_levy': 'none', 'method_ODE': 'euler', 'N_batch_edgeUpdate': 1230, 'load_directory_learning': 'mcmNonParamODE2Dsym_20240423183426', 'load_learned_model': 'Mcm_nonParametric2Dsym_learned_model.pt', 'save_params': 'Mcm_reSimulate_parameters.npy'}\n",
      "Graph(num_nodes=1200, num_edges=16954,\n",
      "      ndata_schemes={'x': Scheme(shape=(2,), dtype=torch.float32), 'theta': Scheme(shape=(1,), dtype=torch.float32), 'celltype': Scheme(shape=(), dtype=torch.int64), 'v': Scheme(shape=(2,), dtype=torch.float32), 'w': Scheme(shape=(1,), dtype=torch.float32)}\n",
      "      edata_schemes={})\n"
     ]
    }
   ],
   "source": [
    "# Use the date and time to create a unique directory for the simulation\n",
    "now = datetime.datetime.now()\n",
    "d = now.strftime('%Y%m%d%H%M%S')\n",
    "print(d)\n",
    "\n",
    "\n",
    "load_directory_learning = 'mcmNonParamODE2Dsym_20240423183426' # the directory where the learned model is saved\n",
    "save_directory_simulation = os.path.join(load_directory_learning, 'reSimulate_'+d) # the directory where the simulation results will be saved\n",
    "\n",
    "mcmODErs.main(device = 'cuda:2', # device\n",
    "            load_directory_learning = load_directory_learning, # the directory where the learned model is saved\n",
    "            save_directory_simulation = save_directory_simulation, # the directory where the simulation results will be saved\n",
    "            load_learned_model = 'Mcm_nonParametric2Dsym_learned_model.pt', # the name of the learned model\n",
    "            dt_step = 1e-1, # time step for the simulation\n",
    "            isSDE = False, # if True, the simulation includes noise\n",
    "            L = 20, # size of the square domain where the initial positions of the particles are sampled\n",
    "            periodic = 20, # periodic boundary conditions\n",
    "            t_max = 300, # total simulation time\n",
    "            N_particles = 400, # number of particles\n",
    "            ratio_celltypes = [0.5, 0.5], # ratio of the two cell types\n",
    "            N_batch = 3, # number of batches for the simulation\n",
    "            N_batch_edgeUpdate = 1230, # the number of graphs whose edges are updated at once; smaller number saves the memory but may slow down the training\n",
    "            )"
   ]
  },
  {
   "cell_type": "code",
   "execution_count": null,
   "id": "bb3539b1",
   "metadata": {
    "ExecuteTime": {
     "end_time": "2023-06-12T10:11:01.046166Z",
     "start_time": "2023-06-12T10:11:01.043252Z"
    }
   },
   "outputs": [],
   "source": [
    "print(d)"
   ]
  },
  {
   "cell_type": "code",
   "execution_count": null,
   "id": "88a87fe7",
   "metadata": {},
   "outputs": [],
   "source": []
  }
 ],
 "metadata": {
  "kernelspec": {
   "display_name": "Python 3 (ipykernel)",
   "language": "python",
   "name": "python3"
  },
  "language_info": {
   "codemirror_mode": {
    "name": "ipython",
    "version": 3
   },
   "file_extension": ".py",
   "mimetype": "text/x-python",
   "name": "python",
   "nbconvert_exporter": "python",
   "pygments_lexer": "ipython3",
   "version": "3.8.13"
  },
  "toc": {
   "base_numbering": 1,
   "nav_menu": {},
   "number_sections": true,
   "sideBar": true,
   "skip_h1_title": false,
   "title_cell": "Table of Contents",
   "title_sidebar": "Contents",
   "toc_cell": false,
   "toc_position": {},
   "toc_section_display": true,
   "toc_window_display": false
  },
  "varInspector": {
   "cols": {
    "lenName": 16,
    "lenType": 16,
    "lenVar": 40
   },
   "kernels_config": {
    "python": {
     "delete_cmd_postfix": "",
     "delete_cmd_prefix": "del ",
     "library": "var_list.py",
     "varRefreshCmd": "print(var_dic_list())"
    },
    "r": {
     "delete_cmd_postfix": ") ",
     "delete_cmd_prefix": "rm(",
     "library": "var_list.r",
     "varRefreshCmd": "cat(var_dic_list()) "
    }
   },
   "position": {
    "height": "144.017px",
    "left": "701px",
    "right": "20px",
    "top": "231px",
    "width": "350px"
   },
   "types_to_exclude": [
    "module",
    "function",
    "builtin_function_or_method",
    "instance",
    "_Feature"
   ],
   "window_display": false
  }
 },
 "nbformat": 4,
 "nbformat_minor": 5
}

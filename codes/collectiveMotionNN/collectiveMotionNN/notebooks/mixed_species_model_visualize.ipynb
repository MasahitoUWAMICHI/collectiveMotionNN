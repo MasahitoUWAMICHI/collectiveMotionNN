{
 "cells": [
  {
   "cell_type": "code",
   "execution_count": 122,
   "id": "f6239a84",
   "metadata": {
    "ExecuteTime": {
     "end_time": "2024-01-22T01:47:45.434534Z",
     "start_time": "2024-01-22T01:47:44.479493Z"
    }
   },
   "outputs": [],
   "source": [
    "import torch\n",
    "from torch import nn\n",
    "\n",
    "import cloudpickle\n",
    "\n",
    "import matplotlib.pyplot as plt\n",
    "from ipywidgets import interact\n",
    "\n",
    "import numpy as np\n",
    "import os"
   ]
  },
  {
   "cell_type": "code",
   "execution_count": 123,
   "id": "3fccc2f7",
   "metadata": {
    "ExecuteTime": {
     "end_time": "2024-01-22T01:47:45.440658Z",
     "start_time": "2024-01-22T01:47:45.436923Z"
    }
   },
   "outputs": [],
   "source": [
    "plt.rcParams['figure.figsize'] = [5,4]\n",
    "plt.rcParams['font.size'] = 16\n",
    "plt.rcParams['savefig.bbox'] = 'standard'#'tight'\n",
    "plt.rcParams['lines.markersize'] = 3\n",
    "plt.rcParams['lines.linewidth'] = 3\n",
    "plt.rcParams['svg.fonttype'] = 'none'\n",
    "plt.rcParams['font.family'] = 'Times New Roman'\n",
    "#plt.rcParams['font.sans-serif'] = ['Arial']\n",
    "plt.rcParams['text.usetex'] = False\n",
    "plt.rcParams['mathtext.fontset'] = 'cm'"
   ]
  },
  {
   "cell_type": "code",
   "execution_count": 124,
   "id": "f37f4818",
   "metadata": {
    "ExecuteTime": {
     "end_time": "2024-01-22T01:47:45.594832Z",
     "start_time": "2024-01-22T01:47:45.442405Z"
    }
   },
   "outputs": [
    {
     "data": {
      "text/plain": [
       "[<matplotlib.lines.Line2D at 0x19d10b72e20>]"
      ]
     },
     "execution_count": 124,
     "metadata": {},
     "output_type": "execute_result"
    },
    {
     "data": {
      "image/png": "[encoded data removed]",
      "text/plain": [
       "<Figure size 500x400 with 1 Axes>"
      ]
     },
     "metadata": {},
     "output_type": "display_data"
    }
   ],
   "source": [
    "plt.plot([0, 0], [1, 1], 'o-')"
   ]
  },
  {
   "cell_type": "code",
   "execution_count": 125,
   "id": "867b5bc8",
   "metadata": {
    "ExecuteTime": {
     "end_time": "2024-01-22T02:12:42.229001Z",
     "start_time": "2024-01-22T02:12:42.223493Z"
    }
   },
   "outputs": [],
   "source": [
    "simulation_dir = 'mcmSimulate_20240423191644' #'mcmNonParamODE2Dsym_20240312182210/reSimulate_20240423133657'# the directory where the simulation results are stored\n",
    "dataName = 'Mcm_SDE_traj_celltype' #'Mcm_ODE_traj' # the name of the data file\n",
    "t_dataName = 'Mcm_SDE_t_eval' #'Mcm_ODE_t_eval' # the name of the time file"
   ]
  },
  {
   "cell_type": "code",
   "execution_count": 126,
   "id": "bb0e23a0",
   "metadata": {
    "ExecuteTime": {
     "end_time": "2024-01-22T02:12:43.277565Z",
     "start_time": "2024-01-22T02:12:42.514049Z"
    },
    "scrolled": true
   },
   "outputs": [
    {
     "name": "stdout",
     "output_type": "stream",
     "text": [
      "torch.Size([301, 6, 400, 3])\n",
      "tensor([[[[6.8076e+00, 1.0789e+01, 5.1156e+00],\n",
      "          [1.2491e+01, 1.1105e+01, 2.8567e+00],\n",
      "          [1.2733e+01, 1.5842e+01, 5.2821e+00],\n",
      "          ...,\n",
      "          [1.8154e+01, 1.5188e+01, 1.0770e+00],\n",
      "          [4.8010e-01, 4.3235e+00, 6.9449e-01],\n",
      "          [1.5312e+01, 8.2567e+00, 4.5015e+00]],\n",
      "\n",
      "         [[7.1919e+00, 8.5020e+00, 3.1207e+00],\n",
      "          [1.1024e+01, 1.4443e+01, 6.0770e+00],\n",
      "          [9.8787e+00, 3.6447e+00, 3.0360e+00],\n",
      "          ...,\n",
      "          [1.0723e+01, 4.4881e+00, 5.1074e+00],\n",
      "          [1.1080e+01, 1.1608e+01, 4.6326e+00],\n",
      "          [1.3620e+00, 6.4223e+00, 1.0161e+00]],\n",
      "\n",
      "         [[1.7872e+01, 3.9619e+00, 4.8869e+00],\n",
      "          [6.1879e+00, 1.2995e+01, 1.0862e+00],\n",
      "          [8.5596e+00, 1.0144e+01, 1.2633e+00],\n",
      "          ...,\n",
      "          [1.1787e+01, 9.4842e+00, 3.7028e+00],\n",
      "          [6.3112e+00, 1.3947e+01, 4.5685e+00],\n",
      "          [4.6212e+00, 1.4168e+01, 1.8976e+00]],\n",
      "\n",
      "         [[8.3522e+00, 1.7531e+01, 1.9082e+00],\n",
      "          [3.8334e+00, 1.7444e-01, 6.1441e+00],\n",
      "          [1.2608e+00, 4.7260e-01, 5.2115e+00],\n",
      "          ...,\n",
      "          [1.2322e+00, 3.7592e+00, 9.0633e-01],\n",
      "          [1.3442e+01, 1.3720e+01, 2.5677e+00],\n",
      "          [6.3565e+00, 1.6971e+01, 5.4166e+00]],\n",
      "\n",
      "         [[1.6970e+01, 4.6516e+00, 2.9526e+00],\n",
      "          [1.9917e+01, 1.5426e-01, 3.5388e-01],\n",
      "          [5.1972e+00, 1.6258e+01, 3.7694e+00],\n",
      "          ...,\n",
      "          [8.3367e+00, 2.6559e+00, 4.2931e+00],\n",
      "          [2.1652e-01, 6.6303e+00, 3.9273e+00],\n",
      "          [1.4847e+01, 8.5294e+00, 2.1513e+00]],\n",
      "\n",
      "         [[1.7895e+01, 1.1510e+01, 5.2853e+00],\n",
      "          [1.2813e+01, 9.9659e+00, 9.6503e-01],\n",
      "          [9.5246e-01, 2.5640e+00, 5.4663e+00],\n",
      "          ...,\n",
      "          [1.9588e+01, 1.4977e+01, 4.6783e+00],\n",
      "          [1.2469e+01, 8.1702e-01, 2.3025e+00],\n",
      "          [1.3934e+01, 1.1511e+01, 3.8994e-01]]],\n",
      "\n",
      "\n",
      "        [[[7.1918e+00, 9.5727e+00, 5.1806e+00],\n",
      "          [1.1381e+01, 1.1148e+01, 3.1332e+00],\n",
      "          [1.2993e+01, 1.5427e+01, 5.5117e+00],\n",
      "          ...,\n",
      "          [1.8895e+01, 1.6004e+01, 8.5656e-01],\n",
      "          [9.8013e-01, 4.6130e+00, 6.4356e-01],\n",
      "          [1.5027e+01, 7.2832e+00, 4.6673e+00]],\n",
      "\n",
      "         [[7.0162e+00, 8.6492e+00, 2.4934e+00],\n",
      "          [1.1973e+01, 1.4295e+01, 8.1149e-02],\n",
      "          [8.8975e+00, 3.9280e+00, 2.3229e+00],\n",
      "          ...,\n",
      "          [1.1432e+01, 3.3992e+00, 5.4729e+00],\n",
      "          [1.1237e+01, 1.1511e+01, 5.6162e+00],\n",
      "          [1.9249e+00, 7.4965e+00, 1.2964e+00]],\n",
      "\n",
      "         [[1.8560e+01, 3.5141e+00, 6.1495e+00],\n",
      "          [6.9645e+00, 1.3373e+01, 4.2389e-01],\n",
      "          [9.2517e+00, 1.0742e+01, 1.5310e+00],\n",
      "          ...,\n",
      "          [1.0794e+01, 9.3819e+00, 3.0402e+00],\n",
      "          [6.3372e+00, 1.3435e+01, 4.7413e+00],\n",
      "          [4.5471e+00, 1.5070e+01, 1.5137e+00]],\n",
      "\n",
      "         [[7.7661e+00, 1.8200e+01, 1.5721e+00],\n",
      "          [4.9840e+00, 6.4871e-01, 7.0851e-01],\n",
      "          [2.0647e+00, 1.8626e+01, 4.4991e+00],\n",
      "          ...,\n",
      "          [1.0362e+00, 4.5838e+00, 1.0059e+00],\n",
      "          [1.2701e+01, 1.4377e+01, 2.4341e+00],\n",
      "          [7.2564e+00, 1.6147e+01, 4.7302e+00]],\n",
      "\n",
      "         [[1.6078e+01, 4.9614e+00, 2.5087e+00],\n",
      "          [6.5825e-01, 4.2749e-01, 7.9965e-01],\n",
      "          [4.4439e+00, 1.5542e+01, 3.9974e+00],\n",
      "          ...,\n",
      "          [7.9130e+00, 1.7349e+00, 4.5112e+00],\n",
      "          [1.3951e-01, 6.2178e+00, 3.3324e+00],\n",
      "          [1.4747e+01, 9.8824e+00, 2.1962e+00]],\n",
      "\n",
      "         [[1.9121e+01, 1.1065e+01, 4.9723e+00],\n",
      "          [1.3495e+01, 1.0855e+01, 9.2567e-01],\n",
      "          [1.3318e+00, 1.7724e+00, 5.0341e+00],\n",
      "          ...,\n",
      "          [1.9839e+01, 1.4251e+01, 4.6224e+00],\n",
      "          [1.2813e+01, 1.2942e+00, 2.4187e+00],\n",
      "          [1.4940e+01, 1.1533e+01, 3.3035e-01]]],\n",
      "\n",
      "\n",
      "        [[[7.2661e+00, 8.8050e+00, 4.7079e+00],\n",
      "          [1.0389e+01, 1.1569e+01, 3.3821e+00],\n",
      "          [1.3935e+01, 1.4934e+01, 5.3088e+00],\n",
      "          ...,\n",
      "          [1.9726e+01, 1.6732e+01, 9.1104e-01],\n",
      "          [1.1332e+00, 4.9106e+00, 1.6864e-01],\n",
      "          [1.5189e+01, 6.4780e+00, 5.1559e+00]],\n",
      "\n",
      "         [[6.3679e+00, 9.0014e+00, 2.6092e+00],\n",
      "          [1.2714e+01, 1.4276e+01, 6.1806e+00],\n",
      "          [8.4898e+00, 4.4057e+00, 2.0899e+00],\n",
      "          ...,\n",
      "          [1.1554e+01, 2.6629e+00, 4.0809e+00],\n",
      "          [1.1824e+01, 1.1575e+01, 1.8297e-02],\n",
      "          [1.7461e+00, 8.0610e+00, 1.8393e+00]],\n",
      "\n",
      "         [[1.9009e+01, 3.7491e+00, 4.2220e-01],\n",
      "          [7.7930e+00, 1.3978e+01, 2.7140e-01],\n",
      "          [8.9592e+00, 1.1115e+01, 1.6925e+00],\n",
      "          ...,\n",
      "          [1.0485e+01, 9.4394e+00, 3.2899e+00],\n",
      "          [6.3758e+00, 1.2470e+01, 4.6259e+00],\n",
      "          [3.8374e+00, 1.5807e+01, 1.8312e+00]],\n",
      "\n",
      "         [[7.6070e+00, 1.9076e+01, 1.5054e+00],\n",
      "          [5.5538e+00, 1.0021e+00, 9.9025e-01],\n",
      "          [2.2265e+00, 1.8008e+01, 4.2824e+00],\n",
      "          ...,\n",
      "          [1.0844e+00, 4.9961e+00, 7.5847e-01],\n",
      "          [1.2103e+01, 1.4880e+01, 2.7176e+00],\n",
      "          [7.0281e+00, 1.5755e+01, 4.4339e+00]],\n",
      "\n",
      "         [[1.5913e+01, 5.0729e+00, 2.3924e+00],\n",
      "          [1.0513e+00, 2.2102e-01, 5.9910e+00],\n",
      "          [3.3838e+00, 1.5768e+01, 3.1319e+00],\n",
      "          ...,\n",
      "          [8.2683e+00, 1.1865e+00, 4.8936e+00],\n",
      "          [1.9809e+01, 5.9291e+00, 3.2484e+00],\n",
      "          [1.3965e+01, 1.0446e+01, 2.0994e+00]],\n",
      "\n",
      "         [[1.9384e+01, 1.0031e+01, 4.0920e+00],\n",
      "          [1.3713e+01, 1.1295e+01, 1.3655e+00],\n",
      "          [1.6284e+00, 7.8791e-01, 4.9133e+00],\n",
      "          ...,\n",
      "          [1.4514e-01, 1.3877e+01, 5.3653e+00],\n",
      "          [1.2274e+01, 1.7559e+00, 3.2677e+00],\n",
      "          [1.5982e+01, 1.1613e+01, 7.6983e-01]]],\n",
      "\n",
      "\n",
      "        ...,\n",
      "\n",
      "\n",
      "        [[[1.6635e+01, 5.5422e+00, 5.3983e+00],\n",
      "          [9.7320e+00, 1.9947e+00, 6.0897e+00],\n",
      "          [1.3620e+01, 2.7616e+00, 4.9496e+00],\n",
      "          ...,\n",
      "          [1.4425e+01, 1.6701e+01, 4.8349e+00],\n",
      "          [1.4512e+01, 1.6214e+01, 5.1249e+00],\n",
      "          [1.5307e+01, 2.4618e-01, 4.8345e+00]],\n",
      "\n",
      "         [[3.4140e+00, 1.3223e+01, 3.7668e+00],\n",
      "          [1.3441e+01, 1.9170e+01, 1.9752e+00],\n",
      "          [1.6514e+01, 9.2134e-01, 4.0431e+00],\n",
      "          ...,\n",
      "          [1.8492e+00, 9.8063e+00, 4.6222e-01],\n",
      "          [1.3507e+01, 5.9905e+00, 2.1184e-01],\n",
      "          [7.3257e+00, 9.4795e+00, 1.0567e+00]],\n",
      "\n",
      "         [[9.7647e+00, 1.5246e+01, 6.8331e-01],\n",
      "          [1.0128e+01, 7.3151e+00, 4.9327e+00],\n",
      "          [1.7848e+00, 5.2099e+00, 2.4038e+00],\n",
      "          ...,\n",
      "          [8.1280e+00, 6.3895e-01, 2.3789e+00],\n",
      "          [5.7088e+00, 3.0859e+00, 4.5338e+00],\n",
      "          [9.3175e+00, 4.0467e+00, 4.1979e+00]],\n",
      "\n",
      "         [[5.5423e+00, 1.4339e+01, 1.2857e+00],\n",
      "          [1.0205e+01, 4.3818e+00, 5.5151e+00],\n",
      "          [5.2454e+00, 1.8397e+01, 5.8376e+00],\n",
      "          ...,\n",
      "          [3.0836e+00, 1.3930e+01, 5.5867e-02],\n",
      "          [1.6630e+01, 1.3397e+00, 4.7814e+00],\n",
      "          [1.0235e+01, 2.7519e-01, 6.1105e+00]],\n",
      "\n",
      "         [[1.4974e+01, 3.3062e+00, 8.6708e-01],\n",
      "          [3.0862e+00, 1.0471e+01, 5.0653e+00],\n",
      "          [2.3664e+00, 1.0752e+01, 6.1704e+00],\n",
      "          ...,\n",
      "          [8.1465e+00, 1.6972e+01, 5.8165e+00],\n",
      "          [8.0857e-01, 1.8635e+00, 2.6118e+00],\n",
      "          [1.2598e+01, 1.3476e+01, 2.4230e+00]],\n",
      "\n",
      "         [[1.0584e+01, 1.8750e+01, 2.2608e+00],\n",
      "          [8.5769e+00, 1.9446e+01, 3.0480e+00],\n",
      "          [9.6955e+00, 1.0958e+01, 3.9748e+00],\n",
      "          ...,\n",
      "          [1.0718e+00, 2.2043e+00, 4.8038e+00],\n",
      "          [1.0026e+01, 1.8970e+01, 3.7393e+00],\n",
      "          [7.0083e+00, 1.8019e+01, 3.2663e+00]]],\n",
      "\n",
      "\n",
      "        [[[1.6447e+01, 4.5497e+00, 4.9468e+00],\n",
      "          [9.7543e+00, 1.8024e+00, 4.6072e+00],\n",
      "          [1.3456e+01, 1.8254e+00, 5.2380e+00],\n",
      "          ...,\n",
      "          [1.4552e+01, 1.5635e+01, 5.1610e+00],\n",
      "          [1.4668e+01, 1.5200e+01, 5.7088e+00],\n",
      "          [1.5333e+01, 1.9390e+01, 4.1546e+00]],\n",
      "\n",
      "         [[2.9669e+00, 1.2812e+01, 4.8590e+00],\n",
      "          [1.2993e+01, 1.9402e-02, 2.2312e+00],\n",
      "          [1.5717e+01, 2.8981e-01, 3.4018e+00],\n",
      "          ...,\n",
      "          [2.4921e+00, 1.0248e+01, 3.0987e-01],\n",
      "          [1.4203e+01, 5.5997e+00, 1.5821e-02],\n",
      "          [7.8184e+00, 1.0130e+01, 6.5642e-01]],\n",
      "\n",
      "         [[1.0407e+01, 1.6010e+01, 4.4320e-01],\n",
      "          [9.3527e+00, 6.9348e+00, 4.9196e+00],\n",
      "          [1.2702e+00, 5.8939e+00, 2.8386e+00],\n",
      "          ...,\n",
      "          [8.1581e+00, 6.4211e-01, 1.9836e+00],\n",
      "          [5.0626e+00, 2.7139e+00, 4.4111e+00],\n",
      "          [8.9574e+00, 4.1538e+00, 3.8552e+00]],\n",
      "\n",
      "         [[5.2978e+00, 1.5688e+01, 1.8989e+00],\n",
      "          [1.1019e+01, 3.9858e+00, 6.0221e+00],\n",
      "          [5.8263e+00, 1.7872e+01, 5.1450e+00],\n",
      "          ...,\n",
      "          [3.8415e+00, 1.4411e+01, 5.4848e-01],\n",
      "          [1.6244e+01, 4.9584e-01, 4.8970e+00],\n",
      "          [1.0973e+01, 1.9916e+01, 6.2483e+00]],\n",
      "\n",
      "         [[1.5179e+01, 4.0565e+00, 1.2133e+00],\n",
      "          [3.2810e+00, 9.7062e+00, 4.9993e+00],\n",
      "          [2.6673e+00, 1.0537e+01, 5.8314e+00],\n",
      "          ...,\n",
      "          [8.6982e+00, 1.6688e+01, 1.1028e-01],\n",
      "          [1.9959e+01, 2.5034e+00, 2.6268e+00],\n",
      "          [1.2148e+01, 1.4048e+01, 2.5160e+00]],\n",
      "\n",
      "         [[1.0571e+01, 1.8880e+01, 2.7753e+00],\n",
      "          [7.8589e+00, 1.9371e+01, 3.7523e+00],\n",
      "          [9.1521e+00, 1.0352e+01, 3.9919e+00],\n",
      "          ...,\n",
      "          [1.6376e+00, 1.2931e+00, 5.8004e+00],\n",
      "          [9.4406e+00, 1.8447e+01, 3.2839e+00],\n",
      "          [6.5569e+00, 1.7813e+01, 4.2840e+00]]],\n",
      "\n",
      "\n",
      "        [[[1.6452e+01, 3.6352e+00, 4.2565e+00],\n",
      "          [9.4451e+00, 1.3398e+00, 4.5317e+00],\n",
      "          [1.3615e+01, 8.2594e-01, 5.7885e+00],\n",
      "          ...,\n",
      "          [1.4691e+01, 1.4530e+01, 5.4603e+00],\n",
      "          [1.5268e+01, 1.4556e+01, 5.7034e+00],\n",
      "          [1.5379e+01, 1.8310e+01, 4.5126e+00]],\n",
      "\n",
      "         [[2.6049e+00, 1.2138e+01, 4.7910e+00],\n",
      "          [1.2152e+01, 5.4156e-01, 2.4309e+00],\n",
      "          [1.5024e+01, 1.9766e+01, 3.7313e+00],\n",
      "          ...,\n",
      "          [2.7846e+00, 9.8449e+00, 5.9513e+00],\n",
      "          [1.4609e+01, 5.4202e+00, 6.0892e+00],\n",
      "          [8.5724e+00, 1.0412e+01, 8.5220e-01]],\n",
      "\n",
      "         [[1.1310e+01, 1.6270e+01, 6.9580e-02],\n",
      "          [9.0417e+00, 6.1734e+00, 4.7674e+00],\n",
      "          [8.0008e-02, 6.3619e+00, 3.1631e+00],\n",
      "          ...,\n",
      "          [7.7012e+00, 8.4510e-01, 2.6493e+00],\n",
      "          [4.6313e+00, 2.3349e+00, 4.5359e+00],\n",
      "          [8.5337e+00, 3.6314e+00, 4.3986e+00]],\n",
      "\n",
      "         [[4.6092e+00, 1.6825e+01, 2.0866e+00],\n",
      "          [1.1934e+01, 4.3136e+00, 1.0207e+00],\n",
      "          [6.3186e+00, 1.7215e+01, 5.5845e+00],\n",
      "          ...,\n",
      "          [4.6269e+00, 1.4847e+01, 4.4288e-01],\n",
      "          [1.6746e+01, 1.9689e+01, 5.4056e+00],\n",
      "          [1.1343e+01, 1.9825e+01, 2.4010e-01]],\n",
      "\n",
      "         [[1.5489e+01, 5.0051e+00, 9.9655e-01],\n",
      "          [3.7091e+00, 8.8650e+00, 5.9109e+00],\n",
      "          [2.8719e+00, 1.0065e+01, 5.4311e+00],\n",
      "          ...,\n",
      "          [9.4797e+00, 1.6518e+01, 6.0248e+00],\n",
      "          [1.9301e+01, 3.0270e+00, 2.7319e+00],\n",
      "          [1.1862e+01, 1.4800e+01, 2.0121e+00]],\n",
      "\n",
      "         [[1.0609e+01, 1.9115e+01, 2.6432e+00],\n",
      "          [7.0526e+00, 1.9016e+01, 3.8928e+00],\n",
      "          [9.0761e+00, 9.4654e+00, 4.7979e+00],\n",
      "          ...,\n",
      "          [1.8962e+00, 6.1872e-01, 5.6404e+00],\n",
      "          [8.8025e+00, 1.8058e+01, 2.8843e+00],\n",
      "          [7.2373e+00, 1.6982e+01, 4.9507e+00]]]])\n",
      "torch.Size([6, 400])\n",
      "tensor([[1, 1, 1,  ..., 1, 1, 1],\n",
      "        [1, 1, 1,  ..., 1, 1, 1],\n",
      "        [1, 1, 1,  ..., 1, 1, 1],\n",
      "        [1, 1, 1,  ..., 1, 1, 1],\n",
      "        [1, 1, 1,  ..., 1, 1, 1],\n",
      "        [1, 1, 1,  ..., 1, 1, 1]])\n"
     ]
    }
   ],
   "source": [
    "xct = torch.load(os.path.join(simulation_dir, dataName+'.pt'))\n",
    "x = xct['xtheta']\n",
    "ct = xct['celltype']\n",
    "print(x.shape)\n",
    "print(x)\n",
    "print(ct.shape)\n",
    "print(ct)"
   ]
  },
  {
   "cell_type": "code",
   "execution_count": 127,
   "id": "159d1bfd",
   "metadata": {
    "ExecuteTime": {
     "end_time": "2024-01-22T02:12:43.889856Z",
     "start_time": "2024-01-22T02:12:43.821330Z"
    },
    "scrolled": true
   },
   "outputs": [
    {
     "name": "stdout",
     "output_type": "stream",
     "text": [
      "tensor([  0.,   1.,   2.,   3.,   4.,   5.,   6.,   7.,   8.,   9.,  10.,  11.,\n",
      "         12.,  13.,  14.,  15.,  16.,  17.,  18.,  19.,  20.,  21.,  22.,  23.,\n",
      "         24.,  25.,  26.,  27.,  28.,  29.,  30.,  31.,  32.,  33.,  34.,  35.,\n",
      "         36.,  37.,  38.,  39.,  40.,  41.,  42.,  43.,  44.,  45.,  46.,  47.,\n",
      "         48.,  49.,  50.,  51.,  52.,  53.,  54.,  55.,  56.,  57.,  58.,  59.,\n",
      "         60.,  61.,  62.,  63.,  64.,  65.,  66.,  67.,  68.,  69.,  70.,  71.,\n",
      "         72.,  73.,  74.,  75.,  76.,  77.,  78.,  79.,  80.,  81.,  82.,  83.,\n",
      "         84.,  85.,  86.,  87.,  88.,  89.,  90.,  91.,  92.,  93.,  94.,  95.,\n",
      "         96.,  97.,  98.,  99., 100., 101., 102., 103., 104., 105., 106., 107.,\n",
      "        108., 109., 110., 111., 112., 113., 114., 115., 116., 117., 118., 119.,\n",
      "        120., 121., 122., 123., 124., 125., 126., 127., 128., 129., 130., 131.,\n",
      "        132., 133., 134., 135., 136., 137., 138., 139., 140., 141., 142., 143.,\n",
      "        144., 145., 146., 147., 148., 149., 150., 151., 152., 153., 154., 155.,\n",
      "        156., 157., 158., 159., 160., 161., 162., 163., 164., 165., 166., 167.,\n",
      "        168., 169., 170., 171., 172., 173., 174., 175., 176., 177., 178., 179.,\n",
      "        180., 181., 182., 183., 184., 185., 186., 187., 188., 189., 190., 191.,\n",
      "        192., 193., 194., 195., 196., 197., 198., 199., 200., 201., 202., 203.,\n",
      "        204., 205., 206., 207., 208., 209., 210., 211., 212., 213., 214., 215.,\n",
      "        216., 217., 218., 219., 220., 221., 222., 223., 224., 225., 226., 227.,\n",
      "        228., 229., 230., 231., 232., 233., 234., 235., 236., 237., 238., 239.,\n",
      "        240., 241., 242., 243., 244., 245., 246., 247., 248., 249., 250., 251.,\n",
      "        252., 253., 254., 255., 256., 257., 258., 259., 260., 261., 262., 263.,\n",
      "        264., 265., 266., 267., 268., 269., 270., 271., 272., 273., 274., 275.,\n",
      "        276., 277., 278., 279., 280., 281., 282., 283., 284., 285., 286., 287.,\n",
      "        288., 289., 290., 291., 292., 293., 294., 295., 296., 297., 298., 299.,\n",
      "        300.])\n"
     ]
    }
   ],
   "source": [
    "ts = torch.load(os.path.join(simulation_dir, t_dataName+'.pt'))\n",
    "print(ts)"
   ]
  },
  {
   "cell_type": "code",
   "execution_count": 128,
   "id": "d6a8938f",
   "metadata": {
    "ExecuteTime": {
     "end_time": "2024-01-22T01:47:45.704058Z",
     "start_time": "2024-01-22T01:47:45.699421Z"
    }
   },
   "outputs": [],
   "source": [
    "N_batch = x.shape[1]\n",
    "N_t = x.shape[0]"
   ]
  },
  {
   "cell_type": "code",
   "execution_count": 129,
   "id": "b91d39c0",
   "metadata": {
    "ExecuteTime": {
     "end_time": "2024-01-22T01:47:45.720804Z",
     "start_time": "2024-01-22T01:47:45.707496Z"
    }
   },
   "outputs": [],
   "source": [
    "def plot_particles(n, t, flg_track=False):\n",
    "    fig, ax = plt.subplots()\n",
    "    \n",
    "    qscale=1.5\n",
    "    \n",
    "    ax.plot(x[t, n, ct[n]==0, 0], x[t, n, ct[n]==0, 1], 'k.')\n",
    "    ax.plot(x[t, n, ct[n]==1, 0], x[t, n, ct[n]==1, 1], 'r.')\n",
    "    ax.quiver(x[t, n, ct[n]==0, 0], x[t, n, ct[n]==0, 1], torch.cos(x[t, n, ct[n]==0, 2]), torch.sin(x[t, n, ct[n]==0, 2]), \n",
    "             angles='xy', scale_units='xy', scale=qscale, color='k')\n",
    "    ax.quiver(x[t, n, ct[n]==1, 0], x[t, n, ct[n]==1, 1], torch.cos(x[t, n, ct[n]==1, 2]), torch.sin(x[t, n, ct[n]==1, 2]), \n",
    "             angles='xy', scale_units='xy', scale=qscale, color='r')\n",
    "    ax.grid(True)\n",
    "    ax.set_aspect('equal')\n",
    "    xy_mean = torch.mean(x[t, n, :, 0:2], dim=0)\n",
    "    if flg_track:\n",
    "        ax.set_xlim([xy_mean[0]-L/2, xy_mean[0]+L/2])\n",
    "        ax.set_ylim([xy_mean[1]-L/2, xy_mean[1]+L/2])\n",
    "    else:\n",
    "        ax.set_xlim([0, L])\n",
    "        ax.set_ylim([0, L])\n",
    "    #ax.set_xlabel('x')\n",
    "    #ax.set_ylabel('y')\n",
    "    ax.set_title(r'$t = ${:.1f}'.format(ts[t]))\n",
    "    return fig, ax"
   ]
  },
  {
   "cell_type": "code",
   "execution_count": 130,
   "id": "a122dbb9",
   "metadata": {
    "ExecuteTime": {
     "end_time": "2024-01-22T01:47:45.991557Z",
     "start_time": "2024-01-22T01:47:45.723902Z"
    }
   },
   "outputs": [
    {
     "data": {
      "application/vnd.jupyter.widget-view+json": {
       "model_id": "999979e1a6f64fc5827fd26ced0e91df",
       "version_major": 2,
       "version_minor": 0
      },
      "text/plain": [
       "interactive(children=(IntSlider(value=2, description='n', max=5), IntSlider(value=150, description='t', max=30…"
      ]
     },
     "metadata": {},
     "output_type": "display_data"
    }
   ],
   "source": [
    "L = 20 # the size of the domain to be plotted\n",
    "\n",
    "@interact(n=(0, N_batch-1), t = (0, N_t-1))\n",
    "def f(n, t):\n",
    "    fig, ax = plot_particles(n,t)\n",
    "    #ax.set_xlim([6, 9])\n",
    "    #ax.set_ylim([6, 9])"
   ]
  },
  {
   "cell_type": "code",
   "execution_count": 131,
   "id": "d18e20d3",
   "metadata": {},
   "outputs": [],
   "source": [
    "n_batch = 0 # the batch number to be plotted\n",
    "flg_track = False # whether to track the center of particles or not\n",
    "\n",
    "savefig_dir = os.path.join(simulation_dir, 'batch'+str(n_batch))\n",
    "os.makedirs(savefig_dir, exist_ok=True)\n",
    "\n",
    "for t in [1, 75, 200]:\n",
    "    fig, ax = plot_particles(n_batch, t, flg_track)\n",
    "    fig.savefig(os.path.join(savefig_dir, 't{:03}.svg'.format(t)))\n",
    "    plt.clf()\n",
    "    plt.close()"
   ]
  },
  {
   "cell_type": "code",
   "execution_count": 132,
   "id": "16764cf2",
   "metadata": {
    "ExecuteTime": {
     "end_time": "2023-09-10T01:50:32.367523Z",
     "start_time": "2023-09-10T01:49:16.222012Z"
    }
   },
   "outputs": [],
   "source": [
    "#n_batch = 2\n",
    "#flg_track = False\n",
    "\n",
    "#savefig_dir = os.path.join(simulation_dir, 'batch'+str(n_batch))\n",
    "#os.makedirs(savefig_dir, exist_ok=True)\n",
    "\n",
    "for t in range(N_t):\n",
    "    fig, ax = plot_particles(n_batch, t, flg_track)\n",
    "    fig.savefig(os.path.join(savefig_dir, 't{:03}'.format(t)))\n",
    "    plt.clf()\n",
    "    plt.close()"
   ]
  },
  {
   "cell_type": "code",
   "execution_count": null,
   "id": "6329a1db",
   "metadata": {},
   "outputs": [],
   "source": []
  }
 ],
 "metadata": {
  "kernelspec": {
   "display_name": "Python 3 (ipykernel)",
   "language": "python",
   "name": "python3"
  },
  "language_info": {
   "codemirror_mode": {
    "name": "ipython",
    "version": 3
   },
   "file_extension": ".py",
   "mimetype": "text/x-python",
   "name": "python",
   "nbconvert_exporter": "python",
   "pygments_lexer": "ipython3",
   "version": "3.8.10"
  },
  "toc": {
   "base_numbering": 1,
   "nav_menu": {},
   "number_sections": true,
   "sideBar": true,
   "skip_h1_title": false,
   "title_cell": "Table of Contents",
   "title_sidebar": "Contents",
   "toc_cell": false,
   "toc_position": {},
   "toc_section_display": true,
   "toc_window_display": false
  },
  "varInspector": {
   "cols": {
    "lenName": 16,
    "lenType": 16,
    "lenVar": 40
   },
   "kernels_config": {
    "python": {
     "delete_cmd_postfix": "",
     "delete_cmd_prefix": "del ",
     "library": "var_list.py",
     "varRefreshCmd": "print(var_dic_list())"
    },
    "r": {
     "delete_cmd_postfix": ") ",
     "delete_cmd_prefix": "rm(",
     "library": "var_list.r",
     "varRefreshCmd": "cat(var_dic_list()) "
    }
   },
   "types_to_exclude": [
    "module",
    "function",
    "builtin_function_or_method",
    "instance",
    "_Feature"
   ],
   "window_display": false
  }
 },
 "nbformat": 4,
 "nbformat_minor": 5
}

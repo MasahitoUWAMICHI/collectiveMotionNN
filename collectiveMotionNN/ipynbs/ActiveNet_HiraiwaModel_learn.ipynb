{
 "cells": [
  {
   "cell_type": "markdown",
   "metadata": {
    "id": "XyXdjR8yKXXL"
   },
   "source": [
    "install\n",
    "\n",
    "https://self-development.info/pytorch-geometric%E3%81%AE%E3%82%A4%E3%83%B3%E3%82%B9%E3%83%88%E3%83%BC%E3%83%AB%E3%80%90gnn%E5%85%A5%E9%96%80%E3%80%91/"
   ]
  },
  {
   "cell_type": "markdown",
   "metadata": {
    "id": "Rc1HXiHP1uu1"
   },
   "source": [
    "ActiveNet\n",
    "\n",
    "http://arxiv.org/abs/2203.14846"
   ]
  },
  {
   "cell_type": "code",
   "execution_count": 1,
   "metadata": {
    "ExecuteTime": {
     "end_time": "2022-09-20T05:44:12.615898Z",
     "start_time": "2022-09-20T05:44:12.488319Z"
    },
    "colab": {
     "base_uri": "https://localhost:8080/"
    },
    "executionInfo": {
     "elapsed": 7,
     "status": "ok",
     "timestamp": 1662599956118,
     "user": {
      "displayName": "上道 雅仁.",
      "userId": "02361249356017468398"
     },
     "user_tz": -540
    },
    "id": "m0ACbVKAIUXE",
    "outputId": "faa98fba-04b3-4c29-ef4b-d32c798feb63"
   },
   "outputs": [
    {
     "name": "stdout",
     "output_type": "stream",
     "text": [
      "nvcc: NVIDIA (R) Cuda compiler driver\r\n",
      "Copyright (c) 2005-2020 NVIDIA Corporation\r\n",
      "Built on Mon_Oct_12_20:09:46_PDT_2020\r\n",
      "Cuda compilation tools, release 11.1, V11.1.105\r\n",
      "Build cuda_11.1.TC455_06.29190527_0\r\n"
     ]
    }
   ],
   "source": [
    "!nvcc -V"
   ]
  },
  {
   "cell_type": "code",
   "execution_count": 6,
   "metadata": {
    "ExecuteTime": {
     "end_time": "2022-09-20T04:55:34.933334Z",
     "start_time": "2022-09-20T04:55:28.732118Z"
    }
   },
   "outputs": [
    {
     "name": "stdout",
     "output_type": "stream",
     "text": [
      "Requirement already satisfied: pip in /home/uwamichi/.pyenv/versions/3.8.13/lib/python3.8/site-packages (22.0.4)\n",
      "Collecting pip\n",
      "  Downloading pip-22.2.2-py3-none-any.whl (2.0 MB)\n",
      "\u001b[2K     \u001b[38;2;114;156;31m━━━━━━━━━━━━━━━━━━━━━━━━━━━━━━━━━━━━━━━━\u001b[0m \u001b[32m2.0/2.0 MB\u001b[0m \u001b[31m56.6 MB/s\u001b[0m eta \u001b[36m0:00:00\u001b[0mm eta \u001b[36m0:00:01\u001b[0m\n",
      "\u001b[?25hRequirement already satisfied: setuptools in /home/uwamichi/.pyenv/versions/3.8.13/lib/python3.8/site-packages (56.0.0)\n",
      "Collecting setuptools\n",
      "  Downloading setuptools-65.3.0-py3-none-any.whl (1.2 MB)\n",
      "\u001b[2K     \u001b[38;2;114;156;31m━━━━━━━━━━━━━━━━━━━━━━━━━━━━━━━━━━━━━━━━\u001b[0m \u001b[32m1.2/1.2 MB\u001b[0m \u001b[31m73.7 MB/s\u001b[0m eta \u001b[36m0:00:00\u001b[0m\n",
      "\u001b[?25hInstalling collected packages: setuptools, pip\n",
      "  Attempting uninstall: setuptools\n",
      "    Found existing installation: setuptools 56.0.0\n",
      "    Uninstalling setuptools-56.0.0:\n",
      "      Successfully uninstalled setuptools-56.0.0\n",
      "  Attempting uninstall: pip\n",
      "    Found existing installation: pip 22.0.4\n",
      "    Uninstalling pip-22.0.4:\n",
      "      Successfully uninstalled pip-22.0.4\n",
      "Successfully installed pip-22.2.2 setuptools-65.3.0\n"
     ]
    }
   ],
   "source": [
    "!python -m pip install --upgrade pip setuptools"
   ]
  },
  {
   "cell_type": "code",
   "execution_count": 37,
   "metadata": {
    "ExecuteTime": {
     "end_time": "2022-09-20T05:38:39.200425Z",
     "start_time": "2022-09-20T05:38:36.284793Z"
    }
   },
   "outputs": [
    {
     "name": "stdout",
     "output_type": "stream",
     "text": [
      "Requirement already satisfied: torch in /home/uwamichi/.pyenv/versions/3.8.13/lib/python3.8/site-packages (1.12.1)\n",
      "Requirement already satisfied: torchvision in /home/uwamichi/.pyenv/versions/3.8.13/lib/python3.8/site-packages (0.13.0)\n",
      "Collecting torchvision\n",
      "  Downloading torchvision-0.13.1-cp38-cp38-manylinux1_x86_64.whl (19.1 MB)\n",
      "\u001b[2K     \u001b[38;2;114;156;31m━━━━━━━━━━━━━━━━━━━━━━━━━━━━━━━━━━━━━━━━\u001b[0m \u001b[32m19.1/19.1 MB\u001b[0m \u001b[31m55.2 MB/s\u001b[0m eta \u001b[36m0:00:00\u001b[0mm eta \u001b[36m0:00:01\u001b[0m0:01\u001b[0m:01\u001b[0m\n",
      "\u001b[?25hRequirement already satisfied: typing-extensions in /home/uwamichi/.pyenv/versions/3.8.13/lib/python3.8/site-packages (from torch) (4.2.0)\n",
      "Requirement already satisfied: pillow!=8.3.*,>=5.3.0 in /home/uwamichi/.pyenv/versions/3.8.13/lib/python3.8/site-packages (from torchvision) (8.1.0)\n",
      "Requirement already satisfied: requests in /home/uwamichi/.pyenv/versions/3.8.13/lib/python3.8/site-packages (from torchvision) (2.28.0)\n",
      "Requirement already satisfied: numpy in /home/uwamichi/.pyenv/versions/3.8.13/lib/python3.8/site-packages (from torchvision) (1.23.1)\n",
      "Requirement already satisfied: charset-normalizer~=2.0.0 in /home/uwamichi/.pyenv/versions/3.8.13/lib/python3.8/site-packages (from requests->torchvision) (2.0.12)\n",
      "Requirement already satisfied: urllib3<1.27,>=1.21.1 in /home/uwamichi/.pyenv/versions/3.8.13/lib/python3.8/site-packages (from requests->torchvision) (1.26.9)\n",
      "Requirement already satisfied: certifi>=2017.4.17 in /home/uwamichi/.pyenv/versions/3.8.13/lib/python3.8/site-packages (from requests->torchvision) (2022.6.15)\n",
      "Requirement already satisfied: idna<4,>=2.5 in /home/uwamichi/.pyenv/versions/3.8.13/lib/python3.8/site-packages (from requests->torchvision) (3.3)\n",
      "Installing collected packages: torchvision\n",
      "  Attempting uninstall: torchvision\n",
      "    Found existing installation: torchvision 0.13.0\n",
      "    Uninstalling torchvision-0.13.0:\n",
      "      Successfully uninstalled torchvision-0.13.0\n",
      "Successfully installed torchvision-0.13.1\n"
     ]
    }
   ],
   "source": [
    "!pip install --upgrade torch torchvision"
   ]
  },
  {
   "cell_type": "code",
   "execution_count": 2,
   "metadata": {
    "ExecuteTime": {
     "end_time": "2022-09-20T05:44:23.205647Z",
     "start_time": "2022-09-20T05:44:22.371540Z"
    },
    "colab": {
     "base_uri": "https://localhost:8080/"
    },
    "executionInfo": {
     "elapsed": 853,
     "status": "ok",
     "timestamp": 1662599956968,
     "user": {
      "displayName": "上道 雅仁.",
      "userId": "02361249356017468398"
     },
     "user_tz": -540
    },
    "id": "uR7IbSu9JcTV",
    "outputId": "6267c803-12e5-4a2e-f2b3-2cfd91fd9f4b"
   },
   "outputs": [
    {
     "name": "stdout",
     "output_type": "stream",
     "text": [
      "Package                           Version     Editable project location\r\n",
      "--------------------------------- ----------- -------------------------------------\r\n",
      "alembic                           1.8.1\r\n",
      "anyio                             3.6.1\r\n",
      "argon2-cffi                       21.3.0\r\n",
      "argon2-cffi-bindings              21.2.0\r\n",
      "asttokens                         2.0.5\r\n",
      "attrs                             21.4.0\r\n",
      "autopage                          0.5.1\r\n",
      "Babel                             2.10.3\r\n",
      "backcall                          0.2.0\r\n",
      "beautifulsoup4                    4.11.1\r\n",
      "bleach                            5.0.0\r\n",
      "boltons                           21.0.0\r\n",
      "certifi                           2022.6.15\r\n",
      "cffi                              1.15.0\r\n",
      "charset-normalizer                2.0.12\r\n",
      "cliff                             4.0.0\r\n",
      "cmaes                             0.8.2\r\n",
      "cmd2                              2.4.2\r\n",
      "colorlog                          6.7.0\r\n",
      "cupy-cuda111                      11.0.0\r\n",
      "cvxopt                            1.3.0\r\n",
      "cycler                            0.11.0\r\n",
      "dataclasses                       0.6\r\n",
      "debugpy                           1.6.0\r\n",
      "decorator                         5.1.1\r\n",
      "defusedxml                        0.7.1\r\n",
      "entrypoints                       0.4\r\n",
      "executing                         0.8.3\r\n",
      "fastjsonschema                    2.15.3\r\n",
      "fastrlock                         0.8\r\n",
      "fonttools                         4.33.3\r\n",
      "future                            0.18.2\r\n",
      "greenlet                          1.1.3\r\n",
      "gurobipy                          9.1.1\r\n",
      "idna                              3.3\r\n",
      "imagecodecs                       2021.1.11\r\n",
      "imageio                           2.9.0\r\n",
      "imgaug                            0.4.0\r\n",
      "importlib-metadata                4.11.4\r\n",
      "importlib-resources               5.8.0\r\n",
      "ipykernel                         6.15.0\r\n",
      "ipython                           8.4.0\r\n",
      "ipython-genutils                  0.2.0\r\n",
      "ipywidgets                        7.7.0\r\n",
      "jedi                              0.18.1\r\n",
      "Jinja2                            3.1.2\r\n",
      "joblib                            1.1.0\r\n",
      "json5                             0.9.8\r\n",
      "jsonschema                        4.6.0\r\n",
      "jupyter                           1.0.0\r\n",
      "jupyter-client                    7.3.4\r\n",
      "jupyter-console                   6.4.3\r\n",
      "jupyter-contrib-core              0.3.3\r\n",
      "jupyter-contrib-nbextensions      0.5.1\r\n",
      "jupyter-core                      4.10.0\r\n",
      "jupyter-highlight-selected-word   0.2.0\r\n",
      "jupyter-latex-envs                1.4.6\r\n",
      "jupyter-nbextensions-configurator 0.4.1\r\n",
      "jupyter-server                    1.17.1\r\n",
      "jupyterlab                        3.4.3\r\n",
      "jupyterlab-pygments               0.2.2\r\n",
      "jupyterlab-server                 2.14.0\r\n",
      "jupyterlab-widgets                1.1.0\r\n",
      "kit-sch-ge-cell-tracking          1.0.0       /home/uwamichi/git/2021-cell-tracking\r\n",
      "kiwisolver                        1.4.3\r\n",
      "lxml                              4.9.1\r\n",
      "Mako                              1.2.2\r\n",
      "MarkupSafe                        2.1.1\r\n",
      "matplotlib                        3.5.2\r\n",
      "matplotlib-inline                 0.1.3\r\n",
      "mistune                           0.8.4\r\n",
      "nbclassic                         0.3.7\r\n",
      "nbclient                          0.6.4\r\n",
      "nbconvert                         6.5.0\r\n",
      "nbformat                          5.4.0\r\n",
      "nest-asyncio                      1.5.5\r\n",
      "networkx                          2.8.4\r\n",
      "notebook                          6.4.12\r\n",
      "notebook-shim                     0.1.0\r\n",
      "numpy                             1.23.1\r\n",
      "opencv-python                     4.6.0.66\r\n",
      "optuna                            3.0.1\r\n",
      "packaging                         21.3\r\n",
      "pandas                            1.4.2\r\n",
      "pandocfilters                     1.5.0\r\n",
      "parso                             0.8.3\r\n",
      "pbr                               5.10.0\r\n",
      "pexpect                           4.8.0\r\n",
      "pickleshare                       0.7.5\r\n",
      "Pillow                            8.1.0\r\n",
      "pip                               22.2.2\r\n",
      "prettytable                       3.4.1\r\n",
      "prometheus-client                 0.14.1\r\n",
      "prompt-toolkit                    3.0.29\r\n",
      "psutil                            5.9.1\r\n",
      "ptyprocess                        0.7.0\r\n",
      "pure-eval                         0.2.2\r\n",
      "pycparser                         2.21\r\n",
      "Pygments                          2.12.0\r\n",
      "pyparsing                         3.0.9\r\n",
      "pyperclip                         1.8.2\r\n",
      "pyrsistent                        0.18.1\r\n",
      "python-dateutil                   2.8.2\r\n",
      "pytz                              2022.1\r\n",
      "PyWavelets                        1.3.0\r\n",
      "PyYAML                            6.0\r\n",
      "pyzmq                             23.1.0\r\n",
      "qtconsole                         5.3.1\r\n",
      "QtPy                              2.1.0\r\n",
      "requests                          2.28.0\r\n",
      "scikit-image                      0.18.1\r\n",
      "scikit-learn                      1.1.1\r\n",
      "scipy                             1.8.1\r\n",
      "Send2Trash                        1.8.0\r\n",
      "setuptools                        65.3.0\r\n",
      "Shapely                           1.8.2\r\n",
      "six                               1.16.0\r\n",
      "sniffio                           1.2.0\r\n",
      "soupsieve                         2.3.2.post1\r\n",
      "SQLAlchemy                        1.4.41\r\n",
      "stack-data                        0.3.0\r\n",
      "stevedore                         4.0.0\r\n",
      "terminado                         0.15.0\r\n",
      "threadpoolctl                     3.1.0\r\n",
      "tifffile                          2021.1.14\r\n",
      "tinycss2                          1.1.1\r\n",
      "torch                             1.12.1\r\n",
      "torch-cluster                     1.6.0\r\n",
      "torch-geometric                   2.1.0.post1\r\n",
      "torch-scatter                     2.0.9\r\n",
      "torch-sparse                      0.6.15\r\n",
      "torch-spline-conv                 1.2.1\r\n",
      "torchsde                          0.2.5\r\n",
      "torchvision                       0.13.1\r\n",
      "tornado                           6.1\r\n",
      "tqdm                              4.64.1\r\n",
      "traitlets                         5.3.0\r\n",
      "trampoline                        0.1.2\r\n",
      "typing_extensions                 4.2.0\r\n",
      "urllib3                           1.26.9\r\n",
      "wcwidth                           0.2.5\r\n",
      "webencodings                      0.5.1\r\n",
      "websocket-client                  1.3.2\r\n",
      "wheel                             0.37.1\r\n",
      "widgetsnbextension                3.6.0\r\n",
      "zipp                              3.8.0\r\n"
     ]
    }
   ],
   "source": [
    "!pip list"
   ]
  },
  {
   "cell_type": "markdown",
   "metadata": {
    "id": "QJl4e2EvKf0e"
   },
   "source": [
    "check installation code here\n",
    "\n",
    "https://pytorch-geometric.readthedocs.io/en/latest/notes/installation.html"
   ]
  },
  {
   "cell_type": "code",
   "execution_count": 1,
   "metadata": {
    "ExecuteTime": {
     "end_time": "2022-09-20T06:03:09.135963Z",
     "start_time": "2022-09-20T06:03:08.132405Z"
    }
   },
   "outputs": [
    {
     "name": "stdout",
     "output_type": "stream",
     "text": [
      "Found existing installation: torch-scatter 2.0.9\n",
      "Uninstalling torch-scatter-2.0.9:\n",
      "  Successfully uninstalled torch-scatter-2.0.9\n",
      "Found existing installation: torch-sparse 0.6.15\n",
      "Uninstalling torch-sparse-0.6.15:\n",
      "  Successfully uninstalled torch-sparse-0.6.15\n",
      "Found existing installation: torch-cluster 1.6.0\n",
      "Uninstalling torch-cluster-1.6.0:\n",
      "  Successfully uninstalled torch-cluster-1.6.0\n",
      "Found existing installation: torch-spline-conv 1.2.1\n",
      "Uninstalling torch-spline-conv-1.2.1:\n",
      "  Successfully uninstalled torch-spline-conv-1.2.1\n",
      "Found existing installation: torch-geometric 2.1.0.post1\n",
      "Uninstalling torch-geometric-2.1.0.post1:\n",
      "  Successfully uninstalled torch-geometric-2.1.0.post1\n",
      "\u001b[33mWARNING: Skipping wheel as it is not installed.\u001b[0m\u001b[33m\n",
      "\u001b[0m"
     ]
    }
   ],
   "source": [
    "!pip uninstall torch-scatter torch-sparse torch-cluster torch-spline-conv torch-geometric wheel -y"
   ]
  },
  {
   "cell_type": "code",
   "execution_count": 2,
   "metadata": {
    "ExecuteTime": {
     "end_time": "2022-09-20T06:03:19.699554Z",
     "start_time": "2022-09-20T06:03:15.258883Z"
    },
    "colab": {
     "base_uri": "https://localhost:8080/"
    },
    "executionInfo": {
     "elapsed": 13833,
     "status": "ok",
     "timestamp": 1662599970799,
     "user": {
      "displayName": "上道 雅仁.",
      "userId": "02361249356017468398"
     },
     "user_tz": -540
    },
    "id": "f2VYoBMjJl4V",
    "outputId": "22b4b36b-cce6-43a8-d718-282cd387a409"
   },
   "outputs": [
    {
     "name": "stdout",
     "output_type": "stream",
     "text": [
      "Using pip 22.2.2 from /home/uwamichi/.pyenv/versions/3.8.13/lib/python3.8/site-packages/pip (python 3.8)\n",
      "Looking in links: https://data.pyg.org/whl/torch-1.12.0+cu102.html\n",
      "Collecting torch-scatter\n",
      "  Using cached https://data.pyg.org/whl/torch-1.12.0%2Bcu102/torch_scatter-2.0.9-cp38-cp38-linux_x86_64.whl (8.0 MB)\n",
      "Collecting torch-sparse\n",
      "  Using cached https://data.pyg.org/whl/torch-1.12.0%2Bcu102/torch_sparse-0.6.15-cp38-cp38-linux_x86_64.whl (2.9 MB)\n",
      "Collecting torch-cluster\n",
      "  Using cached https://data.pyg.org/whl/torch-1.12.0%2Bcu102/torch_cluster-1.6.0-cp38-cp38-linux_x86_64.whl (1.4 MB)\n",
      "Collecting torch-spline-conv\n",
      "  Using cached https://data.pyg.org/whl/torch-1.12.0%2Bcu102/torch_spline_conv-1.2.1-cp38-cp38-linux_x86_64.whl (633 kB)\n",
      "Collecting torch-geometric\n",
      "  Using cached torch_geometric-2.1.0.post1-py3-none-any.whl\n",
      "Requirement already satisfied: scipy in /home/uwamichi/.pyenv/versions/3.8.13/lib/python3.8/site-packages (from torch-sparse) (1.8.1)\n",
      "Requirement already satisfied: numpy in /home/uwamichi/.pyenv/versions/3.8.13/lib/python3.8/site-packages (from torch-geometric) (1.23.1)\n",
      "Requirement already satisfied: requests in /home/uwamichi/.pyenv/versions/3.8.13/lib/python3.8/site-packages (from torch-geometric) (2.28.0)\n",
      "Requirement already satisfied: pyparsing in /home/uwamichi/.pyenv/versions/3.8.13/lib/python3.8/site-packages (from torch-geometric) (3.0.9)\n",
      "Requirement already satisfied: tqdm in /home/uwamichi/.pyenv/versions/3.8.13/lib/python3.8/site-packages (from torch-geometric) (4.64.1)\n",
      "Requirement already satisfied: scikit-learn in /home/uwamichi/.pyenv/versions/3.8.13/lib/python3.8/site-packages (from torch-geometric) (1.1.1)\n",
      "Requirement already satisfied: jinja2 in /home/uwamichi/.pyenv/versions/3.8.13/lib/python3.8/site-packages (from torch-geometric) (3.1.2)\n",
      "Requirement already satisfied: MarkupSafe>=2.0 in /home/uwamichi/.pyenv/versions/3.8.13/lib/python3.8/site-packages (from jinja2->torch-geometric) (2.1.1)\n",
      "Requirement already satisfied: urllib3<1.27,>=1.21.1 in /home/uwamichi/.pyenv/versions/3.8.13/lib/python3.8/site-packages (from requests->torch-geometric) (1.26.9)\n",
      "Requirement already satisfied: charset-normalizer~=2.0.0 in /home/uwamichi/.pyenv/versions/3.8.13/lib/python3.8/site-packages (from requests->torch-geometric) (2.0.12)\n",
      "Requirement already satisfied: certifi>=2017.4.17 in /home/uwamichi/.pyenv/versions/3.8.13/lib/python3.8/site-packages (from requests->torch-geometric) (2022.6.15)\n",
      "Requirement already satisfied: idna<4,>=2.5 in /home/uwamichi/.pyenv/versions/3.8.13/lib/python3.8/site-packages (from requests->torch-geometric) (3.3)\n",
      "Requirement already satisfied: threadpoolctl>=2.0.0 in /home/uwamichi/.pyenv/versions/3.8.13/lib/python3.8/site-packages (from scikit-learn->torch-geometric) (3.1.0)\n",
      "Requirement already satisfied: joblib>=1.0.0 in /home/uwamichi/.pyenv/versions/3.8.13/lib/python3.8/site-packages (from scikit-learn->torch-geometric) (1.1.0)\n",
      "Installing collected packages: torch-spline-conv, torch-scatter, torch-cluster, torch-sparse, torch-geometric\n",
      "Successfully installed torch-cluster-1.6.0 torch-geometric-2.1.0.post1 torch-scatter-2.0.9 torch-sparse-0.6.15 torch-spline-conv-1.2.1\n"
     ]
    }
   ],
   "source": [
    "!pip install --verbose torch-scatter torch-sparse torch-cluster torch-spline-conv torch-geometric -f https://data.pyg.org/whl/torch-1.12.0+cu102.html"
   ]
  },
  {
   "cell_type": "markdown",
   "metadata": {
    "id": "5Nh3Lnw3LCu1"
   },
   "source": [
    "https://cpp-learning.com/pytorch-geometric/#PyTorch_Geometric"
   ]
  },
  {
   "cell_type": "code",
   "execution_count": 3,
   "metadata": {
    "ExecuteTime": {
     "end_time": "2022-09-20T06:03:35.587668Z",
     "start_time": "2022-09-20T06:03:33.730816Z"
    },
    "id": "E9uJykbqLjst"
   },
   "outputs": [
    {
     "name": "stdout",
     "output_type": "stream",
     "text": [
      "2\n",
      "NVIDIA TITAN V\n",
      "NVIDIA GeForce GTX 1080\n"
     ]
    },
    {
     "ename": "OSError",
     "evalue": "/lib64/libm.so.6: version `GLIBC_2.27' not found (required by /home/uwamichi/.pyenv/versions/3.8.13/lib/python3.8/site-packages/torch_spline_conv/_basis_cuda.so)",
     "output_type": "error",
     "traceback": [
      "\u001b[0;31m---------------------------------------------------------------------------\u001b[0m",
      "\u001b[0;31mOSError\u001b[0m                                   Traceback (most recent call last)",
      "Input \u001b[0;32mIn [3]\u001b[0m, in \u001b[0;36m<cell line: 9>\u001b[0;34m()\u001b[0m\n\u001b[1;32m      6\u001b[0m \u001b[38;5;28mprint\u001b[39m(torch\u001b[38;5;241m.\u001b[39mcuda\u001b[38;5;241m.\u001b[39mget_device_name(torch\u001b[38;5;241m.\u001b[39mdevice(\u001b[38;5;124m'\u001b[39m\u001b[38;5;124mcuda:1\u001b[39m\u001b[38;5;124m'\u001b[39m)))\n\u001b[1;32m      8\u001b[0m \u001b[38;5;28;01mfrom\u001b[39;00m \u001b[38;5;21;01mtorch_geometric\u001b[39;00m\u001b[38;5;21;01m.\u001b[39;00m\u001b[38;5;21;01mdata\u001b[39;00m \u001b[38;5;28;01mimport\u001b[39;00m Data\n\u001b[0;32m----> 9\u001b[0m \u001b[38;5;28;01mimport\u001b[39;00m \u001b[38;5;21;01mtorch_geometric\u001b[39;00m\u001b[38;5;21;01m.\u001b[39;00m\u001b[38;5;21;01mnn\u001b[39;00m \u001b[38;5;28;01mas\u001b[39;00m \u001b[38;5;21;01mgnn\u001b[39;00m\n\u001b[1;32m     10\u001b[0m \u001b[38;5;66;03m#from torch_geometric.datasets import KarateClub\u001b[39;00m\n\u001b[1;32m     11\u001b[0m \u001b[38;5;66;03m# import torch_geometric.transforms as T\u001b[39;00m\n\u001b[1;32m     12\u001b[0m \u001b[38;5;28;01mfrom\u001b[39;00m \u001b[38;5;21;01mtorch_geometric\u001b[39;00m\u001b[38;5;21;01m.\u001b[39;00m\u001b[38;5;21;01mutils\u001b[39;00m \u001b[38;5;28;01mimport\u001b[39;00m to_networkx, add_self_loops, degree\n",
      "File \u001b[0;32m~/.pyenv/versions/3.8.13/lib/python3.8/site-packages/torch_geometric/nn/__init__.py:3\u001b[0m, in \u001b[0;36m<module>\u001b[0;34m\u001b[0m\n\u001b[1;32m      1\u001b[0m \u001b[38;5;28;01mfrom\u001b[39;00m \u001b[38;5;21;01m.\u001b[39;00m\u001b[38;5;21;01mmeta\u001b[39;00m \u001b[38;5;28;01mimport\u001b[39;00m MetaLayer\n\u001b[1;32m      2\u001b[0m \u001b[38;5;28;01mfrom\u001b[39;00m \u001b[38;5;21;01m.\u001b[39;00m\u001b[38;5;21;01mreshape\u001b[39;00m \u001b[38;5;28;01mimport\u001b[39;00m Reshape\n\u001b[0;32m----> 3\u001b[0m \u001b[38;5;28;01mfrom\u001b[39;00m \u001b[38;5;21;01m.\u001b[39;00m\u001b[38;5;21;01msequential\u001b[39;00m \u001b[38;5;28;01mimport\u001b[39;00m Sequential\n\u001b[1;32m      4\u001b[0m \u001b[38;5;28;01mfrom\u001b[39;00m \u001b[38;5;21;01m.\u001b[39;00m\u001b[38;5;21;01mdata_parallel\u001b[39;00m \u001b[38;5;28;01mimport\u001b[39;00m DataParallel\n\u001b[1;32m      5\u001b[0m \u001b[38;5;28;01mfrom\u001b[39;00m \u001b[38;5;21;01m.\u001b[39;00m\u001b[38;5;21;01mto_hetero_transformer\u001b[39;00m \u001b[38;5;28;01mimport\u001b[39;00m to_hetero\n",
      "File \u001b[0;32m~/.pyenv/versions/3.8.13/lib/python3.8/site-packages/torch_geometric/nn/sequential.py:8\u001b[0m, in \u001b[0;36m<module>\u001b[0;34m\u001b[0m\n\u001b[1;32m      4\u001b[0m \u001b[38;5;28;01mfrom\u001b[39;00m \u001b[38;5;21;01muuid\u001b[39;00m \u001b[38;5;28;01mimport\u001b[39;00m uuid1\n\u001b[1;32m      6\u001b[0m \u001b[38;5;28;01mimport\u001b[39;00m \u001b[38;5;21;01mtorch\u001b[39;00m\n\u001b[0;32m----> 8\u001b[0m \u001b[38;5;28;01mfrom\u001b[39;00m \u001b[38;5;21;01mtorch_geometric\u001b[39;00m\u001b[38;5;21;01m.\u001b[39;00m\u001b[38;5;21;01mnn\u001b[39;00m\u001b[38;5;21;01m.\u001b[39;00m\u001b[38;5;21;01mconv\u001b[39;00m\u001b[38;5;21;01m.\u001b[39;00m\u001b[38;5;21;01mutils\u001b[39;00m\u001b[38;5;21;01m.\u001b[39;00m\u001b[38;5;21;01mjit\u001b[39;00m \u001b[38;5;28;01mimport\u001b[39;00m class_from_module_repr\n\u001b[1;32m     11\u001b[0m \u001b[38;5;28;01mdef\u001b[39;00m \u001b[38;5;21mSequential\u001b[39m(\n\u001b[1;32m     12\u001b[0m     input_args: \u001b[38;5;28mstr\u001b[39m,\n\u001b[1;32m     13\u001b[0m     modules: List[Union[Tuple[Callable, \u001b[38;5;28mstr\u001b[39m], Callable]],\n\u001b[1;32m     14\u001b[0m ) \u001b[38;5;241m-\u001b[39m\u001b[38;5;241m>\u001b[39m torch\u001b[38;5;241m.\u001b[39mnn\u001b[38;5;241m.\u001b[39mModule:\n\u001b[1;32m     15\u001b[0m     \u001b[38;5;124mr\u001b[39m\u001b[38;5;124;03m\"\"\"An extension of the :class:`torch.nn.Sequential` container in order to\u001b[39;00m\n\u001b[1;32m     16\u001b[0m \u001b[38;5;124;03m    define a sequential GNN model.\u001b[39;00m\n\u001b[1;32m     17\u001b[0m \u001b[38;5;124;03m    Since GNN operators take in multiple input arguments,\u001b[39;00m\n\u001b[0;32m   (...)\u001b[0m\n\u001b[1;32m     66\u001b[0m \u001b[38;5;124;03m            be passed.\u001b[39;00m\n\u001b[1;32m     67\u001b[0m \u001b[38;5;124;03m    \"\"\"\u001b[39;00m\n",
      "File \u001b[0;32m~/.pyenv/versions/3.8.13/lib/python3.8/site-packages/torch_geometric/nn/conv/__init__.py:25\u001b[0m, in \u001b[0;36m<module>\u001b[0;34m\u001b[0m\n\u001b[1;32m     23\u001b[0m \u001b[38;5;28;01mfrom\u001b[39;00m \u001b[38;5;21;01m.\u001b[39;00m\u001b[38;5;21;01mpoint_conv\u001b[39;00m \u001b[38;5;28;01mimport\u001b[39;00m PointNetConv, PointConv\n\u001b[1;32m     24\u001b[0m \u001b[38;5;28;01mfrom\u001b[39;00m \u001b[38;5;21;01m.\u001b[39;00m\u001b[38;5;21;01mgmm_conv\u001b[39;00m \u001b[38;5;28;01mimport\u001b[39;00m GMMConv\n\u001b[0;32m---> 25\u001b[0m \u001b[38;5;28;01mfrom\u001b[39;00m \u001b[38;5;21;01m.\u001b[39;00m\u001b[38;5;21;01mspline_conv\u001b[39;00m \u001b[38;5;28;01mimport\u001b[39;00m SplineConv\n\u001b[1;32m     26\u001b[0m \u001b[38;5;28;01mfrom\u001b[39;00m \u001b[38;5;21;01m.\u001b[39;00m\u001b[38;5;21;01mnn_conv\u001b[39;00m \u001b[38;5;28;01mimport\u001b[39;00m NNConv, ECConv\n\u001b[1;32m     27\u001b[0m \u001b[38;5;28;01mfrom\u001b[39;00m \u001b[38;5;21;01m.\u001b[39;00m\u001b[38;5;21;01mcg_conv\u001b[39;00m \u001b[38;5;28;01mimport\u001b[39;00m CGConv\n",
      "File \u001b[0;32m~/.pyenv/versions/3.8.13/lib/python3.8/site-packages/torch_geometric/nn/conv/spline_conv.py:16\u001b[0m, in \u001b[0;36m<module>\u001b[0;34m\u001b[0m\n\u001b[1;32m     13\u001b[0m \u001b[38;5;28;01mfrom\u001b[39;00m \u001b[38;5;21;01m.\u001b[39;00m\u001b[38;5;21;01m.\u001b[39;00m\u001b[38;5;21;01minits\u001b[39;00m \u001b[38;5;28;01mimport\u001b[39;00m uniform, zeros\n\u001b[1;32m     15\u001b[0m \u001b[38;5;28;01mtry\u001b[39;00m:\n\u001b[0;32m---> 16\u001b[0m     \u001b[38;5;28;01mfrom\u001b[39;00m \u001b[38;5;21;01mtorch_spline_conv\u001b[39;00m \u001b[38;5;28;01mimport\u001b[39;00m spline_basis, spline_weighting\n\u001b[1;32m     17\u001b[0m \u001b[38;5;28;01mexcept\u001b[39;00m \u001b[38;5;167;01mImportError\u001b[39;00m:\n\u001b[1;32m     18\u001b[0m     spline_basis \u001b[38;5;241m=\u001b[39m \u001b[38;5;28;01mNone\u001b[39;00m\n",
      "File \u001b[0;32m~/.pyenv/versions/3.8.13/lib/python3.8/site-packages/torch_spline_conv/__init__.py:15\u001b[0m, in \u001b[0;36m<module>\u001b[0;34m\u001b[0m\n\u001b[1;32m     13\u001b[0m spec \u001b[38;5;241m=\u001b[39m cuda_spec \u001b[38;5;129;01mor\u001b[39;00m cpu_spec\n\u001b[1;32m     14\u001b[0m \u001b[38;5;28;01mif\u001b[39;00m spec \u001b[38;5;129;01mis\u001b[39;00m \u001b[38;5;129;01mnot\u001b[39;00m \u001b[38;5;28;01mNone\u001b[39;00m:\n\u001b[0;32m---> 15\u001b[0m     \u001b[43mtorch\u001b[49m\u001b[38;5;241;43m.\u001b[39;49m\u001b[43mops\u001b[49m\u001b[38;5;241;43m.\u001b[39;49m\u001b[43mload_library\u001b[49m\u001b[43m(\u001b[49m\u001b[43mspec\u001b[49m\u001b[38;5;241;43m.\u001b[39;49m\u001b[43morigin\u001b[49m\u001b[43m)\u001b[49m\n\u001b[1;32m     16\u001b[0m \u001b[38;5;28;01melse\u001b[39;00m:  \u001b[38;5;66;03m# pragma: no cover\u001b[39;00m\n\u001b[1;32m     17\u001b[0m     \u001b[38;5;28;01mraise\u001b[39;00m \u001b[38;5;167;01mImportError\u001b[39;00m(\u001b[38;5;124mf\u001b[39m\u001b[38;5;124m\"\u001b[39m\u001b[38;5;124mCould not find module \u001b[39m\u001b[38;5;124m'\u001b[39m\u001b[38;5;132;01m{\u001b[39;00mlibrary\u001b[38;5;132;01m}\u001b[39;00m\u001b[38;5;124m_cpu\u001b[39m\u001b[38;5;124m'\u001b[39m\u001b[38;5;124m in \u001b[39m\u001b[38;5;124m\"\u001b[39m\n\u001b[1;32m     18\u001b[0m                       \u001b[38;5;124mf\u001b[39m\u001b[38;5;124m\"\u001b[39m\u001b[38;5;132;01m{\u001b[39;00mosp\u001b[38;5;241m.\u001b[39mdirname(\u001b[38;5;18m__file__\u001b[39m)\u001b[38;5;132;01m}\u001b[39;00m\u001b[38;5;124m\"\u001b[39m)\n",
      "File \u001b[0;32m~/.pyenv/versions/3.8.13/lib/python3.8/site-packages/torch/_ops.py:255\u001b[0m, in \u001b[0;36m_Ops.load_library\u001b[0;34m(self, path)\u001b[0m\n\u001b[1;32m    250\u001b[0m path \u001b[38;5;241m=\u001b[39m torch\u001b[38;5;241m.\u001b[39m_utils_internal\u001b[38;5;241m.\u001b[39mresolve_library_path(path)\n\u001b[1;32m    251\u001b[0m \u001b[38;5;28;01mwith\u001b[39;00m dl_open_guard():\n\u001b[1;32m    252\u001b[0m     \u001b[38;5;66;03m# Import the shared library into the process, thus running its\u001b[39;00m\n\u001b[1;32m    253\u001b[0m     \u001b[38;5;66;03m# static (global) initialization code in order to register custom\u001b[39;00m\n\u001b[1;32m    254\u001b[0m     \u001b[38;5;66;03m# operators with the JIT.\u001b[39;00m\n\u001b[0;32m--> 255\u001b[0m     \u001b[43mctypes\u001b[49m\u001b[38;5;241;43m.\u001b[39;49m\u001b[43mCDLL\u001b[49m\u001b[43m(\u001b[49m\u001b[43mpath\u001b[49m\u001b[43m)\u001b[49m\n\u001b[1;32m    256\u001b[0m \u001b[38;5;28mself\u001b[39m\u001b[38;5;241m.\u001b[39mloaded_libraries\u001b[38;5;241m.\u001b[39madd(path)\n",
      "File \u001b[0;32m~/.pyenv/versions/3.8.13/lib/python3.8/ctypes/__init__.py:373\u001b[0m, in \u001b[0;36mCDLL.__init__\u001b[0;34m(self, name, mode, handle, use_errno, use_last_error, winmode)\u001b[0m\n\u001b[1;32m    370\u001b[0m \u001b[38;5;28mself\u001b[39m\u001b[38;5;241m.\u001b[39m_FuncPtr \u001b[38;5;241m=\u001b[39m _FuncPtr\n\u001b[1;32m    372\u001b[0m \u001b[38;5;28;01mif\u001b[39;00m handle \u001b[38;5;129;01mis\u001b[39;00m \u001b[38;5;28;01mNone\u001b[39;00m:\n\u001b[0;32m--> 373\u001b[0m     \u001b[38;5;28mself\u001b[39m\u001b[38;5;241m.\u001b[39m_handle \u001b[38;5;241m=\u001b[39m \u001b[43m_dlopen\u001b[49m\u001b[43m(\u001b[49m\u001b[38;5;28;43mself\u001b[39;49m\u001b[38;5;241;43m.\u001b[39;49m\u001b[43m_name\u001b[49m\u001b[43m,\u001b[49m\u001b[43m \u001b[49m\u001b[43mmode\u001b[49m\u001b[43m)\u001b[49m\n\u001b[1;32m    374\u001b[0m \u001b[38;5;28;01melse\u001b[39;00m:\n\u001b[1;32m    375\u001b[0m     \u001b[38;5;28mself\u001b[39m\u001b[38;5;241m.\u001b[39m_handle \u001b[38;5;241m=\u001b[39m handle\n",
      "\u001b[0;31mOSError\u001b[0m: /lib64/libm.so.6: version `GLIBC_2.27' not found (required by /home/uwamichi/.pyenv/versions/3.8.13/lib/python3.8/site-packages/torch_spline_conv/_basis_cuda.so)"
     ]
    }
   ],
   "source": [
    "import torch\n",
    "from torch import nn\n",
    "\n",
    "print(torch.cuda.device_count())\n",
    "print(torch.cuda.get_device_name(torch.device('cuda:0')))\n",
    "print(torch.cuda.get_device_name(torch.device('cuda:1')))\n",
    "\n",
    "from torch_geometric.data import Data\n",
    "import torch_geometric.nn as gnn\n",
    "#from torch_geometric.datasets import KarateClub\n",
    "# import torch_geometric.transforms as T\n",
    "from torch_geometric.utils import to_networkx, add_self_loops, degree\n",
    "\n",
    "import networkx as nx\n",
    "from matplotlib import pyplot as plt\n",
    "import numpy as np\n",
    "\n",
    "import os"
   ]
  },
  {
   "cell_type": "code",
   "execution_count": null,
   "metadata": {
    "ExecuteTime": {
     "end_time": "2022-09-20T04:43:25.460854Z",
     "start_time": "2022-09-20T04:43:25.460840Z"
    }
   },
   "outputs": [],
   "source": [
    "def printNPZ(npz):\n",
    "    for kw in npz.files:\n",
    "        print(kw, npz[kw])    "
   ]
  },
  {
   "cell_type": "code",
   "execution_count": null,
   "metadata": {
    "ExecuteTime": {
     "end_time": "2022-09-20T04:43:25.465112Z",
     "start_time": "2022-09-20T04:43:25.465098Z"
    }
   },
   "outputs": [],
   "source": [
    "dirName = '/home/uwamichi/jupyter/'\n",
    "\n",
    "subdirName = 'HiraiwaModel_chem20220916_150816'\n",
    "\n",
    "datadirName = dirName + subdirName + '/'\n",
    "\n",
    "resultdirName = dirName + 'GNN_' + subdirName + '/'\n",
    "os.makedirs(resultdirName, exist_ok=True)\n",
    "\n",
    "params = np.load(datadirName+'params.npz', allow_pickle=True)\n",
    "traj = np.load(datadirName+'result.npz', allow_pickle=True)\n",
    "\n",
    "printNPZ(params)\n",
    "printNPZ(traj)"
   ]
  },
  {
   "cell_type": "code",
   "execution_count": null,
   "metadata": {
    "colab": {
     "base_uri": "https://localhost:8080/"
    },
    "executionInfo": {
     "elapsed": 10,
     "status": "ok",
     "timestamp": 1662599975279,
     "user": {
      "displayName": "上道 雅仁.",
      "userId": "02361249356017468398"
     },
     "user_tz": -540
    },
    "id": "u0WAl11cLCf4",
    "outputId": "9f297aec-845a-4843-9c6e-65e1dbb91e9d"
   },
   "outputs": [
    {
     "name": "stdout",
     "output_type": "stream",
     "text": [
      "Data(x=[3, 2], edge_index=[2, 3], y=[3, 1])\n"
     ]
    }
   ],
   "source": [
    "\n",
    "\n",
    "\n",
    "# ノード\n",
    "src = [0, 1, 2]  # 送信側\n",
    "dst = [1, 2, 1]  # 受信側\n",
    " \n",
    "# エッジ\n",
    "edge_index = torch.tensor([src, dst], dtype=torch.long)\n",
    " \n",
    "# ノードの特徴量\n",
    "x0 = [1, 2]\n",
    "x1 = [3, 4]\n",
    "x2 = [5, 6]\n",
    "x = torch.tensor([x0, x1, x2], dtype=torch.float)\n",
    " \n",
    "# ラベル\n",
    "y0 = [1]\n",
    "y1 = [0]\n",
    "y2 = [1]\n",
    "y = torch.tensor([y0, y1, y2], dtype=torch.float)\n",
    " \n",
    "data = Data(x=x, y=y, edge_index=edge_index)\n",
    "\n",
    "print(data)"
   ]
  },
  {
   "cell_type": "code",
   "execution_count": null,
   "metadata": {
    "colab": {
     "base_uri": "https://localhost:8080/",
     "height": 591
    },
    "executionInfo": {
     "elapsed": 1468,
     "status": "ok",
     "timestamp": 1662599977133,
     "user": {
      "displayName": "上道 雅仁.",
      "userId": "02361249356017468398"
     },
     "user_tz": -540
    },
    "id": "0FJ3N6ppLxo4",
    "outputId": "73ec8900-630b-4738-b641-f9cfdd8eba52"
   },
   "outputs": [
    {
     "data": {
      "image/png": "[encoded data removed]",
      "text/plain": [
       "<Figure size 720x720 with 1 Axes>"
      ]
     },
     "metadata": {},
     "output_type": "display_data"
    }
   ],
   "source": [
    "# networkxのグラフに変換\n",
    "nxg = to_networkx(data)\n",
    "\n",
    "# 可視化のためのページランク計算\n",
    "pr = nx.pagerank(nxg)\n",
    "pr_max = np.array(list(pr.values())).max()\n",
    "\n",
    "# 可視化する際のノード位置\n",
    "draw_pos = nx.spring_layout(nxg, seed=0) \n",
    "\n",
    "# ノードの色設定\n",
    "cmap = plt.get_cmap('tab10')\n",
    "labels = data.y.numpy()\n",
    "colors = [cmap(l) for l in labels]\n",
    "\n",
    "# 図のサイズ\n",
    "plt.figure(figsize=(10, 10))\n",
    "\n",
    "# 描画\n",
    "nx.draw_networkx_nodes(nxg, \n",
    "                       draw_pos,\n",
    "                       node_size=[v / pr_max * 1000 for v in pr.values()],\n",
    "                       node_color=colors, alpha=0.5)\n",
    "nx.draw_networkx_edges(nxg, draw_pos, arrowstyle='-', alpha=0.2)\n",
    "nx.draw_networkx_labels(nxg, draw_pos, font_size=10)\n",
    "\n",
    "plt.title('KarateClub')\n",
    "plt.show()"
   ]
  },
  {
   "cell_type": "code",
   "execution_count": null,
   "metadata": {
    "id": "KCN0_jFpMA3S"
   },
   "outputs": [],
   "source": [
    "class NeuralNet(nn.Module):\n",
    "    def __init__(self, in_channels, out_channels, Nchannels, flgBias=False):\n",
    "        super(NeuralNet, self).__init__()\n",
    "\n",
    "        self.layer1 = nn.Linear(in_channels, Nchannels, bias=flgBias)\n",
    "        self.layer2 = nn.Linear(Nchannels, Nchannels, bias=flgBias)\n",
    "        self.layer3 = nn.Linear(Nchannels, Nchannels, bias=flgBias)\n",
    "        self.layer4 = nn.Linear(Nchannels, out_channels, bias=flgBias)\n",
    "\n",
    "        self.activation = nn.ReLU()\n",
    "\n",
    "    def reset_parameters(self):\n",
    "        self.layer1.reset_parameters()\n",
    "        self.layer2.reset_parameters()\n",
    "        self.layer3.reset_parameters()\n",
    "        self.layer4.reset_parameters()\n",
    "        \n",
    "    def forward(self, x):\n",
    "        out = self.activation(self.layer1(x))\n",
    "        out = self.activation(self.layer2(out))\n",
    "        out = self.activation(self.layer3(out))\n",
    "        out = self.activation(self.layer4(out))\n",
    "\n",
    "        return out\n",
    "\n",
    "class ActiveNet(gnn.MessagePassing):\n",
    "    def __init__(self, in_channels, message_channels, N_out_channels, Nchannels=128):\n",
    "        super().__init__(aggr='add')  # \"Add\" aggregation (Step 5).\n",
    "\n",
    "        self.in_channels = in_channels\n",
    "        self.message_channels = message_channels\n",
    "\n",
    "        self.edgeNN = NeuralNet(1, 1, Nchannels, False)\n",
    "\n",
    "        self.nodeNN = NeuralNet(in_channels.size()[0] + message_channels.size()[0], N_out_channels, Nchannels, False)\n",
    "\n",
    "        self.Normalizer = nn.Softmax(dim=1)\n",
    "\n",
    "        self.reset_parameters()\n",
    "\n",
    "    def reset_parameters(self):\n",
    "        self.edgeNN.reset_parameters()\n",
    "\n",
    "        self.nodeNN.reset_parameters()\n",
    "\n",
    "        #self.bias.data.zero_()\n",
    "\n",
    "    def forward(self, x, edge_index):\n",
    "        # x has shape [N, in_channels] # 8(x, y, vx, vy)\n",
    "        # edge_index has shape [2, E]\n",
    "\n",
    "        # Step 1: Add self-loops to the adjacency matrix.\n",
    "        #edge_index, _ = add_self_loops(edge_index, num_nodes=x.size(0))\n",
    "\n",
    "        # Step 2: Linearly transform node feature matrix.\n",
    "\n",
    "        # Step 3: Compute normalization.\n",
    "        #row, col = edge_index\n",
    "        #deg = degree(col, x.size(0), dtype=x.dtype)\n",
    "        #deg_inv_sqrt = deg.pow(-0.5)\n",
    "        #deg_inv_sqrt[deg_inv_sqrt == float('inf')] = 0\n",
    "        #norm = deg_inv_sqrt[row] * deg_inv_sqrt[col]\n",
    "\n",
    "        # Step 4-5: Start propagating messages.\n",
    "        edge_out = self.propagate(edge_index, x=torch.index_select(x, 1, self.in_channels))\n",
    "\n",
    "        # Step 6: calculate node function\n",
    "        node_in = nn.functional.normalize(torch.index_select(x, 1, self.message_channels), dim=1)\n",
    "        out = self.nodeNN(torch.concat((node_in, edge_out), 1))\n",
    "\n",
    "        # Step 7: normalize output\n",
    "        out = self.Normalizer(out)\n",
    "\n",
    "        return out\n",
    "\n",
    "    def message(self, x_i,  x_j):\n",
    "        # x_i are the nodes to which messages are passed.\n",
    "        # x_j are the nodes from which messages are sent.\n",
    "        # both x_i, x_j have shape [N, in_channels]\n",
    "\n",
    "        # Step 4: calculate edge function from distance\n",
    "        x_ij = x_i - x_j\n",
    "        d_ij = torch.norm(x_ij, dim=1, keepdim=True)\n",
    "        e_ij = nn.functional.normalize(x_ij, dim=1)\n",
    "\n",
    "        d_ij = self.edgeNN(d_ij)\n",
    "\n",
    "        return d_ij * e_ij"
   ]
  },
  {
   "cell_type": "code",
   "execution_count": null,
   "metadata": {
    "colab": {
     "base_uri": "https://localhost:8080/"
    },
    "executionInfo": {
     "elapsed": 6,
     "status": "ok",
     "timestamp": 1662600750333,
     "user": {
      "displayName": "上道 雅仁.",
      "userId": "02361249356017468398"
     },
     "user_tz": -540
    },
    "id": "c_LZDmK3MD1M",
    "outputId": "6f94e541-a142-4daf-c266-f74b272764ec"
   },
   "outputs": [
    {
     "name": "stdout",
     "output_type": "stream",
     "text": [
      "tensor([[0.2499, 0.2499, 0.2499, 0.2503],\n",
      "        [0.2498, 0.2498, 0.2498, 0.2505],\n",
      "        [0.2497, 0.2497, 0.2497, 0.2508],\n",
      "        [0.2499, 0.2498, 0.2498, 0.2506],\n",
      "        [0.2498, 0.2496, 0.2496, 0.2511],\n",
      "        [0.2499, 0.2498, 0.2498, 0.2506],\n",
      "        [0.2496, 0.2497, 0.2496, 0.2511],\n",
      "        [0.2503, 0.2499, 0.2499, 0.2500],\n",
      "        [0.2501, 0.2496, 0.2496, 0.2507],\n",
      "        [0.2496, 0.2495, 0.2495, 0.2514],\n",
      "        [0.2498, 0.2498, 0.2498, 0.2507],\n",
      "        [0.2499, 0.2499, 0.2499, 0.2503],\n",
      "        [0.2503, 0.2493, 0.2493, 0.2510],\n",
      "        [0.2501, 0.2495, 0.2495, 0.2509],\n",
      "        [0.2497, 0.2495, 0.2495, 0.2512],\n",
      "        [0.2492, 0.2492, 0.2492, 0.2524],\n",
      "        [0.2500, 0.2500, 0.2500, 0.2500],\n",
      "        [0.2508, 0.2493, 0.2493, 0.2505],\n",
      "        [0.2500, 0.2500, 0.2500, 0.2500],\n",
      "        [0.2498, 0.2498, 0.2498, 0.2507],\n",
      "        [0.2497, 0.2497, 0.2497, 0.2510],\n",
      "        [0.2496, 0.2496, 0.2496, 0.2512],\n",
      "        [0.2495, 0.2496, 0.2495, 0.2514],\n",
      "        [0.2499, 0.2497, 0.2497, 0.2507],\n",
      "        [0.2504, 0.2496, 0.2496, 0.2504],\n",
      "        [0.2500, 0.2497, 0.2497, 0.2505],\n",
      "        [0.2505, 0.2491, 0.2491, 0.2512],\n",
      "        [0.2504, 0.2493, 0.2495, 0.2509],\n",
      "        [0.2499, 0.2499, 0.2499, 0.2502],\n",
      "        [0.2497, 0.2493, 0.2493, 0.2517],\n",
      "        [0.2509, 0.2493, 0.2493, 0.2506],\n",
      "        [0.2497, 0.2497, 0.2497, 0.2508],\n",
      "        [0.2499, 0.2493, 0.2493, 0.2514],\n",
      "        [0.2510, 0.2490, 0.2490, 0.2510]], grad_fn=<SoftmaxBackward0>)\n"
     ]
    }
   ],
   "source": [
    "# デバイス設定\n",
    "device = torch.device('cuda' if torch.cuda.is_available() else 'cpu')\n",
    "\n",
    "# モデルのインスタンス生成\n",
    "in_channels = torch.tensor(np.arange(34), device=device)\n",
    "message_channels = torch.tensor(np.arange(34), device=device)\n",
    "\n",
    "model = ActiveNet(in_channels, message_channels, N_out_channels=4, Nchannels=128)\n",
    "x = model(data['x'], data['edge_index'])\n",
    "\n",
    "print(x)\n",
    "# print(model)\n",
    "\n",
    "# モデルを訓練モードに設定\n",
    "#model.train()"
   ]
  },
  {
   "cell_type": "code",
   "execution_count": null,
   "metadata": {
    "colab": {
     "base_uri": "https://localhost:8080/"
    },
    "executionInfo": {
     "elapsed": 5,
     "status": "ok",
     "timestamp": 1662600750333,
     "user": {
      "displayName": "上道 雅仁.",
      "userId": "02361249356017468398"
     },
     "user_tz": -540
    },
    "id": "G-CEeK9eqmTJ",
    "outputId": "08086189-8e56-45f0-8986-34b9fefce226"
   },
   "outputs": [
    {
     "data": {
      "text/plain": [
       "['Normalizer',\n",
       " 'T_destination',\n",
       " '__annotations__',\n",
       " '__call__',\n",
       " '__check_input__',\n",
       " '__class__',\n",
       " '__collect__',\n",
       " '__delattr__',\n",
       " '__dict__',\n",
       " '__dir__',\n",
       " '__doc__',\n",
       " '__edge_user_args__',\n",
       " '__eq__',\n",
       " '__format__',\n",
       " '__fused_user_args__',\n",
       " '__ge__',\n",
       " '__getattr__',\n",
       " '__getattribute__',\n",
       " '__gt__',\n",
       " '__hash__',\n",
       " '__init__',\n",
       " '__init_subclass__',\n",
       " '__le__',\n",
       " '__lift__',\n",
       " '__lt__',\n",
       " '__module__',\n",
       " '__ne__',\n",
       " '__new__',\n",
       " '__reduce__',\n",
       " '__reduce_ex__',\n",
       " '__repr__',\n",
       " '__set_size__',\n",
       " '__setattr__',\n",
       " '__setstate__',\n",
       " '__sizeof__',\n",
       " '__str__',\n",
       " '__subclasshook__',\n",
       " '__user_args__',\n",
       " '__weakref__',\n",
       " '_aggregate_forward_hooks',\n",
       " '_aggregate_forward_pre_hooks',\n",
       " '_apply',\n",
       " '_apply_sigmoid',\n",
       " '_backward_hooks',\n",
       " '_buffers',\n",
       " '_call_impl',\n",
       " '_edge_mask',\n",
       " '_edge_update_forward_hooks',\n",
       " '_edge_update_forward_pre_hooks',\n",
       " '_explain',\n",
       " '_forward_hooks',\n",
       " '_forward_pre_hooks',\n",
       " '_get_backward_hooks',\n",
       " '_get_name',\n",
       " '_is_full_backward_hook',\n",
       " '_load_from_state_dict',\n",
       " '_load_state_dict_post_hooks',\n",
       " '_load_state_dict_pre_hooks',\n",
       " '_loop_mask',\n",
       " '_maybe_warn_non_full_backward_hook',\n",
       " '_message_and_aggregate_forward_hooks',\n",
       " '_message_and_aggregate_forward_pre_hooks',\n",
       " '_message_forward_hooks',\n",
       " '_message_forward_pre_hooks',\n",
       " '_modules',\n",
       " '_named_members',\n",
       " '_non_persistent_buffers_set',\n",
       " '_parameters',\n",
       " '_propagate_forward_hooks',\n",
       " '_propagate_forward_pre_hooks',\n",
       " '_register_load_state_dict_pre_hook',\n",
       " '_register_state_dict_hook',\n",
       " '_replicate_for_data_parallel',\n",
       " '_save_to_state_dict',\n",
       " '_slow_forward',\n",
       " '_state_dict_hooks',\n",
       " '_version',\n",
       " 'add_module',\n",
       " 'aggr',\n",
       " 'aggr_module',\n",
       " 'aggregate',\n",
       " 'apply',\n",
       " 'bfloat16',\n",
       " 'buffers',\n",
       " 'children',\n",
       " 'cpu',\n",
       " 'cuda',\n",
       " 'decomposed_layers',\n",
       " 'double',\n",
       " 'dump_patches',\n",
       " 'edgeNN',\n",
       " 'edge_update',\n",
       " 'edge_updater',\n",
       " 'eval',\n",
       " 'explain',\n",
       " 'explain_message',\n",
       " 'extra_repr',\n",
       " 'float',\n",
       " 'flow',\n",
       " 'forward',\n",
       " 'fuse',\n",
       " 'get_buffer',\n",
       " 'get_extra_state',\n",
       " 'get_parameter',\n",
       " 'get_submodule',\n",
       " 'half',\n",
       " 'in_channels',\n",
       " 'inspector',\n",
       " 'ipu',\n",
       " 'jittable',\n",
       " 'load_state_dict',\n",
       " 'message',\n",
       " 'message_and_aggregate',\n",
       " 'message_channels',\n",
       " 'modules',\n",
       " 'named_buffers',\n",
       " 'named_children',\n",
       " 'named_modules',\n",
       " 'named_parameters',\n",
       " 'nodeNN',\n",
       " 'node_dim',\n",
       " 'parameters',\n",
       " 'propagate',\n",
       " 'register_aggregate_forward_hook',\n",
       " 'register_aggregate_forward_pre_hook',\n",
       " 'register_backward_hook',\n",
       " 'register_buffer',\n",
       " 'register_edge_update_forward_hook',\n",
       " 'register_edge_update_forward_pre_hook',\n",
       " 'register_forward_hook',\n",
       " 'register_forward_pre_hook',\n",
       " 'register_full_backward_hook',\n",
       " 'register_load_state_dict_post_hook',\n",
       " 'register_message_and_aggregate_forward_hook',\n",
       " 'register_message_and_aggregate_forward_pre_hook',\n",
       " 'register_message_forward_hook',\n",
       " 'register_message_forward_pre_hook',\n",
       " 'register_module',\n",
       " 'register_parameter',\n",
       " 'register_propagate_forward_hook',\n",
       " 'register_propagate_forward_pre_hook',\n",
       " 'requires_grad_',\n",
       " 'reset_parameters',\n",
       " 'set_extra_state',\n",
       " 'share_memory',\n",
       " 'special_args',\n",
       " 'state_dict',\n",
       " 'to',\n",
       " 'to_empty',\n",
       " 'train',\n",
       " 'training',\n",
       " 'type',\n",
       " 'update',\n",
       " 'xpu',\n",
       " 'zero_grad']"
      ]
     },
     "execution_count": 20,
     "metadata": {},
     "output_type": "execute_result"
    }
   ],
   "source": [
    "dir(model)"
   ]
  },
  {
   "cell_type": "code",
   "execution_count": null,
   "metadata": {
    "colab": {
     "base_uri": "https://localhost:8080/"
    },
    "executionInfo": {
     "elapsed": 1142,
     "status": "ok",
     "timestamp": 1662600751473,
     "user": {
      "displayName": "上道 雅仁.",
      "userId": "02361249356017468398"
     },
     "user_tz": -540
    },
    "id": "YDNJH-EIMHof",
    "outputId": "edd8f7af-5f7c-49a3-e776-ca47f286bca3"
   },
   "outputs": [
    {
     "name": "stdout",
     "output_type": "stream",
     "text": [
      "Epoch 0 | Loss: -0.2500\n",
      "Epoch 1 | Loss: -0.2513\n",
      "Epoch 2 | Loss: -0.2540\n",
      "Epoch 3 | Loss: -0.2620\n",
      "Epoch 4 | Loss: -0.2839\n",
      "Epoch 5 | Loss: -0.3442\n",
      "Epoch 6 | Loss: -0.4436\n",
      "Epoch 7 | Loss: -0.4820\n",
      "Epoch 8 | Loss: -0.5310\n",
      "Epoch 9 | Loss: -0.5384\n",
      "Epoch 10 | Loss: -0.5406\n",
      "Epoch 11 | Loss: -0.5444\n",
      "Epoch 12 | Loss: -0.5517\n",
      "Epoch 13 | Loss: -0.5657\n",
      "Epoch 14 | Loss: -0.5917\n",
      "Epoch 15 | Loss: -0.6364\n",
      "Epoch 16 | Loss: -0.6986\n",
      "Epoch 17 | Loss: -0.7542\n",
      "Epoch 18 | Loss: -0.7740\n",
      "Epoch 19 | Loss: -0.7814\n",
      "Epoch 20 | Loss: -0.7829\n",
      "Epoch 21 | Loss: -0.7849\n",
      "Epoch 22 | Loss: -0.7882\n",
      "Epoch 23 | Loss: -0.7920\n",
      "Epoch 24 | Loss: -0.7950\n",
      "Epoch 25 | Loss: -0.7968\n",
      "Epoch 26 | Loss: -0.7980\n",
      "Epoch 27 | Loss: -0.7990\n",
      "Epoch 28 | Loss: -0.7999\n",
      "Epoch 29 | Loss: -0.8006\n",
      "Epoch 30 | Loss: -0.8011\n",
      "Epoch 31 | Loss: -0.8013\n",
      "Epoch 32 | Loss: -0.8012\n",
      "Epoch 33 | Loss: -0.8012\n",
      "Epoch 34 | Loss: -0.8012\n",
      "Epoch 35 | Loss: -0.8013\n",
      "Epoch 36 | Loss: -0.8014\n",
      "Epoch 37 | Loss: -0.8015\n",
      "Epoch 38 | Loss: -0.8015\n",
      "Epoch 39 | Loss: -0.8016\n",
      "Epoch 40 | Loss: -0.8017\n",
      "Epoch 41 | Loss: -0.8019\n",
      "Epoch 42 | Loss: -0.8021\n",
      "Epoch 43 | Loss: -0.8025\n",
      "Epoch 44 | Loss: -0.8030\n",
      "Epoch 45 | Loss: -0.8037\n",
      "Epoch 46 | Loss: -0.8043\n",
      "Epoch 47 | Loss: -0.8045\n",
      "Epoch 48 | Loss: -0.8055\n",
      "Epoch 49 | Loss: -0.8065\n",
      "Epoch 50 | Loss: -0.8077\n",
      "Epoch 51 | Loss: -0.8090\n",
      "Epoch 52 | Loss: -0.8109\n",
      "Epoch 53 | Loss: -0.8131\n",
      "Epoch 54 | Loss: -0.8163\n",
      "Epoch 55 | Loss: -0.8212\n",
      "Epoch 56 | Loss: -0.8283\n",
      "Epoch 57 | Loss: -0.8394\n",
      "Epoch 58 | Loss: -0.8562\n",
      "Epoch 59 | Loss: -0.8804\n",
      "Epoch 60 | Loss: -0.9093\n",
      "Epoch 61 | Loss: -0.9343\n",
      "Epoch 62 | Loss: -0.9568\n",
      "Epoch 63 | Loss: -0.9765\n",
      "Epoch 64 | Loss: -0.9878\n",
      "Epoch 65 | Loss: -0.9608\n",
      "Epoch 66 | Loss: -0.5065\n",
      "Epoch 67 | Loss: -0.9624\n",
      "Epoch 68 | Loss: -0.9821\n",
      "Epoch 69 | Loss: -0.9664\n",
      "Epoch 70 | Loss: -0.9256\n",
      "Epoch 71 | Loss: -0.9430\n",
      "Epoch 72 | Loss: -0.9598\n",
      "Epoch 73 | Loss: -0.9697\n",
      "Epoch 74 | Loss: -0.9814\n",
      "Epoch 75 | Loss: -0.9823\n",
      "Epoch 76 | Loss: -0.9912\n",
      "Epoch 77 | Loss: -0.9901\n",
      "Epoch 78 | Loss: -0.9951\n",
      "Epoch 79 | Loss: -0.9985\n",
      "Epoch 80 | Loss: -0.9993\n",
      "Epoch 81 | Loss: -0.9996\n",
      "Epoch 82 | Loss: -0.9998\n",
      "Epoch 83 | Loss: -0.9998\n",
      "Epoch 84 | Loss: -0.9999\n",
      "Epoch 85 | Loss: -0.9999\n",
      "Epoch 86 | Loss: -0.9997\n",
      "Epoch 87 | Loss: -0.9997\n",
      "Epoch 88 | Loss: -0.9998\n",
      "Epoch 89 | Loss: -0.9998\n",
      "Epoch 90 | Loss: -0.9998\n",
      "Epoch 91 | Loss: -0.9998\n",
      "Epoch 92 | Loss: -0.9999\n",
      "Epoch 93 | Loss: -0.9999\n",
      "Epoch 94 | Loss: -0.9999\n",
      "Epoch 95 | Loss: -0.9999\n",
      "Epoch 96 | Loss: -0.9999\n",
      "Epoch 97 | Loss: -0.9998\n",
      "Epoch 98 | Loss: -0.9998\n",
      "Epoch 99 | Loss: -0.9998\n",
      "Epoch 100 | Loss: -0.9997\n",
      "Epoch 101 | Loss: -0.9997\n",
      "Epoch 102 | Loss: -0.9996\n",
      "Epoch 103 | Loss: -0.9996\n",
      "Epoch 104 | Loss: -0.9995\n",
      "Epoch 105 | Loss: -0.9995\n",
      "Epoch 106 | Loss: -0.9994\n",
      "Epoch 107 | Loss: -0.9994\n",
      "Epoch 108 | Loss: -0.9994\n",
      "Epoch 109 | Loss: -0.9994\n",
      "Epoch 110 | Loss: -0.9994\n",
      "Epoch 111 | Loss: -0.9994\n",
      "Epoch 112 | Loss: -0.9994\n",
      "Epoch 113 | Loss: -0.9995\n",
      "Epoch 114 | Loss: -0.9995\n",
      "Epoch 115 | Loss: -0.9995\n",
      "Epoch 116 | Loss: -0.9996\n",
      "Epoch 117 | Loss: -0.9996\n",
      "Epoch 118 | Loss: -0.9996\n",
      "Epoch 119 | Loss: -0.9995\n",
      "Epoch 120 | Loss: -0.9995\n",
      "Epoch 121 | Loss: -0.9995\n",
      "Epoch 122 | Loss: -0.9995\n",
      "Epoch 123 | Loss: -0.9994\n",
      "Epoch 124 | Loss: -0.9994\n",
      "Epoch 125 | Loss: -0.9994\n",
      "Epoch 126 | Loss: -0.9993\n",
      "Epoch 127 | Loss: -0.9993\n",
      "Epoch 128 | Loss: -0.9993\n",
      "Epoch 129 | Loss: -0.9993\n",
      "Epoch 130 | Loss: -0.9992\n",
      "Epoch 131 | Loss: -0.9992\n",
      "Epoch 132 | Loss: -0.9992\n",
      "Epoch 133 | Loss: -0.9991\n",
      "Epoch 134 | Loss: -0.9991\n",
      "Epoch 135 | Loss: -0.9991\n",
      "Epoch 136 | Loss: -0.9991\n",
      "Epoch 137 | Loss: -0.9991\n",
      "Epoch 138 | Loss: -0.9991\n",
      "Epoch 139 | Loss: -0.9991\n",
      "Epoch 140 | Loss: -0.9990\n",
      "Epoch 141 | Loss: -0.9990\n",
      "Epoch 142 | Loss: -0.9990\n",
      "Epoch 143 | Loss: -0.9990\n",
      "Epoch 144 | Loss: -0.9990\n",
      "Epoch 145 | Loss: -0.9990\n",
      "Epoch 146 | Loss: -0.9990\n",
      "Epoch 147 | Loss: -0.9990\n",
      "Epoch 148 | Loss: -0.9990\n",
      "Epoch 149 | Loss: -0.9990\n",
      "Epoch 150 | Loss: -0.9989\n",
      "Epoch 151 | Loss: -0.9989\n",
      "Epoch 152 | Loss: -0.9989\n",
      "Epoch 153 | Loss: -0.9989\n",
      "Epoch 154 | Loss: -0.9989\n",
      "Epoch 155 | Loss: -0.9989\n",
      "Epoch 156 | Loss: -0.9989\n",
      "Epoch 157 | Loss: -0.9989\n",
      "Epoch 158 | Loss: -0.9989\n",
      "Epoch 159 | Loss: -0.9989\n",
      "Epoch 160 | Loss: -0.9989\n",
      "Epoch 161 | Loss: -0.9989\n",
      "Epoch 162 | Loss: -0.9989\n",
      "Epoch 163 | Loss: -0.9989\n",
      "Epoch 164 | Loss: -0.9989\n",
      "Epoch 165 | Loss: -0.9989\n",
      "Epoch 166 | Loss: -0.9989\n",
      "Epoch 167 | Loss: -0.9989\n",
      "Epoch 168 | Loss: -0.9989\n",
      "Epoch 169 | Loss: -0.9989\n",
      "Epoch 170 | Loss: -0.9989\n",
      "Epoch 171 | Loss: -0.9989\n",
      "Epoch 172 | Loss: -0.9989\n",
      "Epoch 173 | Loss: -0.9989\n",
      "Epoch 174 | Loss: -0.9989\n",
      "Epoch 175 | Loss: -0.9989\n",
      "Epoch 176 | Loss: -0.9989\n",
      "Epoch 177 | Loss: -0.9989\n",
      "Epoch 178 | Loss: -0.9989\n",
      "Epoch 179 | Loss: -0.9988\n",
      "Epoch 180 | Loss: -0.9988\n",
      "Epoch 181 | Loss: -0.9988\n",
      "Epoch 182 | Loss: -0.9988\n",
      "Epoch 183 | Loss: -0.9988\n",
      "Epoch 184 | Loss: -0.9988\n",
      "Epoch 185 | Loss: -0.9988\n",
      "Epoch 186 | Loss: -0.9988\n",
      "Epoch 187 | Loss: -0.9988\n",
      "Epoch 188 | Loss: -0.9988\n",
      "Epoch 189 | Loss: -0.9988\n",
      "Epoch 190 | Loss: -0.9988\n",
      "Epoch 191 | Loss: -0.9988\n",
      "Epoch 192 | Loss: -0.9988\n",
      "Epoch 193 | Loss: -0.9988\n",
      "Epoch 194 | Loss: -0.9988\n",
      "Epoch 195 | Loss: -0.9987\n",
      "Epoch 196 | Loss: -0.9987\n",
      "Epoch 197 | Loss: -0.9987\n",
      "Epoch 198 | Loss: -0.9987\n",
      "Epoch 199 | Loss: -0.9987\n"
     ]
    }
   ],
   "source": [
    "# input data\n",
    "data = dataset[0]\n",
    "\n",
    "model.train()\n",
    "\n",
    "# optimizer\n",
    "#optimizer = torch.optim.Adam(model.parameters(), lr=1e-2)\n",
    "optimizer = torch.optim.Adam(model.parameters(), lr=1e-2, weight_decay=5e-4)\n",
    "\n",
    "# learnig loop\n",
    "for epoch in range(200):\n",
    "    optimizer.zero_grad()\n",
    "    out = model(data.x, data.edge_index)\n",
    "    loss = nn.functional.nll_loss(out, data.y)\n",
    "    loss.backward()\n",
    "    optimizer.step()\n",
    "    print('Epoch %d | Loss: %.4f' % (epoch, loss.item()))"
   ]
  },
  {
   "cell_type": "code",
   "execution_count": null,
   "metadata": {
    "colab": {
     "base_uri": "https://localhost:8080/"
    },
    "executionInfo": {
     "elapsed": 8,
     "status": "ok",
     "timestamp": 1662600751473,
     "user": {
      "displayName": "上道 雅仁.",
      "userId": "02361249356017468398"
     },
     "user_tz": -540
    },
    "id": "NlqBuDufnd-v",
    "outputId": "9d0a4fde-c363-4482-8992-b44f016393ab"
   },
   "outputs": [
    {
     "name": "stdout",
     "output_type": "stream",
     "text": [
      "tensor([[4.3207e-04, 9.9947e-01, 6.4445e-07, 1.0134e-04],\n",
      "        [5.4213e-04, 9.9923e-01, 1.1297e-06, 2.2629e-04],\n",
      "        [5.2375e-04, 9.9924e-01, 1.4398e-06, 2.3909e-04],\n",
      "        [4.7365e-04, 9.9946e-01, 4.9586e-07, 6.3609e-05],\n",
      "        [2.1672e-05, 1.2653e-03, 1.7058e-05, 9.9870e-01],\n",
      "        [3.9995e-05, 1.5537e-03, 3.1366e-05, 9.9837e-01],\n",
      "        [4.8745e-05, 1.7049e-03, 3.8407e-05, 9.9821e-01],\n",
      "        [4.0697e-04, 9.9951e-01, 4.6641e-07, 8.0078e-05],\n",
      "        [9.9871e-01, 7.3597e-04, 5.4960e-04, 6.2280e-06],\n",
      "        [6.0481e-04, 9.9917e-01, 1.2412e-06, 2.2619e-04],\n",
      "        [3.2429e-05, 1.2149e-03, 2.5163e-05, 9.9873e-01],\n",
      "        [6.2802e-04, 9.9909e-01, 1.7411e-06, 2.8405e-04],\n",
      "        [4.8127e-04, 9.9908e-01, 2.2560e-06, 4.3244e-04],\n",
      "        [6.4551e-04, 9.9907e-01, 1.7946e-06, 2.8002e-04],\n",
      "        [9.9882e-01, 6.9224e-04, 4.7914e-04, 5.3971e-06],\n",
      "        [9.9881e-01, 6.9613e-04, 4.9053e-04, 5.5394e-06],\n",
      "        [2.8364e-05, 1.6196e-03, 2.2620e-05, 9.9833e-01],\n",
      "        [5.4008e-04, 9.9931e-01, 8.6680e-07, 1.5340e-04],\n",
      "        [9.9882e-01, 6.8601e-04, 4.9086e-04, 5.6976e-06],\n",
      "        [5.3010e-04, 9.9927e-01, 1.0668e-06, 2.0385e-04],\n",
      "        [9.9862e-01, 7.9535e-04, 5.8141e-04, 6.6525e-06],\n",
      "        [6.3416e-04, 9.9913e-01, 1.4351e-06, 2.3855e-04],\n",
      "        [9.9880e-01, 7.0811e-04, 4.8233e-04, 5.5976e-06],\n",
      "        [9.9861e-01, 7.8594e-04, 5.9443e-04, 6.6234e-06],\n",
      "        [2.5468e-03, 3.6335e-08, 9.9745e-01, 3.6335e-08],\n",
      "        [2.4160e-03, 3.1018e-08, 9.9758e-01, 3.1018e-08],\n",
      "        [9.9876e-01, 7.0853e-04, 5.2680e-04, 5.9233e-06],\n",
      "        [9.9869e-01, 7.6370e-04, 5.3857e-04, 6.4099e-06],\n",
      "        [2.6727e-03, 4.1806e-08, 9.9733e-01, 4.1806e-08],\n",
      "        [9.9872e-01, 7.5644e-04, 5.1493e-04, 6.0693e-06],\n",
      "        [9.9878e-01, 7.1005e-04, 5.0370e-04, 5.7497e-06],\n",
      "        [2.6330e-03, 4.0288e-08, 9.9737e-01, 4.0288e-08],\n",
      "        [9.9865e-01, 7.8065e-04, 5.6323e-04, 6.3122e-06],\n",
      "        [9.9867e-01, 7.6898e-04, 5.5684e-04, 6.0758e-06]],\n",
      "       grad_fn=<SoftmaxBackward0>)\n"
     ]
    }
   ],
   "source": [
    "print(out)"
   ]
  },
  {
   "cell_type": "code",
   "execution_count": null,
   "metadata": {
    "colab": {
     "base_uri": "https://localhost:8080/"
    },
    "executionInfo": {
     "elapsed": 5,
     "status": "ok",
     "timestamp": 1662600751473,
     "user": {
      "displayName": "上道 雅仁.",
      "userId": "02361249356017468398"
     },
     "user_tz": -540
    },
    "id": "OPNmGFe0MK1a",
    "outputId": "0056b847-431a-4a2b-eb47-950380b8bec5"
   },
   "outputs": [
    {
     "name": "stdout",
     "output_type": "stream",
     "text": [
      "結果： tensor([1, 1, 1, 1, 3, 3, 3, 1, 0, 1, 3, 1, 1, 1, 0, 0, 3, 1, 0, 1, 0, 1, 0, 0,\n",
      "        2, 2, 0, 0, 2, 0, 0, 2, 0, 0])\n",
      "真値： tensor([1, 1, 1, 1, 3, 3, 3, 1, 0, 1, 3, 1, 1, 1, 0, 0, 3, 1, 0, 1, 0, 1, 0, 0,\n",
      "        2, 2, 0, 0, 2, 0, 0, 2, 0, 0])\n"
     ]
    }
   ],
   "source": [
    "data_eval = dataset[0]\n",
    "\n",
    "# モデルを評価モードに設定\n",
    "model.eval()\n",
    "\n",
    "# 推論\n",
    "_, pred = model(data_eval.x, data_eval.edge_index).max(dim=1)\n",
    "\n",
    "print(\"結果：\", pred)\n",
    "print(\"真値：\", data_eval[\"y\"])"
   ]
  },
  {
   "cell_type": "code",
   "execution_count": null,
   "metadata": {
    "colab": {
     "base_uri": "https://localhost:8080/"
    },
    "executionInfo": {
     "elapsed": 259,
     "status": "ok",
     "timestamp": 1662600751729,
     "user": {
      "displayName": "上道 雅仁.",
      "userId": "02361249356017468398"
     },
     "user_tz": -540
    },
    "id": "sYFQGCZ8Mgl1",
    "outputId": "a51225c3-4fdb-4696-e2e1-e4d96189489f"
   },
   "outputs": [
    {
     "name": "stdout",
     "output_type": "stream",
     "text": [
      "NeuralNet(\n",
      "  (layer1): Linear(in_features=1, out_features=128, bias=False)\n",
      "  (layer2): Linear(in_features=128, out_features=128, bias=False)\n",
      "  (layer3): Linear(in_features=128, out_features=128, bias=False)\n",
      "  (layer4): Linear(in_features=128, out_features=1, bias=False)\n",
      "  (activation): ReLU()\n",
      ")\n",
      "NeuralNet(\n",
      "  (layer1): Linear(in_features=68, out_features=128, bias=False)\n",
      "  (layer2): Linear(in_features=128, out_features=128, bias=False)\n",
      "  (layer3): Linear(in_features=128, out_features=128, bias=False)\n",
      "  (layer4): Linear(in_features=128, out_features=4, bias=False)\n",
      "  (activation): ReLU()\n",
      ")\n"
     ]
    }
   ],
   "source": [
    "print(model.edgeNN)\n",
    "print(model.nodeNN)"
   ]
  },
  {
   "cell_type": "code",
   "execution_count": null,
   "metadata": {
    "colab": {
     "base_uri": "https://localhost:8080/"
    },
    "executionInfo": {
     "elapsed": 3,
     "status": "ok",
     "timestamp": 1662602434228,
     "user": {
      "displayName": "上道 雅仁.",
      "userId": "02361249356017468398"
     },
     "user_tz": -540
    },
    "id": "X0GZ-hna8KGP",
    "outputId": "a1f5327d-f4b7-49e4-f755-543ab36da978"
   },
   "outputs": [
    {
     "name": "stdout",
     "output_type": "stream",
     "text": [
      "tensor([[ 0,  1,  2,  3,  4,  5,  6,  7,  8,  9, 10, 11, 12, 13, 14, 15, 16, 17,\n",
      "         18, 19, 20, 21, 22, 23, 24, 25, 26, 27, 28, 29, 30, 31, 32, 33, 34, 35,\n",
      "         36, 37, 38, 39, 40, 41, 42, 43, 44, 45, 46, 47, 48, 49, 50, 51, 52, 53,\n",
      "         54, 55, 56, 57, 58, 59, 60, 61, 62, 63, 64, 65, 66, 67, 68, 69, 70, 71,\n",
      "         72, 73, 74, 75, 76, 77, 78, 79, 80, 81, 82, 83, 84, 85, 86, 87, 88, 89,\n",
      "         90, 91, 92, 93, 94, 95, 96, 97, 98, 99,  0,  1,  2,  3,  4,  5,  6,  7,\n",
      "          8,  9, 10, 11, 12, 13, 14, 15, 16, 17, 18, 19, 20, 21, 22, 23, 24, 25,\n",
      "         26, 27, 28, 29, 30, 31, 32, 33, 34, 35, 36, 37, 38, 39, 40, 41, 42, 43,\n",
      "         44, 45, 46, 47, 48, 49, 50, 51, 52, 53, 54, 55, 56, 57, 58, 59, 60, 61,\n",
      "         62, 63, 64, 65, 66, 67, 68, 69, 70, 71, 72, 73, 74, 75, 76, 77, 78, 79,\n",
      "         80, 81, 82, 83, 84, 85, 86, 87, 88, 89, 90, 91, 92, 93, 94, 95, 96, 97,\n",
      "         98, 99],\n",
      "        [15,  4, 25, 20, 24, 32, 11,  8, 12, 28,  8, 17, 18, 29, 19, 26,  9, 13,\n",
      "         20, 33, 28, 20,  1, 23, 30, 18, 26, 29, 17, 32, 17, 23, 31, 15, 24,  1,\n",
      "         17, 13, 23,  5, 16, 24,  0, 27, 21,  8, 27, 20,  8,  6,  7, 23,  1, 26,\n",
      "         10, 17, 30, 23, 31,  3, 23, 24, 10, 12, 26, 10, 29, 20, 30, 29, 32, 29,\n",
      "         33, 16, 33, 18,  2, 24,  8,  5,  5, 32, 23, 26,  4, 31,  4, 23, 27, 17,\n",
      "          4,  2, 18, 18, 21, 12,  3, 31, 19,  1, 45, 59, 52, 35, 48, 66, 36, 51,\n",
      "         42, 67, 63, 50, 66, 47, 61, 53, 50, 35, 45, 40, 53, 47, 36, 42, 39, 36,\n",
      "         65, 53, 65, 54, 37, 53, 64, 50, 58, 42, 37, 37, 44, 54, 37, 47, 42, 50,\n",
      "         64, 58, 46, 65, 55, 65, 38, 57, 40, 50, 49, 48, 49, 39, 47, 56, 34, 65,\n",
      "         39, 37, 59, 59, 39, 52, 34, 60, 49, 67, 52, 61, 37, 65, 48, 40, 42, 66,\n",
      "         62, 67, 56, 59, 66, 67, 65, 43, 42, 51, 47, 39, 46, 45, 64, 35, 57, 54,\n",
      "         35, 36]])\n",
      "tensor([[0., 0., 0.,  ..., 0., 0., 0.],\n",
      "        [0., 0., 0.,  ..., 0., 0., 0.],\n",
      "        [0., 0., 0.,  ..., 0., 0., 0.],\n",
      "        ...,\n",
      "        [0., 0., 0.,  ..., 0., 0., 0.],\n",
      "        [0., 0., 0.,  ..., 0., 0., 0.],\n",
      "        [0., 1., 0.,  ..., 0., 0., 0.]])\n",
      "tensor([[0.],\n",
      "        [0.],\n",
      "        [0.],\n",
      "        [0.],\n",
      "        [0.],\n",
      "        [0.],\n",
      "        [0.],\n",
      "        [0.],\n",
      "        [0.],\n",
      "        [0.],\n",
      "        [0.],\n",
      "        [0.],\n",
      "        [0.],\n",
      "        [0.],\n",
      "        [0.],\n",
      "        [0.],\n",
      "        [0.],\n",
      "        [0.],\n",
      "        [0.],\n",
      "        [0.],\n",
      "        [0.],\n",
      "        [0.],\n",
      "        [0.],\n",
      "        [0.],\n",
      "        [0.],\n",
      "        [0.],\n",
      "        [0.],\n",
      "        [0.],\n",
      "        [0.],\n",
      "        [0.],\n",
      "        [0.],\n",
      "        [0.],\n",
      "        [0.],\n",
      "        [0.],\n",
      "        [0.],\n",
      "        [0.],\n",
      "        [0.],\n",
      "        [0.],\n",
      "        [0.],\n",
      "        [0.],\n",
      "        [0.],\n",
      "        [0.],\n",
      "        [0.],\n",
      "        [0.],\n",
      "        [0.],\n",
      "        [0.],\n",
      "        [0.],\n",
      "        [0.],\n",
      "        [0.],\n",
      "        [0.],\n",
      "        [0.],\n",
      "        [0.],\n",
      "        [0.],\n",
      "        [0.],\n",
      "        [0.],\n",
      "        [0.],\n",
      "        [0.],\n",
      "        [0.],\n",
      "        [0.],\n",
      "        [0.],\n",
      "        [0.],\n",
      "        [0.],\n",
      "        [0.],\n",
      "        [0.],\n",
      "        [0.],\n",
      "        [0.],\n",
      "        [0.],\n",
      "        [0.],\n",
      "        [0.],\n",
      "        [0.],\n",
      "        [0.],\n",
      "        [0.],\n",
      "        [0.],\n",
      "        [0.],\n",
      "        [0.],\n",
      "        [0.],\n",
      "        [0.],\n",
      "        [0.],\n",
      "        [0.],\n",
      "        [0.],\n",
      "        [0.],\n",
      "        [0.],\n",
      "        [0.],\n",
      "        [0.],\n",
      "        [0.],\n",
      "        [0.],\n",
      "        [0.],\n",
      "        [0.],\n",
      "        [0.],\n",
      "        [0.],\n",
      "        [0.],\n",
      "        [0.],\n",
      "        [0.],\n",
      "        [0.],\n",
      "        [0.],\n",
      "        [0.],\n",
      "        [0.],\n",
      "        [0.],\n",
      "        [0.],\n",
      "        [0.]], grad_fn=<ReluBackward0>)\n"
     ]
    }
   ],
   "source": [
    "Nrands = 100\n",
    "\n",
    "edge_ones = torch.cat((torch.randint(0, 34, [1,Nrands]), torch.randint(34, 68, [1,Nrands])), 1)\n",
    "edge_inds = torch.tensor(np.concatenate((np.arange(Nrands), np.arange(Nrands)), 0)).view(1,-1)\n",
    "edge_inds = torch.concat((edge_inds, edge_ones), 0)\n",
    "print(edge_inds)\n",
    "edge_in = torch.sparse_coo_tensor(edge_inds, torch.ones((2*Nrands,)), (Nrands, 68)).to_dense()\n",
    "print(edge_in)\n",
    "\n",
    "edge_out = model.edgeNN(torch.norm(edge_in, dim=1, keepdim=True))\n",
    "print(edge_out)"
   ]
  },
  {
   "cell_type": "code",
   "execution_count": null,
   "metadata": {
    "colab": {
     "base_uri": "https://localhost:8080/"
    },
    "executionInfo": {
     "elapsed": 3,
     "status": "ok",
     "timestamp": 1662602651732,
     "user": {
      "displayName": "上道 雅仁.",
      "userId": "02361249356017468398"
     },
     "user_tz": -540
    },
    "id": "SPDVqxP51Oz2",
    "outputId": "783a3067-34dc-43ad-c8db-4ff2b8a6e9c6"
   },
   "outputs": [
    {
     "name": "stdout",
     "output_type": "stream",
     "text": [
      "tensor([[4.6190e-04, 9.9943e-01, 7.3870e-07, 1.1186e-04],\n",
      "        [5.7750e-04, 9.9918e-01, 1.2792e-06, 2.4559e-04],\n",
      "        [5.5460e-04, 9.9919e-01, 1.6143e-06, 2.5805e-04],\n",
      "        [5.0500e-04, 9.9942e-01, 5.7205e-07, 7.1327e-05],\n",
      "        [2.3156e-05, 1.2299e-03, 1.8014e-05, 9.9873e-01],\n",
      "        [4.2795e-05, 1.5042e-03, 3.3176e-05, 9.9842e-01],\n",
      "        [5.1875e-05, 1.6507e-03, 4.0408e-05, 9.9826e-01],\n",
      "        [4.3879e-04, 9.9947e-01, 5.3712e-07, 8.8213e-05],\n",
      "        [9.9873e-01, 6.9856e-04, 5.6939e-04, 6.6423e-06],\n",
      "        [6.4639e-04, 9.9911e-01, 1.3931e-06, 2.4085e-04],\n",
      "        [3.4687e-05, 1.1792e-03, 2.6601e-05, 9.9876e-01],\n",
      "        [6.5116e-04, 9.9904e-01, 1.9194e-06, 3.0802e-04],\n",
      "        [4.8832e-04, 9.9905e-01, 2.3839e-06, 4.5547e-04],\n",
      "        [6.6481e-04, 9.9903e-01, 1.9655e-06, 3.0415e-04],\n",
      "        [9.9884e-01, 6.5707e-04, 4.9608e-04, 5.7593e-06],\n",
      "        [9.9883e-01, 6.6237e-04, 5.0640e-04, 5.9142e-06],\n",
      "        [3.0377e-05, 1.5705e-03, 2.3944e-05, 9.9838e-01],\n",
      "        [5.7457e-04, 9.9926e-01, 9.8043e-07, 1.6703e-04],\n",
      "        [9.9883e-01, 6.5335e-04, 5.0647e-04, 6.0849e-06],\n",
      "        [5.6877e-04, 9.9921e-01, 1.2109e-06, 2.1922e-04],\n",
      "        [9.9864e-01, 7.5437e-04, 5.9522e-04, 7.0347e-06],\n",
      "        [6.7350e-04, 9.9907e-01, 1.5992e-06, 2.5343e-04],\n",
      "        [9.9882e-01, 6.7259e-04, 4.9851e-04, 5.9695e-06],\n",
      "        [9.9864e-01, 7.4377e-04, 6.1054e-04, 7.0040e-06],\n",
      "        [2.5032e-03, 3.6064e-08, 9.9750e-01, 3.6064e-08],\n",
      "        [2.3933e-03, 3.1528e-08, 9.9761e-01, 3.1528e-08],\n",
      "        [9.9877e-01, 6.7204e-04, 5.4723e-04, 6.3283e-06],\n",
      "        [9.9872e-01, 7.2148e-04, 5.5124e-04, 6.7480e-06],\n",
      "        [2.6540e-03, 4.2735e-08, 9.9735e-01, 4.2735e-08],\n",
      "        [9.9874e-01, 7.1758e-04, 5.3313e-04, 6.4671e-06],\n",
      "        [9.9880e-01, 6.7330e-04, 5.2144e-04, 6.1282e-06],\n",
      "        [2.6145e-03, 4.1273e-08, 9.9739e-01, 4.1273e-08],\n",
      "        [9.9867e-01, 7.3617e-04, 5.8286e-04, 6.6819e-06],\n",
      "        [9.9869e-01, 7.2756e-04, 5.7212e-04, 6.4282e-06]],\n",
      "       grad_fn=<SoftmaxBackward0>)\n"
     ]
    }
   ],
   "source": [
    "node_in = torch.eye(34, m=68)\n",
    "node_out = model.nodeNN(node_in)\n",
    "print(model.Normalizer(node_out))"
   ]
  },
  {
   "cell_type": "code",
   "execution_count": null,
   "metadata": {
    "id": "F8bQ97JDvCpU"
   },
   "outputs": [],
   "source": [
    "import torch\n",
    "from torch_geometric.data import Data\n",
    " \n",
    "# ノード\n",
    "src = [0, 1, 2]  # 送信側\n",
    "dst = [1, 2, 1]  # 受信側\n",
    " \n",
    "# エッジ\n",
    "edge_index = torch.tensor([src, dst], dtype=torch.long)\n",
    " \n",
    "# ノードの特徴量\n",
    "x0 = [1, 2, 3, 4, 5]\n",
    "x1 = [3, 4, 5, 6, 7]\n",
    "x2 = [5, 6, 7, 8, 9]\n",
    "x = torch.tensor([x0, x1, x2], dtype=torch.float)\n",
    " \n",
    "# ラベル\n",
    "y0 = 1\n",
    "y1 = 0\n",
    "y2 = 1\n",
    "y = torch.tensor([y0, y1, y2], dtype=torch.float)\n",
    " \n",
    "data2 = Data(x=x, y=y, edge_index=edge_index)\n",
    "\n",
    "print(data2)"
   ]
  },
  {
   "cell_type": "code",
   "execution_count": null,
   "metadata": {
    "id": "vlTdjujhvMka"
   },
   "outputs": [],
   "source": [
    "model2 = ActiveNet(5,2)\n",
    "\n",
    "_, pred2 = model2(data2.x, data2.edge_index).max(dim=1)\n",
    "\n",
    "print(\"結果：\", pred2)\n",
    "print(\"真値：\", data2[\"y\"])"
   ]
  },
  {
   "cell_type": "code",
   "execution_count": null,
   "metadata": {
    "id": "dhVC9NHDwvE9"
   },
   "outputs": [],
   "source": [
    "Lx = 20\n",
    "Ly = 20\n",
    "\n",
    "Rt = 1\n",
    "Ra = 1\n",
    "beta = 1\n",
    "\n",
    "periodic = False\n",
    "\n",
    "Nparticles = 100\n",
    "\n",
    "dt = 1\n",
    "\n",
    "\n",
    "\n",
    "def LJ(x, y):\n",
    "    dx = np.expand_dims(x, 1) - np.expand_dims(x, 0)\n",
    "    dy = np.expand_dims(y, 1) - np.expand_dims(y, 0)\n",
    "\n",
    "    if periodic:\n",
    "        dx = dx % Lx\n",
    "        dx[dx>Lx/2] = dx[dx>Lx/2] - Lx\n",
    "        dy = dy % Ly\n",
    "        dy[dy>Ly/2] = dy[dy>Ly/2] - Ly\n",
    "    \n",
    "    dr = (dx**2 + dy**2)**0.5\n",
    "\n",
    "    flg_close = np.logical_and(dr <= Rt, dr > 0)\n",
    "\n",
    "    Radr6 = ((Ra/dr) * flg_close)**6\n",
    "    LJdr = (12 * Radr6**2 - 6 * Radr6)/dr\n",
    "    LJdr[np.isnan(LJdr)] = 0\n",
    "\n",
    "    Fx = np.sum(LJdr * dx, axis=1) * beta\n",
    "    Fy = np.sum(LJdr * dy, axis=1) * beta\n",
    "\n",
    "    return Fx, Fy"
   ]
  }
 ],
 "metadata": {
  "colab": {
   "authorship_tag": "ABX9TyOMOD540i8HqxnVQE0+aD/m",
   "collapsed_sections": [],
   "provenance": []
  },
  "kernelspec": {
   "display_name": "Python 3 (ipykernel)",
   "language": "python",
   "name": "python3"
  },
  "language_info": {
   "codemirror_mode": {
    "name": "ipython",
    "version": 3
   },
   "file_extension": ".py",
   "mimetype": "text/x-python",
   "name": "python",
   "nbconvert_exporter": "python",
   "pygments_lexer": "ipython3",
   "version": "3.8.13"
  },
  "toc": {
   "base_numbering": 1,
   "nav_menu": {},
   "number_sections": true,
   "sideBar": true,
   "skip_h1_title": false,
   "title_cell": "Table of Contents",
   "title_sidebar": "Contents",
   "toc_cell": false,
   "toc_position": {},
   "toc_section_display": true,
   "toc_window_display": false
  },
  "varInspector": {
   "cols": {
    "lenName": 16,
    "lenType": 16,
    "lenVar": 40
   },
   "kernels_config": {
    "python": {
     "delete_cmd_postfix": "",
     "delete_cmd_prefix": "del ",
     "library": "var_list.py",
     "varRefreshCmd": "print(var_dic_list())"
    },
    "r": {
     "delete_cmd_postfix": ") ",
     "delete_cmd_prefix": "rm(",
     "library": "var_list.r",
     "varRefreshCmd": "cat(var_dic_list()) "
    }
   },
   "types_to_exclude": [
    "module",
    "function",
    "builtin_function_or_method",
    "instance",
    "_Feature"
   ],
   "window_display": false
  }
 },
 "nbformat": 4,
 "nbformat_minor": 1
}

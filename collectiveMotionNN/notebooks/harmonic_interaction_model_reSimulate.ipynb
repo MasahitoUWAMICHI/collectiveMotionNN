{
 "cells": [
  {
   "cell_type": "code",
   "execution_count": 1,
   "id": "b86f7f1c",
   "metadata": {
    "ExecuteTime": {
     "end_time": "2023-06-09T04:46:51.019949Z",
     "start_time": "2023-06-09T04:46:51.017350Z"
    }
   },
   "outputs": [],
   "source": [
    "import datetime\n",
    "import os\n",
    "\n",
    "import collectiveMotionNN.examples.springPotentialModel_reSimulate as spmODErs\n",
    "#import argparse"
   ]
  },
  {
   "cell_type": "code",
   "execution_count": 4,
   "id": "7c589206",
   "metadata": {
    "ExecuteTime": {
     "end_time": "2023-06-09T04:56:27.091489Z",
     "start_time": "2023-06-09T04:46:51.021441Z"
    },
    "scrolled": true
   },
   "outputs": [
    {
     "name": "stdout",
     "output_type": "stream",
     "text": [
      "20240201115548\n",
      "{'sigma': None, 'L': 5, 'v0': 0.001, 'N_dim': 2, 'N_particles': 100, 'N_batch': 30, 't_max': 50.0, 'dt_step': 0.01, 'dt_save': 1.0, 'periodic': None, 'device': 'cuda:0', 'save_directory_simulation': 'spmNonParam2DFullODE_scale_20240127231416/reSimulate_20240201115548', 'save_x': 'Spring_ODE_traj.pt', 'save_t': 'Spring_ODE_t_eval.pt', 'save_model': 'Spring_ODE_model.pt', 'isSDE': False, 'method_SDE': 'euler', 'noise_type': 'general', 'sde_type': 'ito', 'bm_levy': 'none', 'method_ODE': 'euler', 'N_batch_edgeUpdate': 41, 'load_directory_learning': 'spmNonParam2DFullODE_scale_20240127231416', 'load_learned_model': 'Spring_nonParametric2Dfull_learned_model.pt', 'save_params': 'Spring_reSimulate_parameters.npy'}\n",
      "Graph(num_nodes=3000, num_edges=297000,\n",
      "      ndata_schemes={'x': Scheme(shape=(2,), dtype=torch.float32), 'v': Scheme(shape=(2,), dtype=torch.float32), 'a': Scheme(shape=(2,), dtype=torch.float32)}\n",
      "      edata_schemes={})\n"
     ]
    }
   ],
   "source": [
    "# Use the date and time to create a unique directory\n",
    "now = datetime.datetime.now()\n",
    "d = now.strftime('%Y%m%d%H%M%S')\n",
    "print(d)\n",
    "\n",
    "load_directory_learning = 'spmNonParam2DFullODE_scale_20240127231416' # directory where the learned model is saved\n",
    "save_directory_simulation = os.path.join(load_directory_learning, 'reSimulate_'+d) # directory where the simulation data will be saved\n",
    "\n",
    "spmODErs.main(device = 'cuda:0', # device\n",
    "            load_directory_learning = load_directory_learning, # directory where the learned model is saved\n",
    "            save_directory_simulation = save_directory_simulation, # directory where the simulation data will be saved\n",
    "            load_learned_model = 'Spring_nonParametric2Dfull_learned_model.pt', # name of the learned model\n",
    "            dt_step = 1e-1, # time step for the simulation\n",
    "            isSDE = False, # if True, the simulation includes noise\n",
    "            L = 5, # size of the square domain where the initial positions of the particles are sampled\n",
    "            v0 = 0.001, # speed of self-propulsion\n",
    "            N_particles = 100, # number of particles\n",
    "            N_batch = 30, # number of batches to simulate\n",
    "            N_batch_edgeUpdate = 41, # the number of graphs whose edges are updated at once; smaller number saves the memory but may slow down the training\n",
    "            )"
   ]
  },
  {
   "cell_type": "code",
   "execution_count": 4,
   "id": "bb3539b1",
   "metadata": {
    "ExecuteTime": {
     "end_time": "2023-06-09T04:56:27.102697Z",
     "start_time": "2023-06-09T04:56:27.095190Z"
    }
   },
   "outputs": [
    {
     "name": "stdout",
     "output_type": "stream",
     "text": [
      "20230912180602\n"
     ]
    }
   ],
   "source": [
    "print(d)"
   ]
  },
  {
   "cell_type": "code",
   "execution_count": null,
   "id": "88a87fe7",
   "metadata": {},
   "outputs": [],
   "source": []
  }
 ],
 "metadata": {
  "kernelspec": {
   "display_name": "Python 3 (ipykernel)",
   "language": "python",
   "name": "python3"
  },
  "language_info": {
   "codemirror_mode": {
    "name": "ipython",
    "version": 3
   },
   "file_extension": ".py",
   "mimetype": "text/x-python",
   "name": "python",
   "nbconvert_exporter": "python",
   "pygments_lexer": "ipython3",
   "version": "3.8.13"
  },
  "toc": {
   "base_numbering": 1,
   "nav_menu": {},
   "number_sections": true,
   "sideBar": true,
   "skip_h1_title": false,
   "title_cell": "Table of Contents",
   "title_sidebar": "Contents",
   "toc_cell": false,
   "toc_position": {},
   "toc_section_display": true,
   "toc_window_display": false
  },
  "varInspector": {
   "cols": {
    "lenName": 16,
    "lenType": 16,
    "lenVar": 40
   },
   "kernels_config": {
    "python": {
     "delete_cmd_postfix": "",
     "delete_cmd_prefix": "del ",
     "library": "var_list.py",
     "varRefreshCmd": "print(var_dic_list())"
    },
    "r": {
     "delete_cmd_postfix": ") ",
     "delete_cmd_prefix": "rm(",
     "library": "var_list.r",
     "varRefreshCmd": "cat(var_dic_list()) "
    }
   },
   "position": {
    "height": "144.017px",
    "left": "701px",
    "right": "20px",
    "top": "231px",
    "width": "350px"
   },
   "types_to_exclude": [
    "module",
    "function",
    "builtin_function_or_method",
    "instance",
    "_Feature"
   ],
   "window_display": false
  }
 },
 "nbformat": 4,
 "nbformat_minor": 5
}

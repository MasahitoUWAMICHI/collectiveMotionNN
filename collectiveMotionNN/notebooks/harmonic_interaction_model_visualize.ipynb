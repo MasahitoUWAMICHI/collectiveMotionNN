{
 "cells": [
  {
   "cell_type": "code",
   "execution_count": 61,
   "id": "f6239a84",
   "metadata": {
    "ExecuteTime": {
     "end_time": "2023-06-05T15:22:41.692383Z",
     "start_time": "2023-06-05T15:22:41.687031Z"
    }
   },
   "outputs": [],
   "source": [
    "import torch\n",
    "from torch import nn\n",
    "\n",
    "import cloudpickle\n",
    "\n",
    "import matplotlib.pyplot as plt\n",
    "from ipywidgets import interact\n",
    "\n",
    "import numpy as np\n",
    "import os"
   ]
  },
  {
   "cell_type": "code",
   "execution_count": 62,
   "id": "3fccc2f7",
   "metadata": {
    "ExecuteTime": {
     "end_time": "2023-06-05T15:22:41.710654Z",
     "start_time": "2023-06-05T15:22:41.705797Z"
    }
   },
   "outputs": [],
   "source": [
    "plt.rcParams['figure.figsize'] = [5,4]\n",
    "plt.rcParams['font.size'] = 16\n",
    "plt.rcParams['savefig.bbox'] = 'standard'#'tight'\n",
    "plt.rcParams['lines.markersize'] = 10\n",
    "plt.rcParams['lines.linewidth'] = 3\n",
    "plt.rcParams['svg.fonttype'] = 'none'\n",
    "plt.rcParams['font.family'] = 'Times New Roman'\n",
    "#plt.rcParams['font.sans-serif'] = ['Arial']\n",
    "plt.rcParams['text.usetex'] = False\n",
    "plt.rcParams['mathtext.fontset'] = 'cm'"
   ]
  },
  {
   "cell_type": "code",
   "execution_count": 63,
   "id": "725a7277",
   "metadata": {
    "ExecuteTime": {
     "end_time": "2023-06-05T15:22:42.201797Z",
     "start_time": "2023-06-05T15:22:41.724367Z"
    }
   },
   "outputs": [
    {
     "data": {
      "text/plain": [
       "[<matplotlib.lines.Line2D at 0x1f391e077f0>]"
      ]
     },
     "execution_count": 63,
     "metadata": {},
     "output_type": "execute_result"
    },
    {
     "data": {
      "image/png": "[encoded data removed]",
      "text/plain": [
       "<Figure size 500x400 with 1 Axes>"
      ]
     },
     "metadata": {},
     "output_type": "display_data"
    }
   ],
   "source": [
    "plt.plot([0, 0], [1, 1], 'o-')"
   ]
  },
  {
   "cell_type": "code",
   "execution_count": 64,
   "id": "867b5bc8",
   "metadata": {
    "ExecuteTime": {
     "end_time": "2023-06-05T15:22:42.238484Z",
     "start_time": "2023-06-05T15:22:42.218454Z"
    }
   },
   "outputs": [],
   "source": [
    "simulation_dir = 'spmNonParam2DFullODE_scale_20230724111627/reSimulate_20230808142159'#'spmSimulate_20240122110123' # the directory where the simulation results are stored\n",
    "dataName = 'Spring_ODE' #'Spring_SDE' # the name of the data file"
   ]
  },
  {
   "cell_type": "code",
   "execution_count": 65,
   "id": "bb0e23a0",
   "metadata": {
    "ExecuteTime": {
     "end_time": "2023-06-05T15:22:42.298101Z",
     "start_time": "2023-06-05T15:22:42.244110Z"
    },
    "scrolled": true
   },
   "outputs": [
    {
     "name": "stdout",
     "output_type": "stream",
     "text": [
      "torch.Size([51, 30, 100, 4])\n",
      "tensor([[[[ 1.5469e+00,  4.1634e+00,  9.0916e-04,  5.1002e-04],\n",
      "          [ 3.9046e+00,  2.1545e+00,  1.7417e-05,  2.8673e-05],\n",
      "          [ 2.2570e+00,  4.2674e+00,  8.3753e-04, -3.3322e-04],\n",
      "          ...,\n",
      "          [ 9.4840e-01,  2.3746e+00,  5.6684e-04, -5.0038e-04],\n",
      "          [ 3.4536e+00,  1.3120e+00,  7.3361e-04,  3.4002e-04],\n",
      "          [ 1.0334e+00,  9.9834e-01, -9.5199e-04, -9.4814e-04]],\n",
      "\n",
      "         [[ 4.2696e+00,  2.5779e+00, -9.1662e-04, -6.3159e-04],\n",
      "          [ 2.0240e+00,  3.2106e-01,  3.0300e-04,  2.5094e-05],\n",
      "          [ 1.2567e+00,  1.6788e+00, -5.3968e-04, -7.0842e-04],\n",
      "          ...,\n",
      "          [ 1.2649e-01,  2.8057e+00, -8.4720e-04, -4.2472e-04],\n",
      "          [ 2.7471e+00,  3.0792e+00, -9.1846e-04, -7.9704e-04],\n",
      "          [ 3.9465e-01,  3.4214e+00, -4.4824e-05,  1.4181e-04]],\n",
      "\n",
      "         [[ 1.8851e+00,  3.4710e+00,  8.5671e-04, -1.6209e-04],\n",
      "          [ 1.1651e+00,  7.4473e-01, -3.7385e-04,  2.0937e-04],\n",
      "          [ 2.7018e+00,  1.1610e+00, -8.0325e-04,  2.5452e-04],\n",
      "          ...,\n",
      "          [ 1.6920e+00,  1.6822e+00, -7.9226e-04, -4.4967e-04],\n",
      "          [ 3.6806e+00,  6.8763e-01,  8.9420e-04, -6.2672e-04],\n",
      "          [ 5.3750e-01,  2.5850e+00, -8.6760e-04,  4.8715e-04]],\n",
      "\n",
      "         ...,\n",
      "\n",
      "         [[ 4.4062e+00,  8.0838e-01,  8.0213e-04,  6.1646e-04],\n",
      "          [ 4.0877e+00,  1.3672e+00,  3.1212e-04,  5.3709e-04],\n",
      "          [ 2.0011e+00,  2.9253e+00, -3.7707e-04,  9.0704e-04],\n",
      "          ...,\n",
      "          [ 3.8370e+00,  1.0073e+00,  4.3462e-04,  3.2288e-05],\n",
      "          [ 3.9963e+00,  1.8089e+00,  3.3841e-05,  7.7538e-04],\n",
      "          [ 3.4403e+00,  2.9697e+00, -1.8558e-04,  5.0758e-04]],\n",
      "\n",
      "         [[ 6.3308e-01,  2.7086e+00, -8.7025e-05, -3.0211e-04],\n",
      "          [ 3.9064e+00,  8.8047e-01, -1.1020e-04,  9.3505e-04],\n",
      "          [ 1.2877e+00,  1.7660e+00,  7.8896e-04, -1.3852e-04],\n",
      "          ...,\n",
      "          [ 4.0242e-01,  2.6510e+00, -8.7167e-04, -2.4715e-04],\n",
      "          [ 2.0922e+00,  2.2599e+00, -5.6659e-04,  1.6560e-04],\n",
      "          [ 4.4904e+00,  2.1070e+00, -5.4383e-04, -6.8462e-04]],\n",
      "\n",
      "         [[ 4.9902e+00,  2.3964e+00,  4.9106e-04, -3.8828e-04],\n",
      "          [ 2.4980e+00,  8.2501e-01, -2.8593e-04,  6.1711e-04],\n",
      "          [ 1.8786e+00,  1.9135e+00, -3.4896e-04,  3.4091e-04],\n",
      "          ...,\n",
      "          [ 4.8427e+00,  4.5047e+00,  1.4343e-04, -8.2880e-04],\n",
      "          [ 3.1430e+00,  9.7241e-01,  9.3365e-04, -1.5650e-04],\n",
      "          [ 2.3568e+00,  1.8355e+00, -3.5785e-05, -2.1605e-04]]],\n",
      "\n",
      "\n",
      "        [[[ 1.5983e+00,  4.0555e+00,  1.0121e-01, -2.1457e-01],\n",
      "          [ 3.8108e+00,  2.1740e+00, -1.8595e-01,  3.8719e-02],\n",
      "          [ 2.2647e+00,  4.1548e+00,  1.4554e-02, -2.2301e-01],\n",
      "          ...,\n",
      "          [ 1.0364e+00,  2.3836e+00,  1.7400e-01,  1.8367e-02],\n",
      "          [ 3.3879e+00,  1.3841e+00, -1.3097e-01,  1.4251e-01],\n",
      "          [ 1.1206e+00,  1.0931e+00,  1.7380e-01,  1.8895e-01]],\n",
      "\n",
      "         [[ 4.1489e+00,  2.5762e+00, -2.3860e-01, -2.7057e-03],\n",
      "          [ 2.0516e+00,  4.6855e-01,  5.5180e-02,  2.9391e-01],\n",
      "          [ 1.3288e+00,  1.7400e+00,  1.4349e-01,  1.2213e-01],\n",
      "          ...,\n",
      "          [ 2.7293e-01,  2.7879e+00,  2.9293e-01, -3.5925e-02],\n",
      "          [ 2.7208e+00,  3.0492e+00, -5.1266e-02, -5.8660e-02],\n",
      "          [ 5.2545e-01,  3.3673e+00,  2.5988e-01, -1.0769e-01]],\n",
      "\n",
      "         [[ 1.9242e+00,  3.4104e+00,  7.6855e-02, -1.1994e-01],\n",
      "          [ 1.2395e+00,  8.5349e-01,  1.4821e-01,  2.1581e-01],\n",
      "          [ 2.6856e+00,  1.2550e+00, -3.1312e-02,  1.8620e-01],\n",
      "          ...,\n",
      "          [ 1.7442e+00,  1.7388e+00,  1.0446e-01,  1.1280e-01],\n",
      "          [ 3.6109e+00,  7.9895e-01, -1.4082e-01,  2.2318e-01],\n",
      "          [ 6.6495e-01,  2.5846e+00,  2.5377e-01, -1.3203e-03]],\n",
      "\n",
      "         ...,\n",
      "\n",
      "         [[ 4.2878e+00,  9.0815e-01, -2.3883e-01,  2.0025e-01],\n",
      "          [ 3.9732e+00,  1.4442e+00, -2.2760e-01,  1.5225e-01],\n",
      "          [ 2.0285e+00,  2.8968e+00,  5.4709e-02, -5.7361e-02],\n",
      "          ...,\n",
      "          [ 3.7366e+00,  1.1061e+00, -1.9961e-01,  1.9595e-01],\n",
      "          [ 3.8887e+00,  1.8567e+00, -2.1341e-01,  9.4095e-02],\n",
      "          [ 3.3695e+00,  2.9387e+00, -1.4031e-01, -6.2008e-02]],\n",
      "\n",
      "         [[ 7.3959e-01,  2.6948e+00,  2.1138e-01, -2.6937e-02],\n",
      "          [ 3.7958e+00,  9.8046e-01, -2.2045e-01,  1.9839e-01],\n",
      "          [ 1.3527e+00,  1.8149e+00,  1.2829e-01,  9.7115e-02],\n",
      "          ...,\n",
      "          [ 5.1865e-01,  2.6381e+00,  2.3272e-01, -2.4631e-02],\n",
      "          [ 2.1026e+00,  2.2747e+00,  2.1387e-02,  2.9357e-02],\n",
      "          [ 4.3408e+00,  2.1291e+00, -2.9762e-01,  4.5373e-02]],\n",
      "\n",
      "         [[ 4.8327e+00,  2.4149e+00, -3.1888e-01,  3.8801e-02],\n",
      "          [ 2.4895e+00,  9.4514e-01, -1.6715e-02,  2.3766e-01],\n",
      "          [ 1.9121e+00,  1.9614e+00,  6.6760e-02,  9.4470e-02],\n",
      "          ...,\n",
      "          [ 4.7040e+00,  4.4005e+00, -2.7931e-01, -2.0831e-01],\n",
      "          [ 3.0937e+00,  1.0805e+00, -9.8722e-02,  2.1444e-01],\n",
      "          [ 2.3598e+00,  1.8902e+00,  5.9823e-03,  1.0851e-01]]],\n",
      "\n",
      "\n",
      "        [[[ 1.7416e+00,  3.7506e+00,  1.8120e-01, -3.8661e-01],\n",
      "          [ 3.5472e+00,  2.2290e+00, -3.3371e-01,  6.9646e-02],\n",
      "          [ 2.2852e+00,  3.8384e+00,  2.5928e-02, -4.0074e-01],\n",
      "          ...,\n",
      "          [ 1.2830e+00,  2.4100e+00,  3.1220e-01,  3.3840e-02],\n",
      "          [ 3.2019e+00,  1.5859e+00, -2.3571e-01,  2.5540e-01],\n",
      "          [ 1.3675e+00,  1.3615e+00,  3.1297e-01,  3.4012e-01]],\n",
      "\n",
      "         [[ 3.8104e+00,  2.5725e+00, -4.2895e-01, -4.7514e-03],\n",
      "          [ 2.1303e+00,  8.8676e-01,  1.0013e-01,  5.3080e-01],\n",
      "          [ 1.5324e+00,  1.9136e+00,  2.5773e-01,  2.1994e-01],\n",
      "          ...,\n",
      "          [ 6.9127e-01,  2.7355e+00,  5.3180e-01, -6.7765e-02],\n",
      "          [ 2.6486e+00,  2.9665e+00, -9.1006e-02, -1.0438e-01],\n",
      "          [ 8.9728e-01,  3.2121e+00,  4.7327e-01, -1.9826e-01]],\n",
      "\n",
      "         [[ 2.0329e+00,  3.2405e+00,  1.3728e-01, -2.1504e-01],\n",
      "          [ 1.4566e+00,  1.1674e+00,  2.8347e-01,  4.0744e-01],\n",
      "          [ 2.6416e+00,  1.5192e+00, -5.5571e-02,  3.3495e-01],\n",
      "          ...,\n",
      "          [ 1.8929e+00,  1.8991e+00,  1.8863e-01,  2.0304e-01],\n",
      "          [ 3.4023e+00,  1.1256e+00, -2.7151e-01,  4.2226e-01],\n",
      "          [ 1.0258e+00,  2.5824e+00,  4.5779e-01, -3.0073e-03]],\n",
      "\n",
      "         ...,\n",
      "\n",
      "         [[ 3.9344e+00,  1.2041e+00, -4.6025e-01,  3.8531e-01],\n",
      "          [ 3.6497e+00,  1.6600e+00, -4.1030e-01,  2.7320e-01],\n",
      "          [ 2.1065e+00,  2.8151e+00,  9.9240e-02, -1.0389e-01],\n",
      "          ...,\n",
      "          [ 3.4529e+00,  1.3844e+00, -3.5980e-01,  3.5271e-01],\n",
      "          [ 3.5856e+00,  1.9899e+00, -3.8425e-01,  1.6856e-01],\n",
      "          [ 3.1705e+00,  2.8505e+00, -2.5199e-01, -1.1173e-01]],\n",
      "\n",
      "         [[ 1.0397e+00,  2.6567e+00,  3.8032e-01, -4.8227e-02],\n",
      "          [ 3.4802e+00,  1.2641e+00, -4.0270e-01,  3.6182e-01],\n",
      "          [ 1.5344e+00,  1.9528e+00,  2.2978e-01,  1.7471e-01],\n",
      "          ...,\n",
      "          [ 8.5208e-01,  2.6046e+00,  4.2467e-01, -4.1502e-02],\n",
      "          [ 2.1335e+00,  2.3164e+00,  3.9686e-02,  5.2841e-02],\n",
      "          [ 3.9159e+00,  2.1953e+00, -5.4024e-01,  8.5287e-02]],\n",
      "\n",
      "         [[ 4.3695e+00,  2.4734e+00, -5.9497e-01,  7.6616e-02],\n",
      "          [ 2.4656e+00,  1.2820e+00, -3.0400e-02,  4.2648e-01],\n",
      "          [ 2.0069e+00,  2.0950e+00,  1.2003e-01,  1.6884e-01],\n",
      "          ...,\n",
      "          [ 4.2906e+00,  4.0941e+00, -5.4221e-01, -4.0150e-01],\n",
      "          [ 2.9533e+00,  1.3847e+00, -1.7807e-01,  3.8541e-01],\n",
      "          [ 2.3683e+00,  2.0441e+00,  1.0730e-02,  1.9492e-01]]],\n",
      "\n",
      "\n",
      "        ...,\n",
      "\n",
      "\n",
      "        [[[ 2.4772e+00,  2.9182e+00, -1.0710e-01, -1.1289e-01],\n",
      "          [ 2.3131e+00,  2.3925e+00, -1.5075e-02, -2.7960e-03],\n",
      "          [ 2.5121e+00,  2.3114e+00,  3.6286e-02,  1.1334e-01],\n",
      "          ...,\n",
      "          [ 2.1695e+00,  1.7862e+00, -4.8948e-02,  1.4379e-01],\n",
      "          [ 1.6162e+00,  2.2299e+00,  1.5267e-02, -1.8048e-02],\n",
      "          [ 3.2981e+00,  4.0738e+00, -2.0684e-01, -3.6069e-01]],\n",
      "\n",
      "         [[ 1.8211e+00,  2.4525e+00,  1.5603e-01,  2.0376e-03],\n",
      "          [ 3.4677e+00,  3.8802e+00, -3.4146e-01, -6.6290e-02],\n",
      "          [ 2.0575e+00,  2.5381e+00,  3.7526e-01, -5.0366e-02],\n",
      "          ...,\n",
      "          [ 3.4718e+00,  2.0782e+00, -5.7543e-01,  2.0971e-01],\n",
      "          [ 1.8456e+00,  3.2419e+00,  1.9082e-01, -1.4647e-01],\n",
      "          [ 3.2114e+00,  2.1563e+00, -6.0884e-01,  1.8147e-01]],\n",
      "\n",
      "         [[ 1.8725e+00,  3.5310e+00, -1.7041e-01, -2.4441e-01],\n",
      "          [ 1.0595e+00,  3.8869e+00, -7.3113e-02, -1.6612e-01],\n",
      "          [ 1.9386e+00,  2.7046e+00, -1.6073e-01, -1.7760e-01],\n",
      "          ...,\n",
      "          [ 2.9544e+00,  2.7240e+00,  1.9376e-01, -2.7937e-01],\n",
      "          [ 2.0327e+00,  2.8674e+00, -1.1849e-01, -1.4746e-01],\n",
      "          [ 2.5024e+00,  2.9134e+00,  7.8704e-02, -2.4165e-01]],\n",
      "\n",
      "         ...,\n",
      "\n",
      "         [[ 1.2111e+00,  3.3227e+00,  5.5356e-01,  1.3092e-01],\n",
      "          [ 1.1034e+00,  3.1945e+00,  5.6715e-01,  1.8118e-01],\n",
      "          [ 3.2252e+00,  2.9345e+00, -5.3166e-01,  4.9226e-02],\n",
      "          ...,\n",
      "          [ 1.2400e+00,  3.1156e+00,  5.7780e-01,  1.7499e-01],\n",
      "          [ 1.4153e+00,  3.3067e+00,  5.8867e-01,  1.6696e-01],\n",
      "          [ 1.5013e+00,  3.0580e+00, -1.1035e-01, -5.8266e-02]],\n",
      "\n",
      "         [[ 2.2740e+00,  3.5291e+00, -3.4298e-01, -1.8943e-01],\n",
      "          [ 8.4150e-01,  2.0432e+00,  6.1053e-01,  1.6150e-01],\n",
      "          [ 2.3745e+00,  2.3830e+00, -1.7576e-01,  7.7582e-02],\n",
      "          ...,\n",
      "          [ 2.3902e+00,  3.4662e+00, -3.1759e-01, -1.5658e-01],\n",
      "          [ 2.1644e+00,  2.9147e+00, -2.2072e-01,  3.4497e-02],\n",
      "          [ 9.1795e-01,  2.6853e+00,  4.7986e-01,  2.6677e-03]],\n",
      "\n",
      "         [[ 9.0221e-01,  3.6424e+00,  5.6471e-01, -5.7343e-01],\n",
      "          [ 8.2339e-01,  3.4529e+00, -1.6843e-02,  5.5183e-02],\n",
      "          [ 3.4884e+00,  2.6994e+00, -1.2434e-01,  3.8892e-02],\n",
      "          ...,\n",
      "          [ 6.0435e-02,  2.0110e+00,  4.8103e-01,  6.3587e-02],\n",
      "          [ 1.0543e+00,  2.9262e+00, -4.5713e-02,  1.2938e-01],\n",
      "          [ 1.7859e+00,  3.1626e+00, -2.1321e-01,  1.0976e-01]]],\n",
      "\n",
      "\n",
      "        [[[ 2.3640e+00,  2.8024e+00, -1.1762e-01, -1.1897e-01],\n",
      "          [ 2.2987e+00,  2.3960e+00, -1.3218e-02,  8.4893e-03],\n",
      "          [ 2.5471e+00,  2.4288e+00,  3.3948e-02,  1.1839e-01],\n",
      "          ...,\n",
      "          [ 2.1268e+00,  1.9477e+00, -3.6211e-02,  1.7461e-01],\n",
      "          [ 1.6369e+00,  2.2287e+00,  2.4783e-02,  1.3477e-02],\n",
      "          [ 3.0330e+00,  3.6346e+00, -3.1521e-01, -5.0553e-01]],\n",
      "\n",
      "         [[ 1.9869e+00,  2.4519e+00,  1.7029e-01, -2.7779e-03],\n",
      "          [ 3.0677e+00,  3.7622e+00, -4.5045e-01, -1.6424e-01],\n",
      "          [ 2.4345e+00,  2.4877e+00,  3.7140e-01, -4.6550e-02],\n",
      "          ...,\n",
      "          [ 2.8617e+00,  2.3114e+00, -6.2789e-01,  2.4948e-01],\n",
      "          [ 2.0496e+00,  3.0970e+00,  2.1227e-01, -1.3884e-01],\n",
      "          [ 2.5699e+00,  2.3605e+00, -6.5860e-01,  2.1921e-01]],\n",
      "\n",
      "         [[ 1.7097e+00,  3.2663e+00, -1.5512e-01, -2.8026e-01],\n",
      "          [ 1.0363e+00,  3.6663e+00,  2.5835e-02, -2.7031e-01],\n",
      "          [ 1.7708e+00,  2.5289e+00, -1.7915e-01, -1.7120e-01],\n",
      "          ...,\n",
      "          [ 3.1351e+00,  2.4461e+00,  1.6535e-01, -2.7259e-01],\n",
      "          [ 1.9079e+00,  2.7204e+00, -1.3403e-01, -1.4203e-01],\n",
      "          [ 2.5841e+00,  2.6718e+00,  8.7356e-02, -2.3737e-01]],\n",
      "\n",
      "         ...,\n",
      "\n",
      "         [[ 1.7905e+00,  3.4416e+00,  5.9673e-01,  1.1021e-01],\n",
      "          [ 1.6937e+00,  3.3604e+00,  6.0516e-01,  1.5427e-01],\n",
      "          [ 2.6700e+00,  2.9834e+00, -5.6624e-01,  5.2371e-02],\n",
      "          ...,\n",
      "          [ 1.8406e+00,  3.2771e+00,  6.1575e-01,  1.5115e-01],\n",
      "          [ 2.0271e+00,  3.4634e+00,  6.2689e-01,  1.4903e-01],\n",
      "          [ 1.4147e+00,  2.9880e+00, -7.2819e-02, -8.1895e-02]],\n",
      "\n",
      "         [[ 1.9284e+00,  3.3197e+00, -3.4354e-01, -2.2140e-01],\n",
      "          [ 1.4822e+00,  2.2048e+00,  6.5517e-01,  1.5632e-01],\n",
      "          [ 2.1936e+00,  2.4509e+00, -1.7838e-01,  5.8276e-02],\n",
      "          ...,\n",
      "          [ 2.0711e+00,  3.2896e+00, -3.1440e-01, -1.8909e-01],\n",
      "          [ 1.9401e+00,  2.9360e+00, -2.2189e-01,  1.1316e-02],\n",
      "          [ 1.4248e+00,  2.6871e+00,  5.1869e-01, -7.1367e-04]],\n",
      "\n",
      "         [[ 1.5198e+00,  3.0431e+00,  6.5661e-01, -6.1825e-01],\n",
      "          [ 8.7210e-01,  3.4795e+00,  1.1052e-01,  9.6266e-04],\n",
      "          [ 3.3223e+00,  2.7489e+00, -2.0277e-01,  5.8652e-02],\n",
      "          ...,\n",
      "          [ 6.5718e-01,  2.1163e+00,  6.9590e-01,  1.4251e-01],\n",
      "          [ 1.0651e+00,  3.0393e+00,  6.3748e-02,  9.5578e-02],\n",
      "          [ 1.5958e+00,  3.2557e+00, -1.6452e-01,  7.3699e-02]]],\n",
      "\n",
      "\n",
      "        [[[ 2.2447e+00,  2.6803e+00, -1.2008e-01, -1.2457e-01],\n",
      "          [ 2.2881e+00,  2.4051e+00, -7.0706e-03,  6.8876e-03],\n",
      "          [ 2.5811e+00,  2.5425e+00,  3.4844e-02,  1.0637e-01],\n",
      "          ...,\n",
      "          [ 2.0967e+00,  2.1253e+00, -2.4259e-02,  1.7566e-01],\n",
      "          [ 1.6633e+00,  2.2503e+00,  2.7028e-02,  2.5981e-02],\n",
      "          [ 2.6897e+00,  3.0925e+00, -3.6098e-01, -5.6550e-01]],\n",
      "\n",
      "         [[ 2.1544e+00,  2.4472e+00,  1.7205e-01, -9.4226e-03],\n",
      "          [ 2.5880e+00,  3.5687e+00, -4.9888e-01, -2.1405e-01],\n",
      "          [ 2.8074e+00,  2.4455e+00,  3.7710e-01, -4.2001e-02],\n",
      "          ...,\n",
      "          [ 2.2435e+00,  2.5626e+00, -6.0008e-01,  2.4828e-01],\n",
      "          [ 2.2648e+00,  2.9727e+00,  2.2108e-01, -1.0706e-01],\n",
      "          [ 1.9145e+00,  2.5813e+00, -6.4948e-01,  2.2034e-01]],\n",
      "\n",
      "         [[ 1.5627e+00,  2.9762e+00, -1.3543e-01, -2.9860e-01],\n",
      "          [ 1.1044e+00,  3.3603e+00,  1.0830e-01, -3.3535e-01],\n",
      "          [ 1.5849e+00,  2.3610e+00, -1.8341e-01, -1.6389e-01],\n",
      "          ...,\n",
      "          [ 3.2765e+00,  2.1837e+00,  1.1154e-01, -2.4920e-01],\n",
      "          [ 1.7646e+00,  2.5827e+00, -1.4556e-01, -1.3451e-01],\n",
      "          [ 2.6781e+00,  2.4384e+00,  9.4716e-02, -2.3221e-01]],\n",
      "\n",
      "         ...,\n",
      "\n",
      "         [[ 2.3920e+00,  3.5465e+00,  6.0254e-01,  9.7151e-02],\n",
      "          [ 2.3019e+00,  3.5089e+00,  6.0785e-01,  1.4161e-01],\n",
      "          [ 2.1095e+00,  3.0428e+00, -5.5337e-01,  6.4964e-02],\n",
      "          ...,\n",
      "          [ 2.4611e+00,  3.4239e+00,  6.2352e-01,  1.4034e-01],\n",
      "          [ 2.6578e+00,  3.6047e+00,  6.3019e-01,  1.2824e-01],\n",
      "          [ 1.3446e+00,  2.8991e+00, -6.7277e-02, -9.2922e-02]],\n",
      "\n",
      "         [[ 1.5880e+00,  3.1010e+00, -3.4145e-01, -2.1174e-01],\n",
      "          [ 2.1326e+00,  2.3465e+00,  6.4937e-01,  1.2486e-01],\n",
      "          [ 2.0267e+00,  2.4990e+00, -1.5405e-01,  3.5243e-02],\n",
      "          ...,\n",
      "          [ 1.7668e+00,  3.1028e+00, -2.9555e-01, -1.7845e-01],\n",
      "          [ 1.7242e+00,  2.9472e+00, -2.1333e-01,  1.4312e-02],\n",
      "          [ 1.9352e+00,  2.6788e+00,  5.0423e-01, -1.6714e-02]],\n",
      "\n",
      "         [[ 2.1847e+00,  2.4186e+00,  6.5801e-01, -6.2352e-01],\n",
      "          [ 1.0343e+00,  3.4599e+00,  2.0883e-01, -3.8764e-02],\n",
      "          [ 3.0964e+00,  2.8130e+00, -2.4345e-01,  6.7960e-02],\n",
      "          ...,\n",
      "          [ 1.4107e+00,  2.2829e+00,  7.9310e-01,  1.8500e-01],\n",
      "          [ 1.1711e+00,  3.1187e+00,  1.4479e-01,  6.2538e-02],\n",
      "          [ 1.4550e+00,  3.3135e+00, -1.1438e-01,  4.2599e-02]]]])\n"
     ]
    }
   ],
   "source": [
    "x = torch.load(os.path.join(simulation_dir, dataName+'_traj.pt'))\n",
    "print(x.shape)\n",
    "print(x)"
   ]
  },
  {
   "cell_type": "code",
   "execution_count": 66,
   "id": "159d1bfd",
   "metadata": {
    "ExecuteTime": {
     "end_time": "2023-06-05T15:22:42.325874Z",
     "start_time": "2023-06-05T15:22:42.303675Z"
    }
   },
   "outputs": [
    {
     "name": "stdout",
     "output_type": "stream",
     "text": [
      "tensor([ 0.,  1.,  2.,  3.,  4.,  5.,  6.,  7.,  8.,  9., 10., 11., 12., 13.,\n",
      "        14., 15., 16., 17., 18., 19., 20., 21., 22., 23., 24., 25., 26., 27.,\n",
      "        28., 29., 30., 31., 32., 33., 34., 35., 36., 37., 38., 39., 40., 41.,\n",
      "        42., 43., 44., 45., 46., 47., 48., 49., 50.])\n"
     ]
    }
   ],
   "source": [
    "ts = torch.load(os.path.join(simulation_dir, dataName+'_t_eval.pt'))\n",
    "print(ts)"
   ]
  },
  {
   "cell_type": "code",
   "execution_count": 67,
   "id": "d6a8938f",
   "metadata": {
    "ExecuteTime": {
     "end_time": "2023-06-05T15:22:42.346144Z",
     "start_time": "2023-06-05T15:22:42.333948Z"
    }
   },
   "outputs": [],
   "source": [
    "N_batch = x.shape[1]\n",
    "N_t = x.shape[0]"
   ]
  },
  {
   "cell_type": "code",
   "execution_count": 68,
   "id": "a122dbb9",
   "metadata": {
    "ExecuteTime": {
     "end_time": "2023-06-05T15:22:42.881006Z",
     "start_time": "2023-06-05T15:22:42.348030Z"
    }
   },
   "outputs": [
    {
     "data": {
      "application/vnd.jupyter.widget-view+json": {
       "model_id": "097a41f5e822417398e48d977f3c88b1",
       "version_major": 2,
       "version_minor": 0
      },
      "text/plain": [
       "interactive(children=(IntSlider(value=14, description='n', max=29), IntSlider(value=25, description='t', max=5…"
      ]
     },
     "metadata": {},
     "output_type": "display_data"
    }
   ],
   "source": [
    "L = 5 # the size of the domain to plot\n",
    "\n",
    "@interact(n=(0, N_batch-1), t = (0, N_t-1))\n",
    "def f(n, t):\n",
    "    fig, ax = plt.subplots()\n",
    "    ax.plot(x[t, n, :, 0], x[t, n, :, 1], 'o')\n",
    "    ax.quiver(x[t, n, :, 0], x[t, n, :, 1], x[t, n, :, 2], x[t, n, :, 3])\n",
    "    ax.grid(True)\n",
    "    ax.set_aspect('equal')\n",
    "    xy_mean = torch.mean(x[t, n, :, 0:2], dim=0)\n",
    "    ax.set_xlim([xy_mean[0]-2.5, xy_mean[0]+2.5])#[0, L])#\n",
    "    ax.set_ylim([xy_mean[1]-2.5, xy_mean[1]+2.5])#[0, L])#\n",
    "    plt.show()"
   ]
  },
  {
   "cell_type": "code",
   "execution_count": 69,
   "id": "b91d39c0",
   "metadata": {
    "ExecuteTime": {
     "end_time": "2023-06-05T15:22:42.895252Z",
     "start_time": "2023-06-05T15:22:42.885664Z"
    }
   },
   "outputs": [],
   "source": [
    "def plot_partcles(n, t, flg_track=False):\n",
    "    fig, ax = plt.subplots()\n",
    "    ax.plot(x[t, n, :, 0], x[t, n, :, 1], 'o')\n",
    "    ax.quiver(x[t, n, :, 0], x[t, n, :, 1], x[t, n, :, 2], x[t, n, :, 3])\n",
    "    ax.grid(True)\n",
    "    ax.set_xticks(np.arange(0, L+1, 1))\n",
    "    ax.set_yticks(np.arange(0, L+1, 1))\n",
    "    ax.set_aspect('equal')\n",
    "    xy_mean = torch.mean(x[t, n, :, 0:2], dim=0)\n",
    "    if flg_track:\n",
    "        ax.set_xlim([xy_mean[0]-2.5, xy_mean[0]+2.5])\n",
    "        ax.set_ylim([xy_mean[1]-2.5, xy_mean[1]+2.5])\n",
    "    else:\n",
    "        ax.set_xlim([0, L])\n",
    "        ax.set_ylim([0, L])\n",
    "    #ax.set_xlabel(r'$x$')\n",
    "    #ax.set_ylabel(r'$y$')\n",
    "    ax.set_title(r'$t = ${:.1f}'.format(ts[t]))\n",
    "    return fig, ax"
   ]
  },
  {
   "cell_type": "code",
   "execution_count": 70,
   "id": "a9c321fb",
   "metadata": {
    "ExecuteTime": {
     "end_time": "2023-06-05T15:22:43.514867Z",
     "start_time": "2023-06-05T15:22:42.899500Z"
    }
   },
   "outputs": [
    {
     "data": {
      "image/png": "[encoded data removed]",
      "text/plain": [
       "<Figure size 500x400 with 1 Axes>"
      ]
     },
     "metadata": {},
     "output_type": "display_data"
    }
   ],
   "source": [
    "fig, ax = plot_partcles(0, 0)"
   ]
  },
  {
   "cell_type": "code",
   "execution_count": 71,
   "id": "15849626",
   "metadata": {},
   "outputs": [],
   "source": [
    "n_batch = 0 # the batch number to plot\n",
    "flg_track = False # whether to track the center of particles or not\n",
    "\n",
    "savefig_dir = os.path.join(simulation_dir, 'batch'+str(n_batch))\n",
    "os.makedirs(savefig_dir, exist_ok=True)\n",
    "\n",
    "for t in range(12):\n",
    "    fig, ax = plot_partcles(n_batch, t, flg_track)\n",
    "    fig.savefig(os.path.join(savefig_dir, 't{:03}.svg'.format(t)))\n",
    "    plt.clf()\n",
    "    plt.close()"
   ]
  },
  {
   "cell_type": "code",
   "execution_count": 72,
   "id": "16764cf2",
   "metadata": {
    "ExecuteTime": {
     "end_time": "2023-06-05T15:22:57.546966Z",
     "start_time": "2023-06-05T15:22:43.517113Z"
    }
   },
   "outputs": [],
   "source": [
    "#n_batch = 0\n",
    "#flg_track = False\n",
    "\n",
    "#savefig_dir = os.path.join(simulation_dir, 'batch'+str(n_batch))\n",
    "#os.makedirs(savefig_dir, exist_ok=True)\n",
    "\n",
    "for t in range(N_t):\n",
    "    fig, ax = plot_partcles(n_batch, t, flg_track)\n",
    "    #ax.set_xlabel(r'$x$')\n",
    "    #ax.set_ylabel(r'$y$')\n",
    "    fig.savefig(os.path.join(savefig_dir, 't{:03}'.format(t)))\n",
    "    plt.clf()\n",
    "    plt.close()"
   ]
  },
  {
   "cell_type": "code",
   "execution_count": null,
   "id": "6329a1db",
   "metadata": {},
   "outputs": [],
   "source": []
  }
 ],
 "metadata": {
  "kernelspec": {
   "display_name": "Python 3 (ipykernel)",
   "language": "python",
   "name": "python3"
  },
  "language_info": {
   "codemirror_mode": {
    "name": "ipython",
    "version": 3
   },
   "file_extension": ".py",
   "mimetype": "text/x-python",
   "name": "python",
   "nbconvert_exporter": "python",
   "pygments_lexer": "ipython3",
   "version": "3.8.10"
  },
  "toc": {
   "base_numbering": 1,
   "nav_menu": {},
   "number_sections": true,
   "sideBar": true,
   "skip_h1_title": false,
   "title_cell": "Table of Contents",
   "title_sidebar": "Contents",
   "toc_cell": false,
   "toc_position": {},
   "toc_section_display": true,
   "toc_window_display": false
  },
  "varInspector": {
   "cols": {
    "lenName": 16,
    "lenType": 16,
    "lenVar": 40
   },
   "kernels_config": {
    "python": {
     "delete_cmd_postfix": "",
     "delete_cmd_prefix": "del ",
     "library": "var_list.py",
     "varRefreshCmd": "print(var_dic_list())"
    },
    "r": {
     "delete_cmd_postfix": ") ",
     "delete_cmd_prefix": "rm(",
     "library": "var_list.r",
     "varRefreshCmd": "cat(var_dic_list()) "
    }
   },
   "types_to_exclude": [
    "module",
    "function",
    "builtin_function_or_method",
    "instance",
    "_Feature"
   ],
   "window_display": false
  }
 },
 "nbformat": 4,
 "nbformat_minor": 5
}
